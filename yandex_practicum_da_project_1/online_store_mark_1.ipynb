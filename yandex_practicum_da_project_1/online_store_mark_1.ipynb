{
 "cells": [
  {
   "cell_type": "markdown",
   "metadata": {},
   "source": [
    "# Описание проекта.  \n",
    "\n",
    "Вы работаете в интернет-магазине «Стримчик», который продаёт по всему миру компьютерные игры. Из открытых источников доступны исторические данные о продажах игр, оценки пользователей и экспертов, жанры и платформы (например, Xbox или PlayStation).  \n",
    " \n",
    "Вам нужно выявить определяющие успешность игры закономерности. Это позволит сделать ставку на потенциально популярный продукт и спланировать рекламные кампании. \n",
    " \n",
    "Перед вами данные до 2016 года. Представим, что сейчас декабрь 2016 г., и вы планируете кампанию на 2017-й. Нужно отработать принцип работы с данными. Неважно, прогнозируете ли вы продажи на 2017 год по данным 2016-го или же 2027-й — по данным 2026 года.  \n",
    " \n",
    "В наборе данных попадается аббревиатура ESRB (Entertainment Software Rating Board) — это ассоциация, определяющая возрастной рейтинг компьютерных игр. ESRB оценивает игровой контент и присваивает ему подходящую возрастную категорию, например, «Для взрослых», «Для детей младшего возраста» или «Для подростков». \n",
    " \n",
    "# Инструкция по выполнению проекта.  \n",
    "\n",
    "**Шаг 1.** Откройте файл с данными и изучите общую информацию\n",
    "Путь к файлу: /datasets/games.csv. Скачать датасет  \n",
    " \n",
    "**Шаг 2.** Подготовьте данные\n",
    " \n",
    "- Замените названия столбцов (приведите к нижнему регистру);  \n",
    "- Преобразуйте данные в нужные типы. Опишите, в каких столбцах заменили тип данных и почему;  \n",
    "- Обработайте пропуски при необходимости:  \n",
    "- Объясните, почему заполнили пропуски определённым образом или почему не стали это делать;  \n",
    "- Опишите причины, которые могли привести к пропускам;  \n",
    "- Обратите внимание на аббревиатуру 'tbd' в столбце с оценкой пользователей. Отдельно разберите это значение и опишите, как его обработать;  \n",
    "- Посчитайте суммарные продажи во всех регионах и запишите их в отдельный столбец.  \n",
    " \n",
    "**Шаг 3.** Проведите исследовательский анализ данных  \n",
    " \n",
    "- Посмотрите, сколько игр выпускалось в разные годы. Важны ли данные за все периоды?  \n",
    "- Посмотрите, как менялись продажи по платформам. Выберите платформы с наибольшими суммарными продажами и постройте распределение по годам. За какой характерный срок появляются новые и исчезают старые платформы?  \n",
    "- Возьмите данные за соответствующий актуальный период. Актуальный период определите самостоятельно в результате исследования предыдущих вопросов. Основной фактор — эти данные помогут построить прогноз на 2017 год.  \n",
    "- Не учитывайте в работе данные за предыдущие годы.  \n",
    "- Какие платформы лидируют по продажам, растут или падают? Выберите несколько потенциально прибыльных платформ.  \n",
    "- Постройте график «ящик с усами» по глобальным продажам игр в разбивке по платформам. Опишите результат.  \n",
    "- Посмотрите, как влияют на продажи внутри одной популярной платформы отзывы пользователей и критиков. Постройте диаграмму рассеяния и посчитайте корреляцию между отзывами и продажами. Сформулируйте выводы.  \n",
    "- Соотнесите выводы с продажами игр на других платформах.  \n",
    "- Посмотрите на общее распределение игр по жанрам. Что можно сказать о самых прибыльных жанрах? Выделяются ли жанры с высокими и низкими продажами?  \n",
    " \n",
    "**Шаг 4.** Составьте портрет пользователя каждого региона  \n",
    " \n",
    "- Определите для пользователя каждого региона (NA, EU, JP):  \n",
    "- Самые популярные платформы (топ-5). Опишите различия в долях продаж.\n",
    "- Самые популярные жанры (топ-5). Поясните разницу.\n",
    "- Влияет ли рейтинг ESRB на продажи в отдельном регионе?  \n",
    " \n",
    "**Шаг 5.** Проверьте гипотезы\n",
    " \n",
    "- Средние пользовательские рейтинги платформ Xbox One и PC одинаковые;\n",
    "- Средние пользовательские рейтинги жанров Action (англ. «действие», экшен-игры) и Sports (англ. «спортивные соревнования») разные.\n",
    "- Задайте самостоятельно пороговое значение alpha.  \n",
    "Поясните:\n",
    "- Как вы сформулировали нулевую и альтернативную гипотезы;\n",
    "- Какой критерий применили для проверки гипотез и почему.  \n",
    " \n",
    "**Шаг 6.** Напишите общий вывод  \n",
    " \n",
    "*Оформление:* Выполните задание в Jupyter Notebook. Заполните программный код в ячейках типа code, текстовые пояснения — в ячейках типа markdown. Примените форматирование и заголовки. \n",
    "\n",
    "# Описание данных\n",
    " \n",
    "Name — название игры  \n",
    "Platform — платформа  \n",
    "Year_of_Release — год выпуска  \n",
    "Genre — жанр игры  \n",
    "NA_sales — продажи в Северной Америке (миллионы проданных копий)  \n",
    "EU_sales — продажи в Европе (миллионы проданных копий)  \n",
    "JP_sales — продажи в Японии (миллионы проданных копий)  \n",
    "Other_sales — продажи в других странах (миллионы проданных копий)  \n",
    "Critic_Score — оценка критиков (максимум 100)  \n",
    "User_Score — оценка пользователей (максимум 10)  \n",
    "Rating — рейтинг от организации ESRB (англ. Entertainment Software Rating Board). Эта ассоциация определяет рейтинг компьютерных игр и присваивает им подходящую возрастную категорию.  \n",
    "Данные за 2016 год могут быть неполными.  "
   ]
  },
  {
   "cell_type": "markdown",
   "metadata": {},
   "source": [
    "## Загрузка данных для обработки  \n",
    " \n",
    "**Откроем файл с данными и изучим общую информацию  \n",
    "Путь к файлу: /datasets/games.csv.**"
   ]
  },
  {
   "cell_type": "code",
   "execution_count": 1,
   "metadata": {},
   "outputs": [
    {
     "name": "stdout",
     "output_type": "stream",
     "text": [
      "Requirement already satisfied: plotly in /opt/conda/lib/python3.9/site-packages (5.4.0)\r\n",
      "Requirement already satisfied: tenacity>=6.2.0 in /opt/conda/lib/python3.9/site-packages (from plotly) (8.0.1)\r\n",
      "Requirement already satisfied: six in /opt/conda/lib/python3.9/site-packages (from plotly) (1.16.0)\r\n"
     ]
    }
   ],
   "source": [
    "# Установим нужные нам бибюлиотеки\n",
    "!pip install plotly\n"
   ]
  },
  {
   "cell_type": "code",
   "execution_count": 2,
   "metadata": {},
   "outputs": [],
   "source": [
    "# Подключим необходимые библиотеки для обработки данных;\n",
    "import pandas as pd\n",
    "import numpy as np\n",
    "import seaborn as sb\n",
    "import matplotlib.pyplot as plt\n",
    "import plotly as pl\n",
    "from scipy import stats as st\n",
    "pd.options.mode.chained_assignment = None"
   ]
  },
  {
   "cell_type": "code",
   "execution_count": 3,
   "metadata": {},
   "outputs": [],
   "source": [
    "# Считаем данные в переменную data;\n",
    "data = pd.read_csv ('/datasets/games.csv')"
   ]
  },
  {
   "cell_type": "code",
   "execution_count": 4,
   "metadata": {},
   "outputs": [
    {
     "data": {
      "text/html": [
       "<div>\n",
       "<style scoped>\n",
       "    .dataframe tbody tr th:only-of-type {\n",
       "        vertical-align: middle;\n",
       "    }\n",
       "\n",
       "    .dataframe tbody tr th {\n",
       "        vertical-align: top;\n",
       "    }\n",
       "\n",
       "    .dataframe thead th {\n",
       "        text-align: right;\n",
       "    }\n",
       "</style>\n",
       "<table border=\"1\" class=\"dataframe\">\n",
       "  <thead>\n",
       "    <tr style=\"text-align: right;\">\n",
       "      <th></th>\n",
       "      <th>Name</th>\n",
       "      <th>Platform</th>\n",
       "      <th>Year_of_Release</th>\n",
       "      <th>Genre</th>\n",
       "      <th>NA_sales</th>\n",
       "      <th>EU_sales</th>\n",
       "      <th>JP_sales</th>\n",
       "      <th>Other_sales</th>\n",
       "      <th>Critic_Score</th>\n",
       "      <th>User_Score</th>\n",
       "      <th>Rating</th>\n",
       "    </tr>\n",
       "  </thead>\n",
       "  <tbody>\n",
       "    <tr>\n",
       "      <th>0</th>\n",
       "      <td>Wii Sports</td>\n",
       "      <td>Wii</td>\n",
       "      <td>2006.0</td>\n",
       "      <td>Sports</td>\n",
       "      <td>41.36</td>\n",
       "      <td>28.96</td>\n",
       "      <td>3.77</td>\n",
       "      <td>8.45</td>\n",
       "      <td>76.0</td>\n",
       "      <td>8</td>\n",
       "      <td>E</td>\n",
       "    </tr>\n",
       "    <tr>\n",
       "      <th>1</th>\n",
       "      <td>Super Mario Bros.</td>\n",
       "      <td>NES</td>\n",
       "      <td>1985.0</td>\n",
       "      <td>Platform</td>\n",
       "      <td>29.08</td>\n",
       "      <td>3.58</td>\n",
       "      <td>6.81</td>\n",
       "      <td>0.77</td>\n",
       "      <td>NaN</td>\n",
       "      <td>NaN</td>\n",
       "      <td>NaN</td>\n",
       "    </tr>\n",
       "    <tr>\n",
       "      <th>2</th>\n",
       "      <td>Mario Kart Wii</td>\n",
       "      <td>Wii</td>\n",
       "      <td>2008.0</td>\n",
       "      <td>Racing</td>\n",
       "      <td>15.68</td>\n",
       "      <td>12.76</td>\n",
       "      <td>3.79</td>\n",
       "      <td>3.29</td>\n",
       "      <td>82.0</td>\n",
       "      <td>8.3</td>\n",
       "      <td>E</td>\n",
       "    </tr>\n",
       "    <tr>\n",
       "      <th>3</th>\n",
       "      <td>Wii Sports Resort</td>\n",
       "      <td>Wii</td>\n",
       "      <td>2009.0</td>\n",
       "      <td>Sports</td>\n",
       "      <td>15.61</td>\n",
       "      <td>10.93</td>\n",
       "      <td>3.28</td>\n",
       "      <td>2.95</td>\n",
       "      <td>80.0</td>\n",
       "      <td>8</td>\n",
       "      <td>E</td>\n",
       "    </tr>\n",
       "    <tr>\n",
       "      <th>4</th>\n",
       "      <td>Pokemon Red/Pokemon Blue</td>\n",
       "      <td>GB</td>\n",
       "      <td>1996.0</td>\n",
       "      <td>Role-Playing</td>\n",
       "      <td>11.27</td>\n",
       "      <td>8.89</td>\n",
       "      <td>10.22</td>\n",
       "      <td>1.00</td>\n",
       "      <td>NaN</td>\n",
       "      <td>NaN</td>\n",
       "      <td>NaN</td>\n",
       "    </tr>\n",
       "    <tr>\n",
       "      <th>5</th>\n",
       "      <td>Tetris</td>\n",
       "      <td>GB</td>\n",
       "      <td>1989.0</td>\n",
       "      <td>Puzzle</td>\n",
       "      <td>23.20</td>\n",
       "      <td>2.26</td>\n",
       "      <td>4.22</td>\n",
       "      <td>0.58</td>\n",
       "      <td>NaN</td>\n",
       "      <td>NaN</td>\n",
       "      <td>NaN</td>\n",
       "    </tr>\n",
       "    <tr>\n",
       "      <th>6</th>\n",
       "      <td>New Super Mario Bros.</td>\n",
       "      <td>DS</td>\n",
       "      <td>2006.0</td>\n",
       "      <td>Platform</td>\n",
       "      <td>11.28</td>\n",
       "      <td>9.14</td>\n",
       "      <td>6.50</td>\n",
       "      <td>2.88</td>\n",
       "      <td>89.0</td>\n",
       "      <td>8.5</td>\n",
       "      <td>E</td>\n",
       "    </tr>\n",
       "    <tr>\n",
       "      <th>7</th>\n",
       "      <td>Wii Play</td>\n",
       "      <td>Wii</td>\n",
       "      <td>2006.0</td>\n",
       "      <td>Misc</td>\n",
       "      <td>13.96</td>\n",
       "      <td>9.18</td>\n",
       "      <td>2.93</td>\n",
       "      <td>2.84</td>\n",
       "      <td>58.0</td>\n",
       "      <td>6.6</td>\n",
       "      <td>E</td>\n",
       "    </tr>\n",
       "    <tr>\n",
       "      <th>8</th>\n",
       "      <td>New Super Mario Bros. Wii</td>\n",
       "      <td>Wii</td>\n",
       "      <td>2009.0</td>\n",
       "      <td>Platform</td>\n",
       "      <td>14.44</td>\n",
       "      <td>6.94</td>\n",
       "      <td>4.70</td>\n",
       "      <td>2.24</td>\n",
       "      <td>87.0</td>\n",
       "      <td>8.4</td>\n",
       "      <td>E</td>\n",
       "    </tr>\n",
       "    <tr>\n",
       "      <th>9</th>\n",
       "      <td>Duck Hunt</td>\n",
       "      <td>NES</td>\n",
       "      <td>1984.0</td>\n",
       "      <td>Shooter</td>\n",
       "      <td>26.93</td>\n",
       "      <td>0.63</td>\n",
       "      <td>0.28</td>\n",
       "      <td>0.47</td>\n",
       "      <td>NaN</td>\n",
       "      <td>NaN</td>\n",
       "      <td>NaN</td>\n",
       "    </tr>\n",
       "  </tbody>\n",
       "</table>\n",
       "</div>"
      ],
      "text/plain": [
       "                        Name Platform  Year_of_Release         Genre  \\\n",
       "0                 Wii Sports      Wii           2006.0        Sports   \n",
       "1          Super Mario Bros.      NES           1985.0      Platform   \n",
       "2             Mario Kart Wii      Wii           2008.0        Racing   \n",
       "3          Wii Sports Resort      Wii           2009.0        Sports   \n",
       "4   Pokemon Red/Pokemon Blue       GB           1996.0  Role-Playing   \n",
       "5                     Tetris       GB           1989.0        Puzzle   \n",
       "6      New Super Mario Bros.       DS           2006.0      Platform   \n",
       "7                   Wii Play      Wii           2006.0          Misc   \n",
       "8  New Super Mario Bros. Wii      Wii           2009.0      Platform   \n",
       "9                  Duck Hunt      NES           1984.0       Shooter   \n",
       "\n",
       "   NA_sales  EU_sales  JP_sales  Other_sales  Critic_Score User_Score Rating  \n",
       "0     41.36     28.96      3.77         8.45          76.0          8      E  \n",
       "1     29.08      3.58      6.81         0.77           NaN        NaN    NaN  \n",
       "2     15.68     12.76      3.79         3.29          82.0        8.3      E  \n",
       "3     15.61     10.93      3.28         2.95          80.0          8      E  \n",
       "4     11.27      8.89     10.22         1.00           NaN        NaN    NaN  \n",
       "5     23.20      2.26      4.22         0.58           NaN        NaN    NaN  \n",
       "6     11.28      9.14      6.50         2.88          89.0        8.5      E  \n",
       "7     13.96      9.18      2.93         2.84          58.0        6.6      E  \n",
       "8     14.44      6.94      4.70         2.24          87.0        8.4      E  \n",
       "9     26.93      0.63      0.28         0.47           NaN        NaN    NaN  "
      ]
     },
     "execution_count": 4,
     "metadata": {},
     "output_type": "execute_result"
    }
   ],
   "source": [
    "# Выведем первые 10 строк;\n",
    "data.head(10)"
   ]
  },
  {
   "cell_type": "code",
   "execution_count": 5,
   "metadata": {},
   "outputs": [
    {
     "name": "stdout",
     "output_type": "stream",
     "text": [
      "<class 'pandas.core.frame.DataFrame'>\n",
      "RangeIndex: 16715 entries, 0 to 16714\n",
      "Data columns (total 11 columns):\n",
      " #   Column           Non-Null Count  Dtype  \n",
      "---  ------           --------------  -----  \n",
      " 0   Name             16713 non-null  object \n",
      " 1   Platform         16715 non-null  object \n",
      " 2   Year_of_Release  16446 non-null  float64\n",
      " 3   Genre            16713 non-null  object \n",
      " 4   NA_sales         16715 non-null  float64\n",
      " 5   EU_sales         16715 non-null  float64\n",
      " 6   JP_sales         16715 non-null  float64\n",
      " 7   Other_sales      16715 non-null  float64\n",
      " 8   Critic_Score     8137 non-null   float64\n",
      " 9   User_Score       10014 non-null  object \n",
      " 10  Rating           9949 non-null   object \n",
      "dtypes: float64(6), object(5)\n",
      "memory usage: 1.4+ MB\n"
     ]
    }
   ],
   "source": [
    "# Посмотрим информацию о нашем DataFrame;\n",
    "data.info()"
   ]
  },
  {
   "cell_type": "code",
   "execution_count": 6,
   "metadata": {},
   "outputs": [
    {
     "data": {
      "text/html": [
       "<div>\n",
       "<style scoped>\n",
       "    .dataframe tbody tr th:only-of-type {\n",
       "        vertical-align: middle;\n",
       "    }\n",
       "\n",
       "    .dataframe tbody tr th {\n",
       "        vertical-align: top;\n",
       "    }\n",
       "\n",
       "    .dataframe thead th {\n",
       "        text-align: right;\n",
       "    }\n",
       "</style>\n",
       "<table border=\"1\" class=\"dataframe\">\n",
       "  <thead>\n",
       "    <tr style=\"text-align: right;\">\n",
       "      <th></th>\n",
       "      <th>Year_of_Release</th>\n",
       "      <th>NA_sales</th>\n",
       "      <th>EU_sales</th>\n",
       "      <th>JP_sales</th>\n",
       "      <th>Other_sales</th>\n",
       "      <th>Critic_Score</th>\n",
       "    </tr>\n",
       "  </thead>\n",
       "  <tbody>\n",
       "    <tr>\n",
       "      <th>count</th>\n",
       "      <td>16446.000000</td>\n",
       "      <td>16715.000000</td>\n",
       "      <td>16715.000000</td>\n",
       "      <td>16715.000000</td>\n",
       "      <td>16715.000000</td>\n",
       "      <td>8137.000000</td>\n",
       "    </tr>\n",
       "    <tr>\n",
       "      <th>mean</th>\n",
       "      <td>2006.484616</td>\n",
       "      <td>0.263377</td>\n",
       "      <td>0.145060</td>\n",
       "      <td>0.077617</td>\n",
       "      <td>0.047342</td>\n",
       "      <td>68.967679</td>\n",
       "    </tr>\n",
       "    <tr>\n",
       "      <th>std</th>\n",
       "      <td>5.877050</td>\n",
       "      <td>0.813604</td>\n",
       "      <td>0.503339</td>\n",
       "      <td>0.308853</td>\n",
       "      <td>0.186731</td>\n",
       "      <td>13.938165</td>\n",
       "    </tr>\n",
       "    <tr>\n",
       "      <th>min</th>\n",
       "      <td>1980.000000</td>\n",
       "      <td>0.000000</td>\n",
       "      <td>0.000000</td>\n",
       "      <td>0.000000</td>\n",
       "      <td>0.000000</td>\n",
       "      <td>13.000000</td>\n",
       "    </tr>\n",
       "    <tr>\n",
       "      <th>25%</th>\n",
       "      <td>2003.000000</td>\n",
       "      <td>0.000000</td>\n",
       "      <td>0.000000</td>\n",
       "      <td>0.000000</td>\n",
       "      <td>0.000000</td>\n",
       "      <td>60.000000</td>\n",
       "    </tr>\n",
       "    <tr>\n",
       "      <th>50%</th>\n",
       "      <td>2007.000000</td>\n",
       "      <td>0.080000</td>\n",
       "      <td>0.020000</td>\n",
       "      <td>0.000000</td>\n",
       "      <td>0.010000</td>\n",
       "      <td>71.000000</td>\n",
       "    </tr>\n",
       "    <tr>\n",
       "      <th>75%</th>\n",
       "      <td>2010.000000</td>\n",
       "      <td>0.240000</td>\n",
       "      <td>0.110000</td>\n",
       "      <td>0.040000</td>\n",
       "      <td>0.030000</td>\n",
       "      <td>79.000000</td>\n",
       "    </tr>\n",
       "    <tr>\n",
       "      <th>max</th>\n",
       "      <td>2016.000000</td>\n",
       "      <td>41.360000</td>\n",
       "      <td>28.960000</td>\n",
       "      <td>10.220000</td>\n",
       "      <td>10.570000</td>\n",
       "      <td>98.000000</td>\n",
       "    </tr>\n",
       "  </tbody>\n",
       "</table>\n",
       "</div>"
      ],
      "text/plain": [
       "       Year_of_Release      NA_sales      EU_sales      JP_sales  \\\n",
       "count     16446.000000  16715.000000  16715.000000  16715.000000   \n",
       "mean       2006.484616      0.263377      0.145060      0.077617   \n",
       "std           5.877050      0.813604      0.503339      0.308853   \n",
       "min        1980.000000      0.000000      0.000000      0.000000   \n",
       "25%        2003.000000      0.000000      0.000000      0.000000   \n",
       "50%        2007.000000      0.080000      0.020000      0.000000   \n",
       "75%        2010.000000      0.240000      0.110000      0.040000   \n",
       "max        2016.000000     41.360000     28.960000     10.220000   \n",
       "\n",
       "        Other_sales  Critic_Score  \n",
       "count  16715.000000   8137.000000  \n",
       "mean       0.047342     68.967679  \n",
       "std        0.186731     13.938165  \n",
       "min        0.000000     13.000000  \n",
       "25%        0.000000     60.000000  \n",
       "50%        0.010000     71.000000  \n",
       "75%        0.030000     79.000000  \n",
       "max       10.570000     98.000000  "
      ]
     },
     "execution_count": 6,
     "metadata": {},
     "output_type": "execute_result"
    }
   ],
   "source": [
    "# Сразу загляним в  data;\n",
    "data.describe()"
   ]
  },
  {
   "cell_type": "code",
   "execution_count": 7,
   "metadata": {},
   "outputs": [
    {
     "data": {
      "text/plain": [
       "Name                  2\n",
       "Platform              0\n",
       "Year_of_Release     269\n",
       "Genre                 2\n",
       "NA_sales              0\n",
       "EU_sales              0\n",
       "JP_sales              0\n",
       "Other_sales           0\n",
       "Critic_Score       8578\n",
       "User_Score         6701\n",
       "Rating             6766\n",
       "dtype: int64"
      ]
     },
     "execution_count": 7,
     "metadata": {},
     "output_type": "execute_result"
    }
   ],
   "source": [
    "# Сразу загляним в  data;\n",
    "data.isna().sum()"
   ]
  },
  {
   "cell_type": "markdown",
   "metadata": {},
   "source": [
    "**Промежуточный вывод:** В представленных данных присутствуют пропуски данных, не соответсветствия типов данных, нужно привести название столбцов к единому виду."
   ]
  },
  {
   "cell_type": "markdown",
   "metadata": {},
   "source": [
    "## Предобработка данных"
   ]
  },
  {
   "cell_type": "markdown",
   "metadata": {},
   "source": [
    "***Приведем название столбцов к нижмену регистру***"
   ]
  },
  {
   "cell_type": "code",
   "execution_count": 8,
   "metadata": {},
   "outputs": [
    {
     "data": {
      "text/plain": [
       "Index(['Name', 'Platform', 'Year_of_Release', 'Genre', 'NA_sales', 'EU_sales',\n",
       "       'JP_sales', 'Other_sales', 'Critic_Score', 'User_Score', 'Rating'],\n",
       "      dtype='object')"
      ]
     },
     "execution_count": 8,
     "metadata": {},
     "output_type": "execute_result"
    }
   ],
   "source": [
    "# Посмотрим название столбцов;\n",
    "data.columns"
   ]
  },
  {
   "cell_type": "code",
   "execution_count": 9,
   "metadata": {},
   "outputs": [],
   "source": [
    "# Приведем название солбцов к однородному виду;\n",
    "data.columns = data.columns.str.lower() "
   ]
  },
  {
   "cell_type": "code",
   "execution_count": 10,
   "metadata": {},
   "outputs": [
    {
     "data": {
      "text/html": [
       "<div>\n",
       "<style scoped>\n",
       "    .dataframe tbody tr th:only-of-type {\n",
       "        vertical-align: middle;\n",
       "    }\n",
       "\n",
       "    .dataframe tbody tr th {\n",
       "        vertical-align: top;\n",
       "    }\n",
       "\n",
       "    .dataframe thead th {\n",
       "        text-align: right;\n",
       "    }\n",
       "</style>\n",
       "<table border=\"1\" class=\"dataframe\">\n",
       "  <thead>\n",
       "    <tr style=\"text-align: right;\">\n",
       "      <th></th>\n",
       "      <th>name</th>\n",
       "      <th>platform</th>\n",
       "      <th>year_of_release</th>\n",
       "      <th>genre</th>\n",
       "      <th>na_sales</th>\n",
       "      <th>eu_sales</th>\n",
       "      <th>jp_sales</th>\n",
       "      <th>other_sales</th>\n",
       "      <th>critic_score</th>\n",
       "      <th>user_score</th>\n",
       "      <th>rating</th>\n",
       "    </tr>\n",
       "  </thead>\n",
       "  <tbody>\n",
       "    <tr>\n",
       "      <th>0</th>\n",
       "      <td>Wii Sports</td>\n",
       "      <td>Wii</td>\n",
       "      <td>2006.0</td>\n",
       "      <td>Sports</td>\n",
       "      <td>41.36</td>\n",
       "      <td>28.96</td>\n",
       "      <td>3.77</td>\n",
       "      <td>8.45</td>\n",
       "      <td>76.0</td>\n",
       "      <td>8</td>\n",
       "      <td>E</td>\n",
       "    </tr>\n",
       "    <tr>\n",
       "      <th>1</th>\n",
       "      <td>Super Mario Bros.</td>\n",
       "      <td>NES</td>\n",
       "      <td>1985.0</td>\n",
       "      <td>Platform</td>\n",
       "      <td>29.08</td>\n",
       "      <td>3.58</td>\n",
       "      <td>6.81</td>\n",
       "      <td>0.77</td>\n",
       "      <td>NaN</td>\n",
       "      <td>NaN</td>\n",
       "      <td>NaN</td>\n",
       "    </tr>\n",
       "    <tr>\n",
       "      <th>2</th>\n",
       "      <td>Mario Kart Wii</td>\n",
       "      <td>Wii</td>\n",
       "      <td>2008.0</td>\n",
       "      <td>Racing</td>\n",
       "      <td>15.68</td>\n",
       "      <td>12.76</td>\n",
       "      <td>3.79</td>\n",
       "      <td>3.29</td>\n",
       "      <td>82.0</td>\n",
       "      <td>8.3</td>\n",
       "      <td>E</td>\n",
       "    </tr>\n",
       "    <tr>\n",
       "      <th>3</th>\n",
       "      <td>Wii Sports Resort</td>\n",
       "      <td>Wii</td>\n",
       "      <td>2009.0</td>\n",
       "      <td>Sports</td>\n",
       "      <td>15.61</td>\n",
       "      <td>10.93</td>\n",
       "      <td>3.28</td>\n",
       "      <td>2.95</td>\n",
       "      <td>80.0</td>\n",
       "      <td>8</td>\n",
       "      <td>E</td>\n",
       "    </tr>\n",
       "    <tr>\n",
       "      <th>4</th>\n",
       "      <td>Pokemon Red/Pokemon Blue</td>\n",
       "      <td>GB</td>\n",
       "      <td>1996.0</td>\n",
       "      <td>Role-Playing</td>\n",
       "      <td>11.27</td>\n",
       "      <td>8.89</td>\n",
       "      <td>10.22</td>\n",
       "      <td>1.00</td>\n",
       "      <td>NaN</td>\n",
       "      <td>NaN</td>\n",
       "      <td>NaN</td>\n",
       "    </tr>\n",
       "    <tr>\n",
       "      <th>5</th>\n",
       "      <td>Tetris</td>\n",
       "      <td>GB</td>\n",
       "      <td>1989.0</td>\n",
       "      <td>Puzzle</td>\n",
       "      <td>23.20</td>\n",
       "      <td>2.26</td>\n",
       "      <td>4.22</td>\n",
       "      <td>0.58</td>\n",
       "      <td>NaN</td>\n",
       "      <td>NaN</td>\n",
       "      <td>NaN</td>\n",
       "    </tr>\n",
       "    <tr>\n",
       "      <th>6</th>\n",
       "      <td>New Super Mario Bros.</td>\n",
       "      <td>DS</td>\n",
       "      <td>2006.0</td>\n",
       "      <td>Platform</td>\n",
       "      <td>11.28</td>\n",
       "      <td>9.14</td>\n",
       "      <td>6.50</td>\n",
       "      <td>2.88</td>\n",
       "      <td>89.0</td>\n",
       "      <td>8.5</td>\n",
       "      <td>E</td>\n",
       "    </tr>\n",
       "    <tr>\n",
       "      <th>7</th>\n",
       "      <td>Wii Play</td>\n",
       "      <td>Wii</td>\n",
       "      <td>2006.0</td>\n",
       "      <td>Misc</td>\n",
       "      <td>13.96</td>\n",
       "      <td>9.18</td>\n",
       "      <td>2.93</td>\n",
       "      <td>2.84</td>\n",
       "      <td>58.0</td>\n",
       "      <td>6.6</td>\n",
       "      <td>E</td>\n",
       "    </tr>\n",
       "    <tr>\n",
       "      <th>8</th>\n",
       "      <td>New Super Mario Bros. Wii</td>\n",
       "      <td>Wii</td>\n",
       "      <td>2009.0</td>\n",
       "      <td>Platform</td>\n",
       "      <td>14.44</td>\n",
       "      <td>6.94</td>\n",
       "      <td>4.70</td>\n",
       "      <td>2.24</td>\n",
       "      <td>87.0</td>\n",
       "      <td>8.4</td>\n",
       "      <td>E</td>\n",
       "    </tr>\n",
       "    <tr>\n",
       "      <th>9</th>\n",
       "      <td>Duck Hunt</td>\n",
       "      <td>NES</td>\n",
       "      <td>1984.0</td>\n",
       "      <td>Shooter</td>\n",
       "      <td>26.93</td>\n",
       "      <td>0.63</td>\n",
       "      <td>0.28</td>\n",
       "      <td>0.47</td>\n",
       "      <td>NaN</td>\n",
       "      <td>NaN</td>\n",
       "      <td>NaN</td>\n",
       "    </tr>\n",
       "  </tbody>\n",
       "</table>\n",
       "</div>"
      ],
      "text/plain": [
       "                        name platform  year_of_release         genre  \\\n",
       "0                 Wii Sports      Wii           2006.0        Sports   \n",
       "1          Super Mario Bros.      NES           1985.0      Platform   \n",
       "2             Mario Kart Wii      Wii           2008.0        Racing   \n",
       "3          Wii Sports Resort      Wii           2009.0        Sports   \n",
       "4   Pokemon Red/Pokemon Blue       GB           1996.0  Role-Playing   \n",
       "5                     Tetris       GB           1989.0        Puzzle   \n",
       "6      New Super Mario Bros.       DS           2006.0      Platform   \n",
       "7                   Wii Play      Wii           2006.0          Misc   \n",
       "8  New Super Mario Bros. Wii      Wii           2009.0      Platform   \n",
       "9                  Duck Hunt      NES           1984.0       Shooter   \n",
       "\n",
       "   na_sales  eu_sales  jp_sales  other_sales  critic_score user_score rating  \n",
       "0     41.36     28.96      3.77         8.45          76.0          8      E  \n",
       "1     29.08      3.58      6.81         0.77           NaN        NaN    NaN  \n",
       "2     15.68     12.76      3.79         3.29          82.0        8.3      E  \n",
       "3     15.61     10.93      3.28         2.95          80.0          8      E  \n",
       "4     11.27      8.89     10.22         1.00           NaN        NaN    NaN  \n",
       "5     23.20      2.26      4.22         0.58           NaN        NaN    NaN  \n",
       "6     11.28      9.14      6.50         2.88          89.0        8.5      E  \n",
       "7     13.96      9.18      2.93         2.84          58.0        6.6      E  \n",
       "8     14.44      6.94      4.70         2.24          87.0        8.4      E  \n",
       "9     26.93      0.63      0.28         0.47           NaN        NaN    NaN  "
      ]
     },
     "execution_count": 10,
     "metadata": {},
     "output_type": "execute_result"
    }
   ],
   "source": [
    "# Проверим результат\n",
    "data.head(10)"
   ]
  },
  {
   "cell_type": "markdown",
   "metadata": {},
   "source": [
    "***Преобразуем данные к нужному типу***"
   ]
  },
  {
   "cell_type": "markdown",
   "metadata": {},
   "source": [
    "Name — название игры  \n",
    "Platform — платформа  \n",
    "Year_of_Release — год выпуска  \n",
    "Genre — жанр игры  \n",
    "NA_sales — продажи в Северной Америке (миллионы проданных копий)  \n",
    "EU_sales — продажи в Европе (миллионы проданных копий)  \n",
    "JP_sales — продажи в Японии (миллионы проданных копий)  \n",
    "Other_sales — продажи в других странах (миллионы проданных копий)  \n",
    "Critic_Score — оценка критиков (максимум 100)  \n",
    "User_Score — оценка пользователей (максимум 10)  \n",
    "Rating — рейтинг от организации ESRB (англ. Entertainment Software Rating Board). Эта ассоциация определяет рейтинг компьютерных игр и присваивает им подходящую возрастную категорию.  \n",
    "Данные за 2016 год могут быть неполными. "
   ]
  },
  {
   "cell_type": "code",
   "execution_count": 11,
   "metadata": {
    "scrolled": true
   },
   "outputs": [
    {
     "data": {
      "text/html": [
       "<div>\n",
       "<style scoped>\n",
       "    .dataframe tbody tr th:only-of-type {\n",
       "        vertical-align: middle;\n",
       "    }\n",
       "\n",
       "    .dataframe tbody tr th {\n",
       "        vertical-align: top;\n",
       "    }\n",
       "\n",
       "    .dataframe thead th {\n",
       "        text-align: right;\n",
       "    }\n",
       "</style>\n",
       "<table border=\"1\" class=\"dataframe\">\n",
       "  <thead>\n",
       "    <tr style=\"text-align: right;\">\n",
       "      <th></th>\n",
       "      <th>name</th>\n",
       "      <th>platform</th>\n",
       "      <th>year_of_release</th>\n",
       "      <th>genre</th>\n",
       "      <th>na_sales</th>\n",
       "      <th>eu_sales</th>\n",
       "      <th>jp_sales</th>\n",
       "      <th>other_sales</th>\n",
       "      <th>critic_score</th>\n",
       "      <th>user_score</th>\n",
       "      <th>rating</th>\n",
       "    </tr>\n",
       "  </thead>\n",
       "  <tbody>\n",
       "    <tr>\n",
       "      <th>0</th>\n",
       "      <td>Wii Sports</td>\n",
       "      <td>Wii</td>\n",
       "      <td>2006.0</td>\n",
       "      <td>Sports</td>\n",
       "      <td>41.36</td>\n",
       "      <td>28.96</td>\n",
       "      <td>3.77</td>\n",
       "      <td>8.45</td>\n",
       "      <td>76.0</td>\n",
       "      <td>8</td>\n",
       "      <td>E</td>\n",
       "    </tr>\n",
       "    <tr>\n",
       "      <th>1</th>\n",
       "      <td>Super Mario Bros.</td>\n",
       "      <td>NES</td>\n",
       "      <td>1985.0</td>\n",
       "      <td>Platform</td>\n",
       "      <td>29.08</td>\n",
       "      <td>3.58</td>\n",
       "      <td>6.81</td>\n",
       "      <td>0.77</td>\n",
       "      <td>NaN</td>\n",
       "      <td>NaN</td>\n",
       "      <td>NaN</td>\n",
       "    </tr>\n",
       "    <tr>\n",
       "      <th>2</th>\n",
       "      <td>Mario Kart Wii</td>\n",
       "      <td>Wii</td>\n",
       "      <td>2008.0</td>\n",
       "      <td>Racing</td>\n",
       "      <td>15.68</td>\n",
       "      <td>12.76</td>\n",
       "      <td>3.79</td>\n",
       "      <td>3.29</td>\n",
       "      <td>82.0</td>\n",
       "      <td>8.3</td>\n",
       "      <td>E</td>\n",
       "    </tr>\n",
       "  </tbody>\n",
       "</table>\n",
       "</div>"
      ],
      "text/plain": [
       "                name platform  year_of_release     genre  na_sales  eu_sales  \\\n",
       "0         Wii Sports      Wii           2006.0    Sports     41.36     28.96   \n",
       "1  Super Mario Bros.      NES           1985.0  Platform     29.08      3.58   \n",
       "2     Mario Kart Wii      Wii           2008.0    Racing     15.68     12.76   \n",
       "\n",
       "   jp_sales  other_sales  critic_score user_score rating  \n",
       "0      3.77         8.45          76.0          8      E  \n",
       "1      6.81         0.77           NaN        NaN    NaN  \n",
       "2      3.79         3.29          82.0        8.3      E  "
      ]
     },
     "execution_count": 11,
     "metadata": {},
     "output_type": "execute_result"
    }
   ],
   "source": [
    "# Выведем несколько строк дата\n",
    "data.head(3)"
   ]
  },
  {
   "cell_type": "code",
   "execution_count": 12,
   "metadata": {},
   "outputs": [
    {
     "name": "stdout",
     "output_type": "stream",
     "text": [
      "<class 'pandas.core.frame.DataFrame'>\n",
      "RangeIndex: 16715 entries, 0 to 16714\n",
      "Data columns (total 11 columns):\n",
      " #   Column           Non-Null Count  Dtype  \n",
      "---  ------           --------------  -----  \n",
      " 0   name             16713 non-null  object \n",
      " 1   platform         16715 non-null  object \n",
      " 2   year_of_release  16446 non-null  float64\n",
      " 3   genre            16713 non-null  object \n",
      " 4   na_sales         16715 non-null  float64\n",
      " 5   eu_sales         16715 non-null  float64\n",
      " 6   jp_sales         16715 non-null  float64\n",
      " 7   other_sales      16715 non-null  float64\n",
      " 8   critic_score     8137 non-null   float64\n",
      " 9   user_score       10014 non-null  object \n",
      " 10  rating           9949 non-null   object \n",
      "dtypes: float64(6), object(5)\n",
      "memory usage: 1.4+ MB\n"
     ]
    }
   ],
   "source": [
    "data.info()"
   ]
  },
  {
   "cell_type": "markdown",
   "metadata": {},
   "source": [
    "**Рассмотрим столбец name - название игры**"
   ]
  },
  {
   "cell_type": "code",
   "execution_count": 13,
   "metadata": {},
   "outputs": [
    {
     "data": {
      "text/plain": [
       "False    16713\n",
       "True         2\n",
       "Name: name, dtype: int64"
      ]
     },
     "execution_count": 13,
     "metadata": {},
     "output_type": "execute_result"
    }
   ],
   "source": [
    "# Проверим есть ли пропуски в данных;\n",
    "#print ('name =', data['name'].isna().sum())\n",
    "data['name'].isna().value_counts()\n",
    "#data = data['name'].loc[data['name'].isna()]"
   ]
  },
  {
   "cell_type": "code",
   "execution_count": 14,
   "metadata": {},
   "outputs": [],
   "source": [
    "# Можем удалить данные об этих играх;\n",
    "data = data.loc[data['name'].isna() == False]"
   ]
  },
  {
   "cell_type": "code",
   "execution_count": 15,
   "metadata": {},
   "outputs": [
    {
     "data": {
      "text/plain": [
       "False    16713\n",
       "Name: name, dtype: int64"
      ]
     },
     "execution_count": 15,
     "metadata": {},
     "output_type": "execute_result"
    }
   ],
   "source": [
    "# Проверим результат;\n",
    "data['name'].isna().value_counts()"
   ]
  },
  {
   "cell_type": "markdown",
   "metadata": {},
   "source": [
    "**Рассмотрим столбец platform - платформа**"
   ]
  },
  {
   "cell_type": "code",
   "execution_count": 16,
   "metadata": {},
   "outputs": [
    {
     "data": {
      "text/plain": [
       "False    16713\n",
       "Name: platform, dtype: int64"
      ]
     },
     "execution_count": 16,
     "metadata": {},
     "output_type": "execute_result"
    }
   ],
   "source": [
    "# Проверим есть ли пропуски в данных;\n",
    "data['platform'].isna().value_counts()"
   ]
  },
  {
   "cell_type": "code",
   "execution_count": 17,
   "metadata": {},
   "outputs": [
    {
     "data": {
      "text/plain": [
       "PS2     2161\n",
       "DS      2151\n",
       "PS3     1331\n",
       "Wii     1320\n",
       "X360    1262\n",
       "PSP     1209\n",
       "PS      1197\n",
       "PC       974\n",
       "XB       824\n",
       "GBA      822\n",
       "GC       556\n",
       "3DS      520\n",
       "PSV      430\n",
       "PS4      392\n",
       "N64      319\n",
       "XOne     247\n",
       "SNES     239\n",
       "SAT      173\n",
       "WiiU     147\n",
       "2600     133\n",
       "GB        98\n",
       "NES       98\n",
       "DC        52\n",
       "GEN       27\n",
       "NG        12\n",
       "WS         6\n",
       "SCD        6\n",
       "3DO        3\n",
       "TG16       2\n",
       "GG         1\n",
       "PCFX       1\n",
       "Name: platform, dtype: int64"
      ]
     },
     "execution_count": 17,
     "metadata": {},
     "output_type": "execute_result"
    }
   ],
   "source": [
    "# Проверим налицие неявных дубликатов;\n",
    "data['platform'].value_counts()"
   ]
  },
  {
   "cell_type": "markdown",
   "metadata": {},
   "source": [
    "**Рассмотрим столбец genre - жанры**"
   ]
  },
  {
   "cell_type": "code",
   "execution_count": 18,
   "metadata": {},
   "outputs": [
    {
     "data": {
      "text/plain": [
       "False    16713\n",
       "Name: genre, dtype: int64"
      ]
     },
     "execution_count": 18,
     "metadata": {},
     "output_type": "execute_result"
    }
   ],
   "source": [
    "#Проверим genre на пропуски;\n",
    "data['genre'].isna().value_counts()"
   ]
  },
  {
   "cell_type": "code",
   "execution_count": 19,
   "metadata": {},
   "outputs": [
    {
     "data": {
      "text/plain": [
       "Action          3369\n",
       "Sports          2348\n",
       "Misc            1750\n",
       "Role-Playing    1498\n",
       "Shooter         1323\n",
       "Adventure       1303\n",
       "Racing          1249\n",
       "Platform         888\n",
       "Simulation       873\n",
       "Fighting         849\n",
       "Strategy         683\n",
       "Puzzle           580\n",
       "Name: genre, dtype: int64"
      ]
     },
     "execution_count": 19,
     "metadata": {},
     "output_type": "execute_result"
    }
   ],
   "source": [
    "# Проверим налицие неявных дубликатов;\n",
    "data['genre'].value_counts()"
   ]
  },
  {
   "cell_type": "markdown",
   "metadata": {},
   "source": [
    "**Рассмотрим столбец year_of_release (год выпуска)**"
   ]
  },
  {
   "cell_type": "code",
   "execution_count": 20,
   "metadata": {},
   "outputs": [
    {
     "data": {
      "text/plain": [
       "269"
      ]
     },
     "execution_count": 20,
     "metadata": {},
     "output_type": "execute_result"
    }
   ],
   "source": [
    "# Проверим есть ли пропуски в данных;\n",
    "#print(data['year_of_release'].value_counts())\n",
    "#data['year_of_release'].isna().value_counts()\n",
    "#data['year_of_release'][data['year_of_release'].isna()]\n",
    "data['year_of_release'].isna().sum()"
   ]
  },
  {
   "cell_type": "code",
   "execution_count": 21,
   "metadata": {},
   "outputs": [],
   "source": [
    "# Удалим пропуски так как заполнить их не предоставляется возможным;\n",
    "data = data[data['year_of_release'] != 'Nan']"
   ]
  },
  {
   "cell_type": "code",
   "execution_count": 22,
   "metadata": {},
   "outputs": [
    {
     "data": {
      "text/plain": [
       "269"
      ]
     },
     "execution_count": 22,
     "metadata": {},
     "output_type": "execute_result"
    }
   ],
   "source": [
    "# Проверим результат\n",
    "data['year_of_release'].isna().sum()"
   ]
  },
  {
   "cell_type": "code",
   "execution_count": 23,
   "metadata": {},
   "outputs": [],
   "source": [
    "# Преобразуем year_of_release (год выпуска) в целоцисленный тип ;\n",
    "data['year_of_release'] = data['year_of_release'].astype('Int32')"
   ]
  },
  {
   "cell_type": "code",
   "execution_count": 24,
   "metadata": {},
   "outputs": [
    {
     "data": {
      "text/plain": [
       "0    2006\n",
       "1    1985\n",
       "2    2008\n",
       "Name: year_of_release, dtype: Int32"
      ]
     },
     "execution_count": 24,
     "metadata": {},
     "output_type": "execute_result"
    }
   ],
   "source": [
    "# Проверим результат\n",
    "data['year_of_release'].head(3)"
   ]
  },
  {
   "cell_type": "markdown",
   "metadata": {},
   "source": [
    "**Рассмотрим столбецы na_sales, eu_sales, jp_sales, other_sales**"
   ]
  },
  {
   "cell_type": "code",
   "execution_count": 25,
   "metadata": {},
   "outputs": [
    {
     "name": "stdout",
     "output_type": "stream",
     "text": [
      "na_sales = 0 eu_sales = 0 jp_sales= 0 other_sales= 0\n"
     ]
    }
   ],
   "source": [
    "# Проверим есть ли пропуски в данных;\n",
    "print('na_sales =', data['na_sales'].isna().sum(),\\\n",
    "'eu_sales =', data['eu_sales'].isna().sum(),\\\n",
    "'jp_sales=',data['jp_sales'].isna().sum(),\\\n",
    "'other_sales=', data['other_sales'].isna().sum())"
   ]
  },
  {
   "cell_type": "code",
   "execution_count": 26,
   "metadata": {},
   "outputs": [],
   "source": [
    "# Переведем в миллионы и изменим тип на int\n",
    "data['na_sales'] = (data['na_sales']*1000000).astype(int)\n",
    "data['eu_sales'] = (data['eu_sales']*1000000).astype(int)\n",
    "data['jp_sales'] = (data['jp_sales']*1000000).astype(int)\n",
    "data['other_sales'] = (data['other_sales']*1000000).astype(int)"
   ]
  },
  {
   "cell_type": "code",
   "execution_count": 27,
   "metadata": {
    "scrolled": true
   },
   "outputs": [
    {
     "data": {
      "text/html": [
       "<div>\n",
       "<style scoped>\n",
       "    .dataframe tbody tr th:only-of-type {\n",
       "        vertical-align: middle;\n",
       "    }\n",
       "\n",
       "    .dataframe tbody tr th {\n",
       "        vertical-align: top;\n",
       "    }\n",
       "\n",
       "    .dataframe thead th {\n",
       "        text-align: right;\n",
       "    }\n",
       "</style>\n",
       "<table border=\"1\" class=\"dataframe\">\n",
       "  <thead>\n",
       "    <tr style=\"text-align: right;\">\n",
       "      <th></th>\n",
       "      <th>name</th>\n",
       "      <th>platform</th>\n",
       "      <th>year_of_release</th>\n",
       "      <th>genre</th>\n",
       "      <th>na_sales</th>\n",
       "      <th>eu_sales</th>\n",
       "      <th>jp_sales</th>\n",
       "      <th>other_sales</th>\n",
       "      <th>critic_score</th>\n",
       "      <th>user_score</th>\n",
       "      <th>rating</th>\n",
       "    </tr>\n",
       "  </thead>\n",
       "  <tbody>\n",
       "    <tr>\n",
       "      <th>0</th>\n",
       "      <td>Wii Sports</td>\n",
       "      <td>Wii</td>\n",
       "      <td>2006</td>\n",
       "      <td>Sports</td>\n",
       "      <td>41360000</td>\n",
       "      <td>28960000</td>\n",
       "      <td>3770000</td>\n",
       "      <td>8450000</td>\n",
       "      <td>76.0</td>\n",
       "      <td>8</td>\n",
       "      <td>E</td>\n",
       "    </tr>\n",
       "    <tr>\n",
       "      <th>1</th>\n",
       "      <td>Super Mario Bros.</td>\n",
       "      <td>NES</td>\n",
       "      <td>1985</td>\n",
       "      <td>Platform</td>\n",
       "      <td>29080000</td>\n",
       "      <td>3580000</td>\n",
       "      <td>6810000</td>\n",
       "      <td>770000</td>\n",
       "      <td>NaN</td>\n",
       "      <td>NaN</td>\n",
       "      <td>NaN</td>\n",
       "    </tr>\n",
       "    <tr>\n",
       "      <th>2</th>\n",
       "      <td>Mario Kart Wii</td>\n",
       "      <td>Wii</td>\n",
       "      <td>2008</td>\n",
       "      <td>Racing</td>\n",
       "      <td>15680000</td>\n",
       "      <td>12760000</td>\n",
       "      <td>3790000</td>\n",
       "      <td>3290000</td>\n",
       "      <td>82.0</td>\n",
       "      <td>8.3</td>\n",
       "      <td>E</td>\n",
       "    </tr>\n",
       "    <tr>\n",
       "      <th>3</th>\n",
       "      <td>Wii Sports Resort</td>\n",
       "      <td>Wii</td>\n",
       "      <td>2009</td>\n",
       "      <td>Sports</td>\n",
       "      <td>15610000</td>\n",
       "      <td>10930000</td>\n",
       "      <td>3280000</td>\n",
       "      <td>2950000</td>\n",
       "      <td>80.0</td>\n",
       "      <td>8</td>\n",
       "      <td>E</td>\n",
       "    </tr>\n",
       "    <tr>\n",
       "      <th>4</th>\n",
       "      <td>Pokemon Red/Pokemon Blue</td>\n",
       "      <td>GB</td>\n",
       "      <td>1996</td>\n",
       "      <td>Role-Playing</td>\n",
       "      <td>11270000</td>\n",
       "      <td>8890000</td>\n",
       "      <td>10220000</td>\n",
       "      <td>1000000</td>\n",
       "      <td>NaN</td>\n",
       "      <td>NaN</td>\n",
       "      <td>NaN</td>\n",
       "    </tr>\n",
       "  </tbody>\n",
       "</table>\n",
       "</div>"
      ],
      "text/plain": [
       "                       name platform  year_of_release         genre  na_sales  \\\n",
       "0                Wii Sports      Wii             2006        Sports  41360000   \n",
       "1         Super Mario Bros.      NES             1985      Platform  29080000   \n",
       "2            Mario Kart Wii      Wii             2008        Racing  15680000   \n",
       "3         Wii Sports Resort      Wii             2009        Sports  15610000   \n",
       "4  Pokemon Red/Pokemon Blue       GB             1996  Role-Playing  11270000   \n",
       "\n",
       "   eu_sales  jp_sales  other_sales  critic_score user_score rating  \n",
       "0  28960000   3770000      8450000          76.0          8      E  \n",
       "1   3580000   6810000       770000           NaN        NaN    NaN  \n",
       "2  12760000   3790000      3290000          82.0        8.3      E  \n",
       "3  10930000   3280000      2950000          80.0          8      E  \n",
       "4   8890000  10220000      1000000           NaN        NaN    NaN  "
      ]
     },
     "execution_count": 27,
     "metadata": {},
     "output_type": "execute_result"
    }
   ],
   "source": [
    "# Проверим результат\n",
    "data.head()"
   ]
  },
  {
   "cell_type": "markdown",
   "metadata": {},
   "source": [
    "**Рассмотрим столбецы critic_score\t — оценка критиков (максимум 100), user_score — оценка пользователей (максимум 10)**"
   ]
  },
  {
   "cell_type": "code",
   "execution_count": 28,
   "metadata": {},
   "outputs": [
    {
     "name": "stdout",
     "output_type": "stream",
     "text": [
      "critic_score = 8576\n",
      "user_score = 6699\n"
     ]
    }
   ],
   "source": [
    "#Проверим critic_score и user_score  на пропуски;\n",
    "print ('critic_score =', data['critic_score'].isna().sum())\n",
    "print ('user_score =', data['user_score'].isna().sum())"
   ]
  },
  {
   "cell_type": "code",
   "execution_count": 29,
   "metadata": {},
   "outputs": [
    {
     "data": {
      "text/plain": [
       "array(['8', nan, '8.3', '8.5', '6.6', '8.4', '8.6', '7.7', '6.3', '7.4',\n",
       "       '8.2', '9', '7.9', '8.1', '8.7', '7.1', '3.4', '5.3', '4.8', '3.2',\n",
       "       '8.9', '6.4', '7.8', '7.5', '2.6', '7.2', '9.2', '7', '7.3', '4.3',\n",
       "       '7.6', '5.7', '5', '9.1', '6.5', 'tbd', '8.8', '6.9', '9.4', '6.8',\n",
       "       '6.1', '6.7', '5.4', '4', '4.9', '4.5', '9.3', '6.2', '4.2', '6',\n",
       "       '3.7', '4.1', '5.8', '5.6', '5.5', '4.4', '4.6', '5.9', '3.9',\n",
       "       '3.1', '2.9', '5.2', '3.3', '4.7', '5.1', '3.5', '2.5', '1.9', '3',\n",
       "       '2.7', '2.2', '2', '9.5', '2.1', '3.6', '2.8', '1.8', '3.8', '0',\n",
       "       '1.6', '9.6', '2.4', '1.7', '1.1', '0.3', '1.5', '0.7', '1.2',\n",
       "       '2.3', '0.5', '1.3', '0.2', '0.6', '1.4', '0.9', '1', '9.7'],\n",
       "      dtype=object)"
      ]
     },
     "execution_count": 29,
     "metadata": {},
     "output_type": "execute_result"
    }
   ],
   "source": [
    "# Посмотрим значения user_score;\n",
    "data['user_score'].unique()"
   ]
  },
  {
   "cell_type": "code",
   "execution_count": 30,
   "metadata": {},
   "outputs": [
    {
     "data": {
      "text/html": [
       "<div>\n",
       "<style scoped>\n",
       "    .dataframe tbody tr th:only-of-type {\n",
       "        vertical-align: middle;\n",
       "    }\n",
       "\n",
       "    .dataframe tbody tr th {\n",
       "        vertical-align: top;\n",
       "    }\n",
       "\n",
       "    .dataframe thead th {\n",
       "        text-align: right;\n",
       "    }\n",
       "</style>\n",
       "<table border=\"1\" class=\"dataframe\">\n",
       "  <thead>\n",
       "    <tr style=\"text-align: right;\">\n",
       "      <th></th>\n",
       "      <th>name</th>\n",
       "      <th>platform</th>\n",
       "      <th>year_of_release</th>\n",
       "      <th>genre</th>\n",
       "      <th>na_sales</th>\n",
       "      <th>eu_sales</th>\n",
       "      <th>jp_sales</th>\n",
       "      <th>other_sales</th>\n",
       "      <th>critic_score</th>\n",
       "      <th>user_score</th>\n",
       "      <th>rating</th>\n",
       "    </tr>\n",
       "  </thead>\n",
       "  <tbody>\n",
       "    <tr>\n",
       "      <th>119</th>\n",
       "      <td>Zumba Fitness</td>\n",
       "      <td>Wii</td>\n",
       "      <td>2010</td>\n",
       "      <td>Sports</td>\n",
       "      <td>3450000</td>\n",
       "      <td>2590000</td>\n",
       "      <td>0</td>\n",
       "      <td>660000</td>\n",
       "      <td>NaN</td>\n",
       "      <td>tbd</td>\n",
       "      <td>E</td>\n",
       "    </tr>\n",
       "    <tr>\n",
       "      <th>301</th>\n",
       "      <td>Namco Museum: 50th Anniversary</td>\n",
       "      <td>PS2</td>\n",
       "      <td>2005</td>\n",
       "      <td>Misc</td>\n",
       "      <td>2080000</td>\n",
       "      <td>1350000</td>\n",
       "      <td>0</td>\n",
       "      <td>540000</td>\n",
       "      <td>61.0</td>\n",
       "      <td>tbd</td>\n",
       "      <td>E10+</td>\n",
       "    </tr>\n",
       "    <tr>\n",
       "      <th>520</th>\n",
       "      <td>Zumba Fitness 2</td>\n",
       "      <td>Wii</td>\n",
       "      <td>2011</td>\n",
       "      <td>Sports</td>\n",
       "      <td>1510000</td>\n",
       "      <td>1030000</td>\n",
       "      <td>0</td>\n",
       "      <td>270000</td>\n",
       "      <td>NaN</td>\n",
       "      <td>tbd</td>\n",
       "      <td>T</td>\n",
       "    </tr>\n",
       "    <tr>\n",
       "      <th>645</th>\n",
       "      <td>uDraw Studio</td>\n",
       "      <td>Wii</td>\n",
       "      <td>2010</td>\n",
       "      <td>Misc</td>\n",
       "      <td>1650000</td>\n",
       "      <td>570000</td>\n",
       "      <td>0</td>\n",
       "      <td>200000</td>\n",
       "      <td>71.0</td>\n",
       "      <td>tbd</td>\n",
       "      <td>E</td>\n",
       "    </tr>\n",
       "    <tr>\n",
       "      <th>657</th>\n",
       "      <td>Frogger's Adventures: Temple of the Frog</td>\n",
       "      <td>GBA</td>\n",
       "      <td>&lt;NA&gt;</td>\n",
       "      <td>Adventure</td>\n",
       "      <td>2150000</td>\n",
       "      <td>180000</td>\n",
       "      <td>0</td>\n",
       "      <td>70000</td>\n",
       "      <td>73.0</td>\n",
       "      <td>tbd</td>\n",
       "      <td>E</td>\n",
       "    </tr>\n",
       "    <tr>\n",
       "      <th>...</th>\n",
       "      <td>...</td>\n",
       "      <td>...</td>\n",
       "      <td>...</td>\n",
       "      <td>...</td>\n",
       "      <td>...</td>\n",
       "      <td>...</td>\n",
       "      <td>...</td>\n",
       "      <td>...</td>\n",
       "      <td>...</td>\n",
       "      <td>...</td>\n",
       "      <td>...</td>\n",
       "    </tr>\n",
       "    <tr>\n",
       "      <th>16695</th>\n",
       "      <td>Planet Monsters</td>\n",
       "      <td>GBA</td>\n",
       "      <td>2001</td>\n",
       "      <td>Action</td>\n",
       "      <td>10000</td>\n",
       "      <td>0</td>\n",
       "      <td>0</td>\n",
       "      <td>0</td>\n",
       "      <td>67.0</td>\n",
       "      <td>tbd</td>\n",
       "      <td>E</td>\n",
       "    </tr>\n",
       "    <tr>\n",
       "      <th>16697</th>\n",
       "      <td>Bust-A-Move 3000</td>\n",
       "      <td>GC</td>\n",
       "      <td>2003</td>\n",
       "      <td>Puzzle</td>\n",
       "      <td>10000</td>\n",
       "      <td>0</td>\n",
       "      <td>0</td>\n",
       "      <td>0</td>\n",
       "      <td>53.0</td>\n",
       "      <td>tbd</td>\n",
       "      <td>E</td>\n",
       "    </tr>\n",
       "    <tr>\n",
       "      <th>16698</th>\n",
       "      <td>Mega Brain Boost</td>\n",
       "      <td>DS</td>\n",
       "      <td>2008</td>\n",
       "      <td>Puzzle</td>\n",
       "      <td>10000</td>\n",
       "      <td>0</td>\n",
       "      <td>0</td>\n",
       "      <td>0</td>\n",
       "      <td>48.0</td>\n",
       "      <td>tbd</td>\n",
       "      <td>E</td>\n",
       "    </tr>\n",
       "    <tr>\n",
       "      <th>16704</th>\n",
       "      <td>Plushees</td>\n",
       "      <td>DS</td>\n",
       "      <td>2008</td>\n",
       "      <td>Simulation</td>\n",
       "      <td>10000</td>\n",
       "      <td>0</td>\n",
       "      <td>0</td>\n",
       "      <td>0</td>\n",
       "      <td>NaN</td>\n",
       "      <td>tbd</td>\n",
       "      <td>E</td>\n",
       "    </tr>\n",
       "    <tr>\n",
       "      <th>16706</th>\n",
       "      <td>Men in Black II: Alien Escape</td>\n",
       "      <td>GC</td>\n",
       "      <td>2003</td>\n",
       "      <td>Shooter</td>\n",
       "      <td>10000</td>\n",
       "      <td>0</td>\n",
       "      <td>0</td>\n",
       "      <td>0</td>\n",
       "      <td>NaN</td>\n",
       "      <td>tbd</td>\n",
       "      <td>T</td>\n",
       "    </tr>\n",
       "  </tbody>\n",
       "</table>\n",
       "<p>2424 rows × 11 columns</p>\n",
       "</div>"
      ],
      "text/plain": [
       "                                           name platform  year_of_release  \\\n",
       "119                               Zumba Fitness      Wii             2010   \n",
       "301              Namco Museum: 50th Anniversary      PS2             2005   \n",
       "520                             Zumba Fitness 2      Wii             2011   \n",
       "645                                uDraw Studio      Wii             2010   \n",
       "657    Frogger's Adventures: Temple of the Frog      GBA             <NA>   \n",
       "...                                         ...      ...              ...   \n",
       "16695                           Planet Monsters      GBA             2001   \n",
       "16697                          Bust-A-Move 3000       GC             2003   \n",
       "16698                          Mega Brain Boost       DS             2008   \n",
       "16704                                  Plushees       DS             2008   \n",
       "16706             Men in Black II: Alien Escape       GC             2003   \n",
       "\n",
       "            genre  na_sales  eu_sales  jp_sales  other_sales  critic_score  \\\n",
       "119        Sports   3450000   2590000         0       660000           NaN   \n",
       "301          Misc   2080000   1350000         0       540000          61.0   \n",
       "520        Sports   1510000   1030000         0       270000           NaN   \n",
       "645          Misc   1650000    570000         0       200000          71.0   \n",
       "657     Adventure   2150000    180000         0        70000          73.0   \n",
       "...           ...       ...       ...       ...          ...           ...   \n",
       "16695      Action     10000         0         0            0          67.0   \n",
       "16697      Puzzle     10000         0         0            0          53.0   \n",
       "16698      Puzzle     10000         0         0            0          48.0   \n",
       "16704  Simulation     10000         0         0            0           NaN   \n",
       "16706     Shooter     10000         0         0            0           NaN   \n",
       "\n",
       "      user_score rating  \n",
       "119          tbd      E  \n",
       "301          tbd   E10+  \n",
       "520          tbd      T  \n",
       "645          tbd      E  \n",
       "657          tbd      E  \n",
       "...          ...    ...  \n",
       "16695        tbd      E  \n",
       "16697        tbd      E  \n",
       "16698        tbd      E  \n",
       "16704        tbd      E  \n",
       "16706        tbd      T  \n",
       "\n",
       "[2424 rows x 11 columns]"
      ]
     },
     "execution_count": 30,
     "metadata": {},
     "output_type": "execute_result"
    }
   ],
   "source": [
    "# Подозрительное значение tbd в user_score;\n",
    "# Выведем строки из data и посмотрим что бы это могло значить;\n",
    "data_user_score_tbd = data[data['user_score'] == 'tbd']\n",
    "data_user_score_tbd"
   ]
  },
  {
   "cell_type": "code",
   "execution_count": 31,
   "metadata": {},
   "outputs": [
    {
     "data": {
      "text/plain": [
       "2424"
      ]
     },
     "execution_count": 31,
     "metadata": {},
     "output_type": "execute_result"
    }
   ],
   "source": [
    "# Посчитаем количсетво получившихся записей;\n",
    "data_user_score_tbd['name'].count()"
   ]
  },
  {
   "cell_type": "code",
   "execution_count": 32,
   "metadata": {},
   "outputs": [],
   "source": [
    "# Заменим значение tbd на значение NaN;\n",
    "# Считать что рейтинг у данных игр еще не отпредлен;\n",
    "data['user_score'] = data['user_score'].replace('tbd', np.NaN)"
   ]
  },
  {
   "cell_type": "code",
   "execution_count": 33,
   "metadata": {},
   "outputs": [
    {
     "data": {
      "text/html": [
       "<div>\n",
       "<style scoped>\n",
       "    .dataframe tbody tr th:only-of-type {\n",
       "        vertical-align: middle;\n",
       "    }\n",
       "\n",
       "    .dataframe tbody tr th {\n",
       "        vertical-align: top;\n",
       "    }\n",
       "\n",
       "    .dataframe thead th {\n",
       "        text-align: right;\n",
       "    }\n",
       "</style>\n",
       "<table border=\"1\" class=\"dataframe\">\n",
       "  <thead>\n",
       "    <tr style=\"text-align: right;\">\n",
       "      <th></th>\n",
       "      <th>name</th>\n",
       "      <th>platform</th>\n",
       "      <th>year_of_release</th>\n",
       "      <th>genre</th>\n",
       "      <th>na_sales</th>\n",
       "      <th>eu_sales</th>\n",
       "      <th>jp_sales</th>\n",
       "      <th>other_sales</th>\n",
       "      <th>critic_score</th>\n",
       "      <th>user_score</th>\n",
       "      <th>rating</th>\n",
       "    </tr>\n",
       "  </thead>\n",
       "  <tbody>\n",
       "  </tbody>\n",
       "</table>\n",
       "</div>"
      ],
      "text/plain": [
       "Empty DataFrame\n",
       "Columns: [name, platform, year_of_release, genre, na_sales, eu_sales, jp_sales, other_sales, critic_score, user_score, rating]\n",
       "Index: []"
      ]
     },
     "execution_count": 33,
     "metadata": {},
     "output_type": "execute_result"
    }
   ],
   "source": [
    "# Проверим результат\n",
    "data[data['user_score'] == 'tbd']"
   ]
  },
  {
   "cell_type": "code",
   "execution_count": 34,
   "metadata": {},
   "outputs": [],
   "source": [
    "# Преобразуем тип столбца user_score в float64\n",
    "data['user_score'] = data['user_score'].astype('float64')"
   ]
  },
  {
   "cell_type": "code",
   "execution_count": 35,
   "metadata": {},
   "outputs": [
    {
     "data": {
      "text/plain": [
       "numpy.float64"
      ]
     },
     "execution_count": 35,
     "metadata": {},
     "output_type": "execute_result"
    }
   ],
   "source": [
    "# Проверим результат\n",
    "type(data['user_score'][54])"
   ]
  },
  {
   "cell_type": "markdown",
   "metadata": {},
   "source": [
    "**Рассмотрим столбец rating**"
   ]
  },
  {
   "cell_type": "code",
   "execution_count": 36,
   "metadata": {
    "scrolled": true
   },
   "outputs": [
    {
     "name": "stdout",
     "output_type": "stream",
     "text": [
      "rating = 6764\n"
     ]
    }
   ],
   "source": [
    "print ('rating =', data['rating'].isna().sum())"
   ]
  },
  {
   "cell_type": "code",
   "execution_count": 37,
   "metadata": {},
   "outputs": [],
   "source": [
    " data['rating'] =  data['rating'].astype('str')"
   ]
  },
  {
   "cell_type": "code",
   "execution_count": 38,
   "metadata": {},
   "outputs": [],
   "source": [
    "#Создадим отдельный столбец с суммой продаж по всем регионам 'total_sales';\n",
    "data['total_sales'] = data['na_sales'] + data['eu_sales'] + data['jp_sales'] + data['other_sales']"
   ]
  },
  {
   "cell_type": "code",
   "execution_count": 39,
   "metadata": {},
   "outputs": [
    {
     "data": {
      "text/html": [
       "<div>\n",
       "<style scoped>\n",
       "    .dataframe tbody tr th:only-of-type {\n",
       "        vertical-align: middle;\n",
       "    }\n",
       "\n",
       "    .dataframe tbody tr th {\n",
       "        vertical-align: top;\n",
       "    }\n",
       "\n",
       "    .dataframe thead th {\n",
       "        text-align: right;\n",
       "    }\n",
       "</style>\n",
       "<table border=\"1\" class=\"dataframe\">\n",
       "  <thead>\n",
       "    <tr style=\"text-align: right;\">\n",
       "      <th></th>\n",
       "      <th>name</th>\n",
       "      <th>platform</th>\n",
       "      <th>year_of_release</th>\n",
       "      <th>genre</th>\n",
       "      <th>na_sales</th>\n",
       "      <th>eu_sales</th>\n",
       "      <th>jp_sales</th>\n",
       "      <th>other_sales</th>\n",
       "      <th>critic_score</th>\n",
       "      <th>user_score</th>\n",
       "      <th>rating</th>\n",
       "      <th>total_sales</th>\n",
       "    </tr>\n",
       "  </thead>\n",
       "  <tbody>\n",
       "    <tr>\n",
       "      <th>0</th>\n",
       "      <td>Wii Sports</td>\n",
       "      <td>Wii</td>\n",
       "      <td>2006</td>\n",
       "      <td>Sports</td>\n",
       "      <td>41360000</td>\n",
       "      <td>28960000</td>\n",
       "      <td>3770000</td>\n",
       "      <td>8450000</td>\n",
       "      <td>76.0</td>\n",
       "      <td>8.0</td>\n",
       "      <td>E</td>\n",
       "      <td>82540000</td>\n",
       "    </tr>\n",
       "    <tr>\n",
       "      <th>1</th>\n",
       "      <td>Super Mario Bros.</td>\n",
       "      <td>NES</td>\n",
       "      <td>1985</td>\n",
       "      <td>Platform</td>\n",
       "      <td>29080000</td>\n",
       "      <td>3580000</td>\n",
       "      <td>6810000</td>\n",
       "      <td>770000</td>\n",
       "      <td>NaN</td>\n",
       "      <td>NaN</td>\n",
       "      <td>nan</td>\n",
       "      <td>40240000</td>\n",
       "    </tr>\n",
       "    <tr>\n",
       "      <th>2</th>\n",
       "      <td>Mario Kart Wii</td>\n",
       "      <td>Wii</td>\n",
       "      <td>2008</td>\n",
       "      <td>Racing</td>\n",
       "      <td>15680000</td>\n",
       "      <td>12760000</td>\n",
       "      <td>3790000</td>\n",
       "      <td>3290000</td>\n",
       "      <td>82.0</td>\n",
       "      <td>8.3</td>\n",
       "      <td>E</td>\n",
       "      <td>35520000</td>\n",
       "    </tr>\n",
       "    <tr>\n",
       "      <th>3</th>\n",
       "      <td>Wii Sports Resort</td>\n",
       "      <td>Wii</td>\n",
       "      <td>2009</td>\n",
       "      <td>Sports</td>\n",
       "      <td>15610000</td>\n",
       "      <td>10930000</td>\n",
       "      <td>3280000</td>\n",
       "      <td>2950000</td>\n",
       "      <td>80.0</td>\n",
       "      <td>8.0</td>\n",
       "      <td>E</td>\n",
       "      <td>32770000</td>\n",
       "    </tr>\n",
       "    <tr>\n",
       "      <th>4</th>\n",
       "      <td>Pokemon Red/Pokemon Blue</td>\n",
       "      <td>GB</td>\n",
       "      <td>1996</td>\n",
       "      <td>Role-Playing</td>\n",
       "      <td>11270000</td>\n",
       "      <td>8890000</td>\n",
       "      <td>10220000</td>\n",
       "      <td>1000000</td>\n",
       "      <td>NaN</td>\n",
       "      <td>NaN</td>\n",
       "      <td>nan</td>\n",
       "      <td>31380000</td>\n",
       "    </tr>\n",
       "    <tr>\n",
       "      <th>5</th>\n",
       "      <td>Tetris</td>\n",
       "      <td>GB</td>\n",
       "      <td>1989</td>\n",
       "      <td>Puzzle</td>\n",
       "      <td>23200000</td>\n",
       "      <td>2260000</td>\n",
       "      <td>4220000</td>\n",
       "      <td>580000</td>\n",
       "      <td>NaN</td>\n",
       "      <td>NaN</td>\n",
       "      <td>nan</td>\n",
       "      <td>30260000</td>\n",
       "    </tr>\n",
       "    <tr>\n",
       "      <th>6</th>\n",
       "      <td>New Super Mario Bros.</td>\n",
       "      <td>DS</td>\n",
       "      <td>2006</td>\n",
       "      <td>Platform</td>\n",
       "      <td>11280000</td>\n",
       "      <td>9140000</td>\n",
       "      <td>6500000</td>\n",
       "      <td>2880000</td>\n",
       "      <td>89.0</td>\n",
       "      <td>8.5</td>\n",
       "      <td>E</td>\n",
       "      <td>29800000</td>\n",
       "    </tr>\n",
       "    <tr>\n",
       "      <th>7</th>\n",
       "      <td>Wii Play</td>\n",
       "      <td>Wii</td>\n",
       "      <td>2006</td>\n",
       "      <td>Misc</td>\n",
       "      <td>13960000</td>\n",
       "      <td>9180000</td>\n",
       "      <td>2930000</td>\n",
       "      <td>2840000</td>\n",
       "      <td>58.0</td>\n",
       "      <td>6.6</td>\n",
       "      <td>E</td>\n",
       "      <td>28910000</td>\n",
       "    </tr>\n",
       "    <tr>\n",
       "      <th>8</th>\n",
       "      <td>New Super Mario Bros. Wii</td>\n",
       "      <td>Wii</td>\n",
       "      <td>2009</td>\n",
       "      <td>Platform</td>\n",
       "      <td>14440000</td>\n",
       "      <td>6940000</td>\n",
       "      <td>4700000</td>\n",
       "      <td>2240000</td>\n",
       "      <td>87.0</td>\n",
       "      <td>8.4</td>\n",
       "      <td>E</td>\n",
       "      <td>28320000</td>\n",
       "    </tr>\n",
       "    <tr>\n",
       "      <th>9</th>\n",
       "      <td>Duck Hunt</td>\n",
       "      <td>NES</td>\n",
       "      <td>1984</td>\n",
       "      <td>Shooter</td>\n",
       "      <td>26930000</td>\n",
       "      <td>630000</td>\n",
       "      <td>280000</td>\n",
       "      <td>470000</td>\n",
       "      <td>NaN</td>\n",
       "      <td>NaN</td>\n",
       "      <td>nan</td>\n",
       "      <td>28310000</td>\n",
       "    </tr>\n",
       "  </tbody>\n",
       "</table>\n",
       "</div>"
      ],
      "text/plain": [
       "                        name platform  year_of_release         genre  \\\n",
       "0                 Wii Sports      Wii             2006        Sports   \n",
       "1          Super Mario Bros.      NES             1985      Platform   \n",
       "2             Mario Kart Wii      Wii             2008        Racing   \n",
       "3          Wii Sports Resort      Wii             2009        Sports   \n",
       "4   Pokemon Red/Pokemon Blue       GB             1996  Role-Playing   \n",
       "5                     Tetris       GB             1989        Puzzle   \n",
       "6      New Super Mario Bros.       DS             2006      Platform   \n",
       "7                   Wii Play      Wii             2006          Misc   \n",
       "8  New Super Mario Bros. Wii      Wii             2009      Platform   \n",
       "9                  Duck Hunt      NES             1984       Shooter   \n",
       "\n",
       "   na_sales  eu_sales  jp_sales  other_sales  critic_score  user_score rating  \\\n",
       "0  41360000  28960000   3770000      8450000          76.0         8.0      E   \n",
       "1  29080000   3580000   6810000       770000           NaN         NaN    nan   \n",
       "2  15680000  12760000   3790000      3290000          82.0         8.3      E   \n",
       "3  15610000  10930000   3280000      2950000          80.0         8.0      E   \n",
       "4  11270000   8890000  10220000      1000000           NaN         NaN    nan   \n",
       "5  23200000   2260000   4220000       580000           NaN         NaN    nan   \n",
       "6  11280000   9140000   6500000      2880000          89.0         8.5      E   \n",
       "7  13960000   9180000   2930000      2840000          58.0         6.6      E   \n",
       "8  14440000   6940000   4700000      2240000          87.0         8.4      E   \n",
       "9  26930000    630000    280000       470000           NaN         NaN    nan   \n",
       "\n",
       "   total_sales  \n",
       "0     82540000  \n",
       "1     40240000  \n",
       "2     35520000  \n",
       "3     32770000  \n",
       "4     31380000  \n",
       "5     30260000  \n",
       "6     29800000  \n",
       "7     28910000  \n",
       "8     28320000  \n",
       "9     28310000  "
      ]
     },
     "execution_count": 39,
     "metadata": {},
     "output_type": "execute_result"
    }
   ],
   "source": [
    "# Проверим что получилось;\n",
    "data.head(10)"
   ]
  },
  {
   "attachments": {
    "TBD.jpg": {
     "image/jpeg": "[encoded data removed]"
    }
   },
   "cell_type": "markdown",
   "metadata": {},
   "source": [
    "**Вывод:** \n",
    "- В столбце *name* отсутсвовало название 2 игр. Можем смело их удалить. Скорее всего техническая ошибка при выгрузке базы.\n",
    "- В столбке *platform* пропусков нет, не явных дубликатов нет.\n",
    "- В столбце  *genre* пропусков нет, не явных дубликатов нет.\n",
    "- В столбце *year_of_release* имеются пропущенные данные, **удалили** так как восстановить или логически заполить не предоставляется возможным. Изменили тип с flot на Int32.  \n",
    "- В столбцах *na_sales, eu_sales, jp_sales, other_sales* пропусков данных нет, перевели значение в миллионы и изменили тип с *float* на *int*\n",
    "- В солбцах *critic_score* и *user_score* имеются пропуски. Так как это оценки критиков и пользователей возможно нужны для дальшейшего исследования. Скорее всего придется присвоить оценки пользователй в зависомости от количества общих продаж. Пропуски могут быть сявязаны, как с технической ошибкой, так и с тем что данной игры не было ни одной оценки критиков и пользователей. \n",
    "- В солбце  *user_score* имеется странное значние ***tbd***. Возможно это какое-то сокращение.\n",
    "![TBD.jpg](attachment:TBD.jpg)  \n",
    "Небольшое количество времени в поисках привели меня к выводу что это геймерская аббревиатура. ***tbd*** -  аббревиатура от английского To Be Determined (будет определено) или To Be Decided (будет решено). Можем сделать вывод что рейтинг не был определен. Значит можем смело заменить на **NaN**\n",
    "- В столбце *rating* имеются пропуски. Не всем играм мужен рейтиг. \n"
   ]
  },
  {
   "cell_type": "markdown",
   "metadata": {},
   "source": [
    "## Исследовательский анализ"
   ]
  },
  {
   "cell_type": "code",
   "execution_count": 40,
   "metadata": {},
   "outputs": [
    {
     "data": {
      "text/plain": [
       "<AxesSubplot:title={'center':'Количество игр, выпущенных за разные годы'}, xlabel='Год выпуска', ylabel='Количество игр'>"
      ]
     },
     "execution_count": 40,
     "metadata": {},
     "output_type": "execute_result"
    },
    {
     "data": {
      "image/png": "[encoded data removed]",
      "text/plain": [
       "<Figure size 720x360 with 1 Axes>"
      ]
     },
     "metadata": {
      "needs_background": "light"
     },
     "output_type": "display_data"
    }
   ],
   "source": [
    "# Посмотрим сколько игр выпускалось в разные годы\n",
    "games_year = data.groupby(by='year_of_release').count()\n",
    "games_year.plot(y='name', \n",
    "                kind='bar',\n",
    "                figsize=(10,5),\n",
    "                xlabel='Год выпуска',\n",
    "                ylabel='Количество игр',\n",
    "                title='Количество игр, выпущенных за разные годы',\n",
    "                color='darkblue')              "
   ]
  },
  {
   "cell_type": "markdown",
   "metadata": {},
   "source": [
    "**Промежуточный вывод:**   \n",
    "Как мы можем видеть, что в переод до 1995 года видео игры были не популярны. Это обуславлавливается тем, что мощность персональных компьютеров была не высокой.  \n",
    "Видим в 2002 году резкий скачек в количестве видео игр.\n",
    "Пик выпуска игр приходиться на период с 2008 г. по 209 г."
   ]
  },
  {
   "cell_type": "code",
   "execution_count": 41,
   "metadata": {
    "scrolled": true
   },
   "outputs": [
    {
     "data": {
      "text/plain": [
       "<AxesSubplot:title={'center':'Продажи по платформам'}, xlabel='Название платформы', ylabel='Количество продаж'>"
      ]
     },
     "execution_count": 41,
     "metadata": {},
     "output_type": "execute_result"
    },
    {
     "data": {
      "image/png": "[encoded data removed]",
      "text/plain": [
       "<Figure size 720x288 with 1 Axes>"
      ]
     },
     "metadata": {
      "needs_background": "light"
     },
     "output_type": "display_data"
    }
   ],
   "source": [
    "# Посмотрим как менялись продажи по платформам\n",
    "# Выберем платформы с наибольшими суммарными продажами\n",
    "platform_total_sales_pivot = data.pivot_table(index=['platform'],\n",
    "                                            values='total_sales',\n",
    "                                            aggfunc=['mean', 'count', 'median', 'sum'])\n",
    "platform_total_sales_pivot.plot(y='sum', \n",
    "                                kind='bar',\n",
    "                                figsize=(10,4),\n",
    "                                xlabel='Название платформы',\n",
    "                                ylabel='Количество продаж',\n",
    "                                title='Продажи по платформам',\n",
    "                                color='darkblue') "
   ]
  },
  {
   "cell_type": "markdown",
   "metadata": {},
   "source": [
    "**Промежуточный вывод:**   \n",
    "Одна из самых популярных платвом это PS2. Дальше идут X360, PS3, Wii, DS, PS соответсвтенно."
   ]
  },
  {
   "cell_type": "code",
   "execution_count": 42,
   "metadata": {},
   "outputs": [
    {
     "data": {
      "text/html": [
       "<div>\n",
       "<style scoped>\n",
       "    .dataframe tbody tr th:only-of-type {\n",
       "        vertical-align: middle;\n",
       "    }\n",
       "\n",
       "    .dataframe tbody tr th {\n",
       "        vertical-align: top;\n",
       "    }\n",
       "\n",
       "    .dataframe thead th {\n",
       "        text-align: right;\n",
       "    }\n",
       "</style>\n",
       "<table border=\"1\" class=\"dataframe\">\n",
       "  <thead>\n",
       "    <tr style=\"text-align: right;\">\n",
       "      <th></th>\n",
       "      <th>total_sales</th>\n",
       "    </tr>\n",
       "    <tr>\n",
       "      <th>platform</th>\n",
       "      <th></th>\n",
       "    </tr>\n",
       "  </thead>\n",
       "  <tbody>\n",
       "    <tr>\n",
       "      <th>PS2</th>\n",
       "      <td>1255769992</td>\n",
       "    </tr>\n",
       "    <tr>\n",
       "      <th>X360</th>\n",
       "      <td>971419999</td>\n",
       "    </tr>\n",
       "    <tr>\n",
       "      <th>PS3</th>\n",
       "      <td>939649995</td>\n",
       "    </tr>\n",
       "    <tr>\n",
       "      <th>Wii</th>\n",
       "      <td>907509997</td>\n",
       "    </tr>\n",
       "    <tr>\n",
       "      <th>DS</th>\n",
       "      <td>806120000</td>\n",
       "    </tr>\n",
       "    <tr>\n",
       "      <th>PS</th>\n",
       "      <td>730859994</td>\n",
       "    </tr>\n",
       "    <tr>\n",
       "      <th>GBA</th>\n",
       "      <td>317849999</td>\n",
       "    </tr>\n",
       "    <tr>\n",
       "      <th>PS4</th>\n",
       "      <td>314139997</td>\n",
       "    </tr>\n",
       "    <tr>\n",
       "      <th>PSP</th>\n",
       "      <td>294050000</td>\n",
       "    </tr>\n",
       "    <tr>\n",
       "      <th>PC</th>\n",
       "      <td>259519998</td>\n",
       "    </tr>\n",
       "    <tr>\n",
       "      <th>3DS</th>\n",
       "      <td>258999997</td>\n",
       "    </tr>\n",
       "    <tr>\n",
       "      <th>XB</th>\n",
       "      <td>257739999</td>\n",
       "    </tr>\n",
       "    <tr>\n",
       "      <th>GB</th>\n",
       "      <td>255459999</td>\n",
       "    </tr>\n",
       "    <tr>\n",
       "      <th>NES</th>\n",
       "      <td>251049998</td>\n",
       "    </tr>\n",
       "    <tr>\n",
       "      <th>N64</th>\n",
       "      <td>218679998</td>\n",
       "    </tr>\n",
       "    <tr>\n",
       "      <th>SNES</th>\n",
       "      <td>200040000</td>\n",
       "    </tr>\n",
       "    <tr>\n",
       "      <th>GC</th>\n",
       "      <td>198930000</td>\n",
       "    </tr>\n",
       "    <tr>\n",
       "      <th>XOne</th>\n",
       "      <td>159319999</td>\n",
       "    </tr>\n",
       "    <tr>\n",
       "      <th>2600</th>\n",
       "      <td>96980000</td>\n",
       "    </tr>\n",
       "    <tr>\n",
       "      <th>WiiU</th>\n",
       "      <td>82190000</td>\n",
       "    </tr>\n",
       "    <tr>\n",
       "      <th>PSV</th>\n",
       "      <td>54070000</td>\n",
       "    </tr>\n",
       "    <tr>\n",
       "      <th>SAT</th>\n",
       "      <td>33590000</td>\n",
       "    </tr>\n",
       "    <tr>\n",
       "      <th>GEN</th>\n",
       "      <td>28350000</td>\n",
       "    </tr>\n",
       "    <tr>\n",
       "      <th>DC</th>\n",
       "      <td>15950000</td>\n",
       "    </tr>\n",
       "    <tr>\n",
       "      <th>SCD</th>\n",
       "      <td>1860000</td>\n",
       "    </tr>\n",
       "    <tr>\n",
       "      <th>NG</th>\n",
       "      <td>1440000</td>\n",
       "    </tr>\n",
       "    <tr>\n",
       "      <th>WS</th>\n",
       "      <td>1420000</td>\n",
       "    </tr>\n",
       "    <tr>\n",
       "      <th>TG16</th>\n",
       "      <td>160000</td>\n",
       "    </tr>\n",
       "    <tr>\n",
       "      <th>3DO</th>\n",
       "      <td>100000</td>\n",
       "    </tr>\n",
       "    <tr>\n",
       "      <th>GG</th>\n",
       "      <td>40000</td>\n",
       "    </tr>\n",
       "    <tr>\n",
       "      <th>PCFX</th>\n",
       "      <td>30000</td>\n",
       "    </tr>\n",
       "  </tbody>\n",
       "</table>\n",
       "</div>"
      ],
      "text/plain": [
       "          total_sales\n",
       "platform             \n",
       "PS2        1255769992\n",
       "X360        971419999\n",
       "PS3         939649995\n",
       "Wii         907509997\n",
       "DS          806120000\n",
       "PS          730859994\n",
       "GBA         317849999\n",
       "PS4         314139997\n",
       "PSP         294050000\n",
       "PC          259519998\n",
       "3DS         258999997\n",
       "XB          257739999\n",
       "GB          255459999\n",
       "NES         251049998\n",
       "N64         218679998\n",
       "SNES        200040000\n",
       "GC          198930000\n",
       "XOne        159319999\n",
       "2600         96980000\n",
       "WiiU         82190000\n",
       "PSV          54070000\n",
       "SAT          33590000\n",
       "GEN          28350000\n",
       "DC           15950000\n",
       "SCD           1860000\n",
       "NG            1440000\n",
       "WS            1420000\n",
       "TG16           160000\n",
       "3DO            100000\n",
       "GG              40000\n",
       "PCFX            30000"
      ]
     },
     "execution_count": 42,
     "metadata": {},
     "output_type": "execute_result"
    }
   ],
   "source": [
    "#Выбераем платформы с наибольшими суммарными продажами и строим распределение по годам\n",
    "#data_sum_maximum_sales = data[data['total_sales'] > data['total_sales'].median()]\n",
    "platform_sum_maximum_sales = data.pivot_table(index='platform', \n",
    "                                              values='total_sales', \n",
    "                                              aggfunc = 'sum')\\\n",
    "                                 .sort_values(by='total_sales', \n",
    "                                              ascending=False)\n",
    "platform_sum_maximum_sales"
   ]
  },
  {
   "cell_type": "code",
   "execution_count": 43,
   "metadata": {
    "scrolled": true
   },
   "outputs": [
    {
     "data": {
      "image/png": "[encoded data removed]",
      "text/plain": [
       "<Figure size 1008x288 with 1 Axes>"
      ]
     },
     "metadata": {
      "needs_background": "light"
     },
     "output_type": "display_data"
    }
   ],
   "source": [
    "plt.figure(figsize = (14,4))\n",
    "sb.barplot(x=platform_sum_maximum_sales.index, \n",
    "           y=platform_sum_maximum_sales['total_sales'],\n",
    "           color='darkblue' )\n",
    "plt.title('Платформы с наибольшими суммарными продажами')\n",
    "plt.xlabel('Платформа')\n",
    "plt.ylabel('Суммарное количество продаж на платформу')\n",
    "plt.show()"
   ]
  },
  {
   "cell_type": "markdown",
   "metadata": {},
   "source": [
    "**Промежуточный вывод:**  \n",
    "Из исследования видно, что самые популярные игровые платформы за весь период это PS2, X360, PS3, WII, DS, PS."
   ]
  },
  {
   "cell_type": "code",
   "execution_count": 44,
   "metadata": {},
   "outputs": [],
   "source": [
    "# Построим распределение по годам.\n",
    "top_platform_group = data.pivot_table(index='platform', \n",
    "                                      values='total_sales', \n",
    "                                      aggfunc={'total_sales':'sum'})\\\n",
    "                         .sort_values(by='total_sales', \n",
    "                                      ascending=False)\n",
    "top_platform_group = top_platform_group.head(6)\n",
    "top_platform_name = top_platform_group.index"
   ]
  },
  {
   "cell_type": "code",
   "execution_count": 45,
   "metadata": {},
   "outputs": [
    {
     "data": {
      "image/png": "[encoded data removed]",
      "text/plain": [
       "<Figure size 1440x288 with 1 Axes>"
      ]
     },
     "metadata": {
      "needs_background": "light"
     },
     "output_type": "display_data"
    }
   ],
   "source": [
    "# Cоздадим распределение топ-6 платформ по годам\n",
    "plt.figure(figsize = (20,4))\n",
    "for platform in top_platform_group:\n",
    "        sb.barplot(x=data.groupby(\"year_of_release\")['total_sales'].sum().index,\n",
    "                   y=data.groupby(\"year_of_release\")['total_sales'].sum(),\n",
    "                   color='darkblue')"
   ]
  },
  {
   "cell_type": "code",
   "execution_count": 46,
   "metadata": {},
   "outputs": [
    {
     "data": {
      "image/png": "[encoded data removed]",
      "text/plain": [
       "<Figure size 720x288 with 1 Axes>"
      ]
     },
     "metadata": {
      "needs_background": "light"
     },
     "output_type": "display_data"
    },
    {
     "data": {
      "image/png": "[encoded data removed]",
      "text/plain": [
       "<Figure size 720x288 with 1 Axes>"
      ]
     },
     "metadata": {
      "needs_background": "light"
     },
     "output_type": "display_data"
    },
    {
     "data": {
      "image/png": "[encoded data removed]",
      "text/plain": [
       "<Figure size 720x288 with 1 Axes>"
      ]
     },
     "metadata": {
      "needs_background": "light"
     },
     "output_type": "display_data"
    },
    {
     "data": {
      "image/png": "[encoded data removed]",
      "text/plain": [
       "<Figure size 720x288 with 1 Axes>"
      ]
     },
     "metadata": {
      "needs_background": "light"
     },
     "output_type": "display_data"
    },
    {
     "data": {
      "image/png": "[encoded data removed]",
      "text/plain": [
       "<Figure size 720x288 with 1 Axes>"
      ]
     },
     "metadata": {
      "needs_background": "light"
     },
     "output_type": "display_data"
    },
    {
     "data": {
      "image/png": "[encoded data removed]",
      "text/plain": [
       "<Figure size 720x288 with 1 Axes>"
      ]
     },
     "metadata": {
      "needs_background": "light"
     },
     "output_type": "display_data"
    }
   ],
   "source": [
    "hist_platform = []\n",
    "for platform in top_platform_name:\n",
    "    hist_platform.append(data[data['platform'] == platform].pivot_table(index='year_of_release', \n",
    "                                                                        values='total_sales', \n",
    "                                                                        aggfunc='sum'))\n",
    "\n",
    "\n",
    "for i in range(0,6):\n",
    "    plt.figure(figsize = (10,4))\n",
    "    sb.barplot(data=hist_platform[i],\n",
    "               x=hist_platform[i].index, \n",
    "               y=hist_platform[i]['total_sales'],\n",
    "               color='darkblue')\n",
    "    plt.title(top_platform_name[i])\n",
    "    plt.xlabel('Год')\n",
    "    plt.ylabel('Суммарное количество продаж на платформу')\n",
    "    plt.show()"
   ]
  },
  {
   "cell_type": "markdown",
   "metadata": {},
   "source": [
    "**Промежуточный вывод:**  \n",
    "\n",
    "Можно заметить, что каждая из платформ активно продавалась примерно по 10 лет\n",
    "\n",
    "- *PS2 с 2000 по 2010 (в точности 10 лет)*  \n",
    "- *DS с 2004 по 2013 (9 лет)*  \n",
    "- *X360 с 2005 по 2015 (10 лет)*  \n",
    "- *Wii 2006 - 2015 (9 лет)*  \n",
    "- *PS3 2006 - 2016 (10 лет)*\n",
    "- *PS 1994 - 2003 (9 лет)*  \n",
    "\n",
    "Таким образом, в среднем консоль живет 10 лет.\n",
    "\n",
    "Как мы можем видеть, что спад актуальных моделей в ближайшее время начислся с 2012 - 2013 года. \n",
    "\n",
    "Это может быть связано с началом популярности мобильных игр или другими вакторами связанными с производством, поставкой комплектующих и т. д.  \n",
    "\n",
    "Для дальнейшего рассматрения, я выбрал актуальный период начиная с 2012 года."
   ]
  },
  {
   "cell_type": "code",
   "execution_count": 47,
   "metadata": {},
   "outputs": [],
   "source": [
    "# Выберем данные для актуального периода;\n",
    "good_data = data[data['year_of_release']>=2012].reset_index()\n",
    "platform_good_data = good_data.pivot_table(index='platform', values='total_sales', aggfunc = 'sum')\\\n",
    "                    .sort_values(by='total_sales', ascending=False)"
   ]
  },
  {
   "cell_type": "code",
   "execution_count": 48,
   "metadata": {},
   "outputs": [
    {
     "data": {
      "image/png": "[encoded data removed]",
      "text/plain": [
       "<Figure size 1008x360 with 1 Axes>"
      ]
     },
     "metadata": {
      "needs_background": "light"
     },
     "output_type": "display_data"
    }
   ],
   "source": [
    "plt.figure(figsize = (14,5))\n",
    "sb.barplot(x=platform_good_data.index, y=platform_good_data['total_sales'], color='darkblue' )\n",
    "plt.title('Платформы с наибольшими суммарными продажами')\n",
    "plt.xlabel('Платформа')\n",
    "plt.ylabel('Суммарное количество продаж на платформу')\n",
    "plt.show()"
   ]
  },
  {
   "cell_type": "code",
   "execution_count": 49,
   "metadata": {},
   "outputs": [
    {
     "data": {
      "image/png": "[encoded data removed]",
      "text/plain": [
       "<Figure size 720x360 with 1 Axes>"
      ]
     },
     "metadata": {
      "needs_background": "light"
     },
     "output_type": "display_data"
    },
    {
     "data": {
      "image/png": "[encoded data removed]",
      "text/plain": [
       "<Figure size 720x360 with 1 Axes>"
      ]
     },
     "metadata": {
      "needs_background": "light"
     },
     "output_type": "display_data"
    },
    {
     "data": {
      "image/png": "[encoded data removed]",
      "text/plain": [
       "<Figure size 720x360 with 1 Axes>"
      ]
     },
     "metadata": {
      "needs_background": "light"
     },
     "output_type": "display_data"
    },
    {
     "data": {
      "image/png": "[encoded data removed]",
      "text/plain": [
       "<Figure size 720x360 with 1 Axes>"
      ]
     },
     "metadata": {
      "needs_background": "light"
     },
     "output_type": "display_data"
    },
    {
     "data": {
      "image/png": "[encoded data removed]",
      "text/plain": [
       "<Figure size 720x360 with 1 Axes>"
      ]
     },
     "metadata": {
      "needs_background": "light"
     },
     "output_type": "display_data"
    },
    {
     "data": {
      "image/png": "[encoded data removed]",
      "text/plain": [
       "<Figure size 720x360 with 1 Axes>"
      ]
     },
     "metadata": {
      "needs_background": "light"
     },
     "output_type": "display_data"
    },
    {
     "data": {
      "image/png": "[encoded data removed]",
      "text/plain": [
       "<Figure size 720x360 with 1 Axes>"
      ]
     },
     "metadata": {
      "needs_background": "light"
     },
     "output_type": "display_data"
    },
    {
     "data": {
      "image/png": "[encoded data removed]",
      "text/plain": [
       "<Figure size 720x360 with 1 Axes>"
      ]
     },
     "metadata": {
      "needs_background": "light"
     },
     "output_type": "display_data"
    },
    {
     "data": {
      "image/png": "[encoded data removed]",
      "text/plain": [
       "<Figure size 720x360 with 1 Axes>"
      ]
     },
     "metadata": {
      "needs_background": "light"
     },
     "output_type": "display_data"
    },
    {
     "data": {
      "image/png": "[encoded data removed]",
      "text/plain": [
       "<Figure size 720x360 with 1 Axes>"
      ]
     },
     "metadata": {
      "needs_background": "light"
     },
     "output_type": "display_data"
    },
    {
     "data": {
      "image/png": "[encoded data removed]",
      "text/plain": [
       "<Figure size 720x360 with 1 Axes>"
      ]
     },
     "metadata": {
      "needs_background": "light"
     },
     "output_type": "display_data"
    }
   ],
   "source": [
    "good_data_platform = list(good_data['platform'].unique())\n",
    "\n",
    "good_data_pivot = good_data.pivot_table(index='year_of_release',\n",
    "                                       values='total_sales',\n",
    "                                       columns ='platform',\n",
    "                                       aggfunc='sum')\n",
    "\n",
    "for name in good_data_platform:\n",
    "    plt.figure(figsize = (10,5))\n",
    "    sb.barplot(data=good_data_pivot,\n",
    "               x=good_data_pivot.index, \n",
    "               y=good_data_pivot[name],\n",
    "               color='darkblue')\n",
    "    plt.title(name)\n",
    "    plt.xlabel('Год')\n",
    "    plt.ylabel('Суммарное количество продаж на платформу')\n",
    "    plt.show()"
   ]
  },
  {
   "cell_type": "markdown",
   "metadata": {},
   "source": [
    "**Промежуточный вывод:**  \n",
    "Начиная с 2012 года в лидерах продаж находятся следующие приставки: PS4, PS3, X360, 3DS, XOne. \n",
    "\n",
    "Наиболее перспективными платформами являются: PS4, XOne. Первый их выход был в 2013 году, поэтому у них есть хорошие шансы проявить себя."
   ]
  },
  {
   "cell_type": "code",
   "execution_count": 50,
   "metadata": {
    "scrolled": false
   },
   "outputs": [
    {
     "data": {
      "image/png": "[encoded data removed]",
      "text/plain": [
       "<Figure size 864x360 with 1 Axes>"
      ]
     },
     "metadata": {
      "needs_background": "light"
     },
     "output_type": "display_data"
    }
   ],
   "source": [
    "# Постройте график «ящик с усами» по глобальным продажам игр в разбивке по платформам. Опишите результат;\n",
    "plt.figure(figsize=(12, 5))\n",
    "sb.boxplot(data=good_data, y='platform', x='total_sales').set(xlim=(0,2500000))\n",
    "plt.title('Диаграмма размаха')\n",
    "plt.xlabel('Суммарное количество продаж на платформу')\n",
    "plt.ylabel('Название платформы')\n",
    "plt.show()"
   ]
  },
  {
   "cell_type": "code",
   "execution_count": 51,
   "metadata": {},
   "outputs": [
    {
     "data": {
      "text/html": [
       "<div>\n",
       "<style scoped>\n",
       "    .dataframe tbody tr th:only-of-type {\n",
       "        vertical-align: middle;\n",
       "    }\n",
       "\n",
       "    .dataframe tbody tr th {\n",
       "        vertical-align: top;\n",
       "    }\n",
       "\n",
       "    .dataframe thead th {\n",
       "        text-align: right;\n",
       "    }\n",
       "</style>\n",
       "<table border=\"1\" class=\"dataframe\">\n",
       "  <thead>\n",
       "    <tr style=\"text-align: right;\">\n",
       "      <th></th>\n",
       "      <th>25%</th>\n",
       "      <th>50%</th>\n",
       "      <th>75%</th>\n",
       "      <th>count</th>\n",
       "      <th>max</th>\n",
       "      <th>mean</th>\n",
       "      <th>min</th>\n",
       "      <th>std</th>\n",
       "    </tr>\n",
       "    <tr>\n",
       "      <th>platform</th>\n",
       "      <th></th>\n",
       "      <th></th>\n",
       "      <th></th>\n",
       "      <th></th>\n",
       "      <th></th>\n",
       "      <th></th>\n",
       "      <th></th>\n",
       "      <th></th>\n",
       "    </tr>\n",
       "  </thead>\n",
       "  <tbody>\n",
       "    <tr>\n",
       "      <th>3DS</th>\n",
       "      <td>40000.0</td>\n",
       "      <td>110000.0</td>\n",
       "      <td>312500.0</td>\n",
       "      <td>396.0</td>\n",
       "      <td>14600000.0</td>\n",
       "      <td>491439.391414</td>\n",
       "      <td>10000.0</td>\n",
       "      <td>1.387161e+06</td>\n",
       "    </tr>\n",
       "    <tr>\n",
       "      <th>DS</th>\n",
       "      <td>20000.0</td>\n",
       "      <td>50000.0</td>\n",
       "      <td>185000.0</td>\n",
       "      <td>31.0</td>\n",
       "      <td>8060000.0</td>\n",
       "      <td>404838.709677</td>\n",
       "      <td>10000.0</td>\n",
       "      <td>1.439245e+06</td>\n",
       "    </tr>\n",
       "    <tr>\n",
       "      <th>PC</th>\n",
       "      <td>30000.0</td>\n",
       "      <td>80000.0</td>\n",
       "      <td>240000.0</td>\n",
       "      <td>250.0</td>\n",
       "      <td>5140000.0</td>\n",
       "      <td>250600.000000</td>\n",
       "      <td>10000.0</td>\n",
       "      <td>4.946404e+05</td>\n",
       "    </tr>\n",
       "    <tr>\n",
       "      <th>PS3</th>\n",
       "      <td>50000.0</td>\n",
       "      <td>200000.0</td>\n",
       "      <td>610000.0</td>\n",
       "      <td>493.0</td>\n",
       "      <td>21050000.0</td>\n",
       "      <td>585780.929006</td>\n",
       "      <td>10000.0</td>\n",
       "      <td>1.462855e+06</td>\n",
       "    </tr>\n",
       "    <tr>\n",
       "      <th>PS4</th>\n",
       "      <td>60000.0</td>\n",
       "      <td>200000.0</td>\n",
       "      <td>730000.0</td>\n",
       "      <td>392.0</td>\n",
       "      <td>14630000.0</td>\n",
       "      <td>801377.543367</td>\n",
       "      <td>10000.0</td>\n",
       "      <td>1.609456e+06</td>\n",
       "    </tr>\n",
       "    <tr>\n",
       "      <th>PSP</th>\n",
       "      <td>20000.0</td>\n",
       "      <td>30000.0</td>\n",
       "      <td>90000.0</td>\n",
       "      <td>173.0</td>\n",
       "      <td>360000.0</td>\n",
       "      <td>64682.080925</td>\n",
       "      <td>10000.0</td>\n",
       "      <td>7.129645e+04</td>\n",
       "    </tr>\n",
       "    <tr>\n",
       "      <th>PSV</th>\n",
       "      <td>20000.0</td>\n",
       "      <td>50000.0</td>\n",
       "      <td>120000.0</td>\n",
       "      <td>411.0</td>\n",
       "      <td>1960000.0</td>\n",
       "      <td>119659.367397</td>\n",
       "      <td>10000.0</td>\n",
       "      <td>2.030112e+05</td>\n",
       "    </tr>\n",
       "    <tr>\n",
       "      <th>Wii</th>\n",
       "      <td>62500.0</td>\n",
       "      <td>180000.0</td>\n",
       "      <td>687500.0</td>\n",
       "      <td>54.0</td>\n",
       "      <td>6760000.0</td>\n",
       "      <td>655000.000000</td>\n",
       "      <td>10000.0</td>\n",
       "      <td>1.165447e+06</td>\n",
       "    </tr>\n",
       "    <tr>\n",
       "      <th>WiiU</th>\n",
       "      <td>80000.0</td>\n",
       "      <td>220000.0</td>\n",
       "      <td>525000.0</td>\n",
       "      <td>147.0</td>\n",
       "      <td>7090000.0</td>\n",
       "      <td>559115.646259</td>\n",
       "      <td>10000.0</td>\n",
       "      <td>1.058836e+06</td>\n",
       "    </tr>\n",
       "    <tr>\n",
       "      <th>X360</th>\n",
       "      <td>100000.0</td>\n",
       "      <td>310000.0</td>\n",
       "      <td>870000.0</td>\n",
       "      <td>292.0</td>\n",
       "      <td>16270000.0</td>\n",
       "      <td>810068.493151</td>\n",
       "      <td>10000.0</td>\n",
       "      <td>1.712069e+06</td>\n",
       "    </tr>\n",
       "    <tr>\n",
       "      <th>XOne</th>\n",
       "      <td>60000.0</td>\n",
       "      <td>220000.0</td>\n",
       "      <td>685000.0</td>\n",
       "      <td>247.0</td>\n",
       "      <td>7390000.0</td>\n",
       "      <td>645020.238866</td>\n",
       "      <td>10000.0</td>\n",
       "      <td>1.036139e+06</td>\n",
       "    </tr>\n",
       "  </tbody>\n",
       "</table>\n",
       "</div>"
      ],
      "text/plain": [
       "               25%       50%       75%  count         max           mean  \\\n",
       "platform                                                                   \n",
       "3DS        40000.0  110000.0  312500.0  396.0  14600000.0  491439.391414   \n",
       "DS         20000.0   50000.0  185000.0   31.0   8060000.0  404838.709677   \n",
       "PC         30000.0   80000.0  240000.0  250.0   5140000.0  250600.000000   \n",
       "PS3        50000.0  200000.0  610000.0  493.0  21050000.0  585780.929006   \n",
       "PS4        60000.0  200000.0  730000.0  392.0  14630000.0  801377.543367   \n",
       "PSP        20000.0   30000.0   90000.0  173.0    360000.0   64682.080925   \n",
       "PSV        20000.0   50000.0  120000.0  411.0   1960000.0  119659.367397   \n",
       "Wii        62500.0  180000.0  687500.0   54.0   6760000.0  655000.000000   \n",
       "WiiU       80000.0  220000.0  525000.0  147.0   7090000.0  559115.646259   \n",
       "X360      100000.0  310000.0  870000.0  292.0  16270000.0  810068.493151   \n",
       "XOne       60000.0  220000.0  685000.0  247.0   7390000.0  645020.238866   \n",
       "\n",
       "              min           std  \n",
       "platform                         \n",
       "3DS       10000.0  1.387161e+06  \n",
       "DS        10000.0  1.439245e+06  \n",
       "PC        10000.0  4.946404e+05  \n",
       "PS3       10000.0  1.462855e+06  \n",
       "PS4       10000.0  1.609456e+06  \n",
       "PSP       10000.0  7.129645e+04  \n",
       "PSV       10000.0  2.030112e+05  \n",
       "Wii       10000.0  1.165447e+06  \n",
       "WiiU      10000.0  1.058836e+06  \n",
       "X360      10000.0  1.712069e+06  \n",
       "XOne      10000.0  1.036139e+06  "
      ]
     },
     "execution_count": 51,
     "metadata": {},
     "output_type": "execute_result"
    }
   ],
   "source": [
    "good_data.pivot_table(index='platform', values='total_sales', aggfunc='describe')"
   ]
  },
  {
   "cell_type": "markdown",
   "metadata": {},
   "source": [
    "**Промежуточный  вывод:**  \n",
    "Видно, что практически во всех распределениях для каждой платформы имеются длинные хвосты с высокими значениями, то есть среднее для таких распределений будет куда выше, чем медианное значение.    \n",
    "Наибольший потенциал имеют платформы X360, PS4, XOne,  WiiU.\n",
    "\n"
   ]
  },
  {
   "cell_type": "code",
   "execution_count": 52,
   "metadata": {},
   "outputs": [
    {
     "data": {
      "image/png": "[encoded data removed]",
      "text/plain": [
       "<Figure size 360x360 with 1 Axes>"
      ]
     },
     "metadata": {
      "needs_background": "light"
     },
     "output_type": "display_data"
    },
    {
     "name": "stdout",
     "output_type": "stream",
     "text": [
      "0.006163978646213363\n"
     ]
    },
    {
     "data": {
      "image/png": "[encoded data removed]",
      "text/plain": [
       "<Figure size 360x360 with 1 Axes>"
      ]
     },
     "metadata": {
      "needs_background": "light"
     },
     "output_type": "display_data"
    },
    {
     "name": "stdout",
     "output_type": "stream",
     "text": [
      "0.36057348885073387\n"
     ]
    }
   ],
   "source": [
    "# Рассмотрим влияние отзовов и оценок экспертов на продажи;\n",
    "# X360\n",
    "plt.figure(figsize=(5, 5))\n",
    "sb.scatterplot(data=good_data[good_data['platform'] == \"X360\"],\n",
    "               x='user_score',\n",
    "               y='total_sales',\n",
    "               alpha=0.5,\n",
    "               color='darkblue')\n",
    "plt.title('Диаграмма рассеивания для Х360')\n",
    "plt.xlabel('Отзовы пользователей')\n",
    "plt.ylabel('Суммарное количество продаж на платформу')\n",
    "plt.show()\n",
    "# Посчитаем корреляцию\n",
    "print (good_data[good_data['platform']==\"X360\"]['total_sales'].corr(good_data[good_data['platform'] == \"X360\"]['user_score']))\n",
    "\n",
    "plt.figure(figsize=(5, 5))\n",
    "sb.scatterplot(data=good_data[good_data['platform']==\"X360\"],\n",
    "               x='critic_score',\n",
    "               y='total_sales',\n",
    "               alpha=0.5,\n",
    "               color='darkblue')\n",
    "plt.title('Диаграмма рассеивания для Х360')\n",
    "plt.xlabel('Оценка эксперта')\n",
    "plt.ylabel('Суммарное количество продаж на платформу')\n",
    "plt.show()\n",
    "# Посчитаем корреляцию\n",
    "print (good_data[good_data['platform']==\"X360\"]['total_sales'].corr(good_data[good_data['platform'] == \"X360\"]['critic_score']))\n"
   ]
  },
  {
   "cell_type": "markdown",
   "metadata": {},
   "source": [
    "**Промежуточный вывод:**  \n",
    "\n",
    "По диаграммам видно, что между объемами продаж и отзывами пользователей прослеживается очень слабая связь, на второй же диаграмме прослеживается меньшее количество выбросов и видна более четкая связь между оценками критиков и суммарными продажами игр для рассматриваемой платформы.  \n",
    "  \n",
    "Между суммарными продажами и оценками критиков имеется положительная взаимосвязь - продажи растут с увеличением оценки критиков.   \n",
    "Между продажами и оценками пользователей корреляция отсутсвует.\n"
   ]
  },
  {
   "cell_type": "code",
   "execution_count": 53,
   "metadata": {},
   "outputs": [
    {
     "data": {
      "image/png": "[encoded data removed]",
      "text/plain": [
       "<Figure size 360x360 with 1 Axes>"
      ]
     },
     "metadata": {
      "needs_background": "light"
     },
     "output_type": "display_data"
    },
    {
     "name": "stdout",
     "output_type": "stream",
     "text": [
      "-0.031957108857618044\n"
     ]
    },
    {
     "data": {
      "image/png": "[encoded data removed]",
      "text/plain": [
       "<Figure size 360x360 with 1 Axes>"
      ]
     },
     "metadata": {
      "needs_background": "light"
     },
     "output_type": "display_data"
    },
    {
     "name": "stdout",
     "output_type": "stream",
     "text": [
      "0.4065679058173355\n"
     ]
    }
   ],
   "source": [
    "# Рассмотрим влияние отзовов и оценок экспертов на продажи;\n",
    "# PS4\n",
    "plt.figure(figsize=(5, 5))\n",
    "sb.scatterplot(data=good_data[good_data['platform'] == \"PS4\"],\n",
    "               x='user_score',\n",
    "               y='total_sales',\n",
    "               alpha=0.5,\n",
    "               color='darkblue')\n",
    "plt.title('Диаграмма рассеивания для PS4')\n",
    "plt.xlabel('Отзовы пользователей')\n",
    "plt.ylabel('Суммарное количество продаж на платформу')\n",
    "plt.show()\n",
    "# Посчитаем корреляцию\n",
    "print (good_data[good_data['platform']==\"PS4\"]['total_sales'].corr(good_data[good_data['platform'] == \"PS4\"]['user_score']))\n",
    "\n",
    "plt.figure(figsize=(5, 5))\n",
    "sb.scatterplot(data=good_data[good_data['platform']==\"PS4\"],\n",
    "               x='critic_score',\n",
    "               y='total_sales',\n",
    "               alpha=0.5,\n",
    "               color='darkblue')\n",
    "plt.title('Диаграмма рассеивания для PS4')\n",
    "plt.xlabel('Оценка эксперта')\n",
    "plt.ylabel('Суммарное количество продаж на платформу')\n",
    "plt.show()\n",
    "# Посчитаем корреляцию\n",
    "print (good_data[good_data['platform']==\"PS4\"]['total_sales'].corr(good_data[good_data['platform'] == \"PS4\"]['critic_score']))"
   ]
  },
  {
   "cell_type": "code",
   "execution_count": 54,
   "metadata": {},
   "outputs": [
    {
     "data": {
      "image/png": "[encoded data removed]",
      "text/plain": [
       "<Figure size 360x360 with 1 Axes>"
      ]
     },
     "metadata": {
      "needs_background": "light"
     },
     "output_type": "display_data"
    },
    {
     "name": "stdout",
     "output_type": "stream",
     "text": [
      "-0.06892504997136675\n"
     ]
    },
    {
     "data": {
      "image/png": "[encoded data removed]",
      "text/plain": [
       "<Figure size 360x360 with 1 Axes>"
      ]
     },
     "metadata": {
      "needs_background": "light"
     },
     "output_type": "display_data"
    },
    {
     "name": "stdout",
     "output_type": "stream",
     "text": [
      "0.41699832762345873\n"
     ]
    }
   ],
   "source": [
    "# Рассмотрим влияние отзовов и оценок экспертов на продажи;\n",
    "# XOne\n",
    "plt.figure(figsize=(5, 5))\n",
    "sb.scatterplot(data=good_data[good_data['platform'] == \"XOne\"],\n",
    "               x='user_score',\n",
    "               y='total_sales',\n",
    "               alpha=0.5,\n",
    "               color='darkblue')\n",
    "plt.title('Диаграмма рассеивания для XOne')\n",
    "plt.xlabel('Отзовы пользователей')\n",
    "plt.ylabel('Суммарное количество продаж на платформу')\n",
    "plt.show()\n",
    "# Посчитаем корреляцию\n",
    "print (good_data[good_data['platform']==\"XOne\"]['total_sales'].corr(good_data[good_data['platform'] == \"XOne\"]['user_score']))\n",
    "\n",
    "plt.figure(figsize=(5, 5))\n",
    "sb.scatterplot(data=good_data[good_data['platform']==\"XOne\"],\n",
    "               x='critic_score',\n",
    "               y='total_sales',\n",
    "               alpha=0.5,\n",
    "               color='darkblue')\n",
    "plt.title('Диаграмма рассеивания для XOne')\n",
    "plt.xlabel('Оценка эксперта')\n",
    "plt.ylabel('Суммарное количество продаж на платформу')\n",
    "plt.show()\n",
    "# Посчитаем корреляцию\n",
    "print (good_data[good_data['platform']==\"XOne\"]['total_sales'].corr(good_data[good_data['platform'] == \"XOne\"]['critic_score']))"
   ]
  },
  {
   "cell_type": "code",
   "execution_count": 55,
   "metadata": {},
   "outputs": [
    {
     "data": {
      "image/png": "[encoded data removed]",
      "text/plain": [
       "<Figure size 360x360 with 1 Axes>"
      ]
     },
     "metadata": {
      "needs_background": "light"
     },
     "output_type": "display_data"
    },
    {
     "name": "stdout",
     "output_type": "stream",
     "text": [
      "0.40021902021486117\n"
     ]
    },
    {
     "data": {
      "image/png": "[encoded data removed]",
      "text/plain": [
       "<Figure size 360x360 with 1 Axes>"
      ]
     },
     "metadata": {
      "needs_background": "light"
     },
     "output_type": "display_data"
    },
    {
     "name": "stdout",
     "output_type": "stream",
     "text": [
      "0.34837976012017463\n"
     ]
    }
   ],
   "source": [
    "# Рассмотрим влияние отзовов и оценок экспертов на продажи;\n",
    "# WiiU\n",
    "plt.figure(figsize=(5, 5))\n",
    "sb.scatterplot(data=good_data[good_data['platform'] ==  \"WiiU\"],\n",
    "               x='user_score',\n",
    "               y='total_sales',\n",
    "               alpha=0.5,\n",
    "               color='darkblue')\n",
    "plt.title('Диаграмма рассеивания для WiiU')\n",
    "plt.xlabel('Отзовы пользователей')\n",
    "plt.ylabel('Суммарное количество продаж на платформу')\n",
    "plt.show()\n",
    "# Посчитаем корреляцию\n",
    "print (good_data[good_data['platform']==\"WiiU\"]['total_sales'].corr(good_data[good_data['platform'] == \"WiiU\"]['user_score']))\n",
    "\n",
    "plt.figure(figsize=(5, 5))\n",
    "sb.scatterplot(data=good_data[good_data['platform']==\"WiiU\"],\n",
    "               x='critic_score',\n",
    "               y='total_sales',\n",
    "               alpha=0.5,\n",
    "               color='darkblue')\n",
    "plt.title('Диаграмма рассеивания для WiiU')\n",
    "plt.xlabel('Оценка эксперта')\n",
    "plt.ylabel('Суммарное количество продаж на платформу')\n",
    "plt.show()\n",
    "# Посчитаем корреляцию\n",
    "print (good_data[good_data['platform']==\"WiiU\"]['total_sales'].corr(good_data[good_data['platform'] == \"WiiU\"]['critic_score']))\n"
   ]
  },
  {
   "cell_type": "markdown",
   "metadata": {},
   "source": [
    "**Промежуточный вывод:**  \n",
    "Действительно, объем суммарных продаж растет с увеличением оценок критиков, но связь не настолько сильная.  \n",
    "  \n",
    "Между объемами продаж и оценками пользователей связь отстуствует, что можно объяснить тем, что пользовательские оценки могут быть  субъективными."
   ]
  },
  {
   "cell_type": "code",
   "execution_count": 56,
   "metadata": {},
   "outputs": [],
   "source": [
    "good_data_pivot_genre= good_data.pivot_table(index='genre', values='total_sales', aggfunc = ('sum','count','median'))"
   ]
  },
  {
   "cell_type": "code",
   "execution_count": 57,
   "metadata": {},
   "outputs": [
    {
     "data": {
      "image/png": "[encoded data removed]",
      "text/plain": [
       "<Figure size 1080x360 with 1 Axes>"
      ]
     },
     "metadata": {
      "needs_background": "light"
     },
     "output_type": "display_data"
    },
    {
     "data": {
      "image/png": "[encoded data removed]",
      "text/plain": [
       "<Figure size 1080x360 with 1 Axes>"
      ]
     },
     "metadata": {
      "needs_background": "light"
     },
     "output_type": "display_data"
    },
    {
     "name": "stdout",
     "output_type": "stream",
     "text": [
      "              count  median        sum\n",
      "genre                                 \n",
      "Action         1031  120000  441119998\n",
      "Shooter         235  440000  304729998\n",
      "Role-Playing    370  140000  192800000\n",
      "Sports          268  240000  181069999\n",
      "Misc            192  120000   85039999\n",
      "Platform         85  210000   61000000\n",
      "Racing          115  140000   53500000\n",
      "Fighting        109  130000   44490000\n",
      "Simulation       80  120000   35119999\n",
      "Adventure       302   30000   29430000\n",
      "Strategy         71   80000   13340000\n",
      "Puzzle           28   45000    4890000\n",
      "              count  median        sum\n",
      "genre                                 \n",
      "Action         1031  120000  441119998\n",
      "Role-Playing    370  140000  192800000\n",
      "Adventure       302   30000   29430000\n",
      "Sports          268  240000  181069999\n",
      "Shooter         235  440000  304729998\n",
      "Misc            192  120000   85039999\n",
      "Racing          115  140000   53500000\n",
      "Fighting        109  130000   44490000\n",
      "Platform         85  210000   61000000\n",
      "Simulation       80  120000   35119999\n",
      "Strategy         71   80000   13340000\n",
      "Puzzle           28   45000    4890000\n",
      "              count  median        sum\n",
      "genre                                 \n",
      "Shooter         235  440000  304729998\n",
      "Sports          268  240000  181069999\n",
      "Platform         85  210000   61000000\n",
      "Racing          115  140000   53500000\n",
      "Role-Playing    370  140000  192800000\n",
      "Fighting        109  130000   44490000\n",
      "Action         1031  120000  441119998\n",
      "Misc            192  120000   85039999\n",
      "Simulation       80  120000   35119999\n",
      "Strategy         71   80000   13340000\n",
      "Puzzle           28   45000    4890000\n",
      "Adventure       302   30000   29430000\n"
     ]
    }
   ],
   "source": [
    "# Посмотрим общее распределение игр по жанрам.\n",
    "\n",
    "plt.figure(figsize=(15, 5))\n",
    "sb.barplot(data=good_data_pivot_genre, \n",
    "           x=good_data_pivot_genre.index, \n",
    "           y=good_data_pivot_genre['median'],\n",
    "          color='darkgreen')\n",
    "plt.title('Oбщее распределение игр по жанрам')\n",
    "plt.xlabel('Жанры игр')\n",
    "plt.ylabel('Суммарное количество продаж на жанр')\n",
    "plt.show()\n",
    "\n",
    "plt.figure(figsize=(15, 5))\n",
    "sb.barplot(data=good_data_pivot_genre, \n",
    "           x=good_data_pivot_genre.index, \n",
    "           y=good_data_pivot_genre['count'],\n",
    "          color='green')\n",
    "plt.title('Oбщее распределение игр по жанрам')\n",
    "plt.xlabel('Жанры игр')\n",
    "plt.ylabel('Количество продаж на жанр')\n",
    "plt.show()\n",
    "print (good_data_pivot_genre.sort_values(by='sum', ascending=False))\n",
    "print (good_data_pivot_genre.sort_values(by='count', ascending=False))\n",
    "print (good_data_pivot_genre.sort_values(by='median', ascending=False))"
   ]
  },
  {
   "cell_type": "markdown",
   "metadata": {},
   "source": [
    "**Промежуточный вывод:**  \n",
    "\n",
    "Если за основу взять медианные значения, то наиболее продаваемым жанром является Shooter. Точнее сказать стоимость покупок. Так как по количеству покупок лидирует жанр Action. На втором месте Sports и Platform. Также неплохо показали себя жанры Role-Plaiyng и Racing медианные продажи которых стабильно высокие. Наименьшие показатели у Adventure, Puzzle и Strategy.\n"
   ]
  },
  {
   "cell_type": "markdown",
   "metadata": {},
   "source": [
    "## Составим портрет пользователя каждого региона\n",
    "*Определите для пользователя каждого региона (NA, EU, JP):*\n",
    "- Самые популярные платформы (топ-5). Опишите различия в долях продаж.\n",
    "- Самые популярные жанры (топ-5). Поясните разницу.\n",
    "- Влияет ли рейтинг ESRB на продажи в отдельном регионе?"
   ]
  },
  {
   "cell_type": "code",
   "execution_count": 58,
   "metadata": {},
   "outputs": [
    {
     "name": "stdout",
     "output_type": "stream",
     "text": [
      "Топ-5 популярных платорм в регионе\n",
      "           na_sales\n",
      "platform           \n",
      "X360      140050000\n",
      "PS4       108739999\n",
      "PS3       103379998\n",
      "XOne       93120000\n",
      "3DS        55309999\n"
     ]
    },
    {
     "data": {
      "image/png": "[encoded data removed]",
      "text/plain": [
       "<Figure size 432x288 with 1 Axes>"
      ]
     },
     "metadata": {
      "needs_background": "light"
     },
     "output_type": "display_data"
    },
    {
     "name": "stdout",
     "output_type": "stream",
     "text": [
      "           eu_sales\n",
      "platform           \n",
      "PS4       141089998\n",
      "PS3       106860000\n",
      "X360       74520000\n",
      "XOne       51589999\n",
      "3DS        42640000\n"
     ]
    },
    {
     "data": {
      "image/png": "[encoded data removed]",
      "text/plain": [
       "<Figure size 432x288 with 1 Axes>"
      ]
     },
     "metadata": {
      "needs_background": "light"
     },
     "output_type": "display_data"
    },
    {
     "name": "stdout",
     "output_type": "stream",
     "text": [
      "          jp_sales\n",
      "platform          \n",
      "3DS       87790000\n",
      "PS3       35290000\n",
      "PSV       21040000\n",
      "PS4       15960000\n",
      "WiiU      13010000\n"
     ]
    },
    {
     "data": {
      "image/png": "[encoded data removed]",
      "text/plain": [
       "<Figure size 432x288 with 1 Axes>"
      ]
     },
     "metadata": {
      "needs_background": "light"
     },
     "output_type": "display_data"
    }
   ],
   "source": [
    "regions = ['na_sales', 'eu_sales', 'jp_sales']\n",
    "print ('Топ-5 популярных платорм в регионе')\n",
    "for rg in regions:\n",
    "    good_data_pivot_rg = good_data.pivot_table(index='platform', values=rg, aggfunc='sum').sort_values(by=rg, ascending=False).head(5)\n",
    "    print (good_data_pivot_rg)\n",
    "    sb.barplot(data=good_data_pivot_rg, \n",
    "               x=good_data_pivot_rg.index, \n",
    "               y=good_data_pivot_rg[rg],\n",
    "               color='darkblue')\n",
    "    plt.title('Топ-5 продаж в регионе ' + rg)\n",
    "    plt.xlabel('Платформа')\n",
    "    plt.ylabel('Суммарное количество продаж')\n",
    "    plt.show()\n",
    "    "
   ]
  },
  {
   "cell_type": "code",
   "execution_count": 59,
   "metadata": {},
   "outputs": [
    {
     "name": "stdout",
     "output_type": "stream",
     "text": [
      "Топ-5 популярных платорм в регионе\n",
      "               na_sales\n",
      "genre                  \n",
      "Action        177839999\n",
      "Shooter       144769999\n",
      "Sports         81530000\n",
      "Role-Playing   64000000\n",
      "Misc           38189999\n"
     ]
    },
    {
     "data": {
      "image/png": "[encoded data removed]",
      "text/plain": [
       "<Figure size 432x288 with 1 Axes>"
      ]
     },
     "metadata": {
      "needs_background": "light"
     },
     "output_type": "display_data"
    },
    {
     "name": "stdout",
     "output_type": "stream",
     "text": [
      "               eu_sales\n",
      "genre                  \n",
      "Action        159339999\n",
      "Shooter       113469999\n",
      "Sports         69089999\n",
      "Role-Playing   48530000\n",
      "Racing         27290000\n"
     ]
    },
    {
     "data": {
      "image/png": "[encoded data removed]",
      "text/plain": [
       "<Figure size 432x288 with 1 Axes>"
      ]
     },
     "metadata": {
      "needs_background": "light"
     },
     "output_type": "display_data"
    },
    {
     "name": "stdout",
     "output_type": "stream",
     "text": [
      "              jp_sales\n",
      "genre                 \n",
      "Role-Playing  65440000\n",
      "Action        52800000\n",
      "Misc          12860000\n",
      "Simulation    10410000\n",
      "Fighting       9440000\n"
     ]
    },
    {
     "data": {
      "image/png": "[encoded data removed]",
      "text/plain": [
       "<Figure size 432x288 with 1 Axes>"
      ]
     },
     "metadata": {
      "needs_background": "light"
     },
     "output_type": "display_data"
    }
   ],
   "source": [
    "regions = ['na_sales', 'eu_sales', 'jp_sales']\n",
    "print ('Топ-5 популярных платорм в регионе')\n",
    "for rg in regions:\n",
    "    good_data_pivot_rg = good_data.pivot_table(index='genre', values=rg, aggfunc='sum').sort_values(by=rg, ascending=False).head(5)\n",
    "    print (good_data_pivot_rg)\n",
    "    sb.barplot(data=good_data_pivot_rg, \n",
    "               x=good_data_pivot_rg.index, \n",
    "               y=good_data_pivot_rg[rg],\n",
    "               color='darkgreen')\n",
    "    plt.title('Топ-5 продаж в регионе ' + rg)\n",
    "    plt.xlabel('Жанры')\n",
    "    plt.ylabel('Суммарное количество продаж')\n",
    "    plt.show()\n",
    "    "
   ]
  },
  {
   "cell_type": "markdown",
   "metadata": {},
   "source": [
    "**Промежуточный вывод**   \n",
    "Получаем рейтинг платформ для каждого региона:\n",
    "\n",
    "- na_sales: X360, PS4, PS3, XOne, Nintendo 3DS.\n",
    "- eu_sales: PS4, PS3, XOne, X360, Nintendo 3DS.\n",
    "- jp_sales: Nintendo 3DS, PS3, PS Vita, PS4, Nintendo WiiU.\n",
    "\n",
    "Видно, что для  Северной Америки и Европы в топ-5 входят одни и те же платформы, правда, разместившиеся на разных позициях. Типы платформ представлены различные: и Xbox, и PlayStation, и Nintendo. Игроки из этих регионов в основном предпочитают стационарные игровые консоли.\n",
    "\n",
    "В Японии рейтинг представлен японскими платформами Nintendo и PlayStation. Причем в основном игроки предпочитают именно портативные игровые консоли, в отличие от игроков из Америки и Европы.\n",
    "\n",
    "Популярные жанры: для Европы и Северной Америки они снова практически идентичны.  \n",
    "Первые строчки заняли экшен-игры, шутеры, спортивные симуляторы и РПГ. Пятое место для пользователей из Европы заняли гонки, для игроков из Америки - игры, сочетающие в себе несколько жанров.\n",
    "\n",
    "В Японии самым популярным жанром игры оказались РПГ, экшен-игры, игры, сочетающие несколько жанров, файтинги и шутеры."
   ]
  },
  {
   "cell_type": "markdown",
   "metadata": {},
   "source": [
    "*Определите для пользователя каждого региона (NA, EU, JP):*\n",
    "- Самые популярные платформы (топ-5). Опишите различия в долях продаж.\n",
    "- Самые популярные жанры (топ-5). Поясните разницу.\n",
    "- Влияет ли рейтинг ESRB на продажи в отдельном регионе?"
   ]
  },
  {
   "cell_type": "code",
   "execution_count": 60,
   "metadata": {},
   "outputs": [
    {
     "data": {
      "text/plain": [
       "array(['M', 'nan', 'E', 'E10+', 'T'], dtype=object)"
      ]
     },
     "execution_count": 60,
     "metadata": {},
     "output_type": "execute_result"
    }
   ],
   "source": [
    "good_data['rating'].unique()"
   ]
  },
  {
   "cell_type": "code",
   "execution_count": 61,
   "metadata": {
    "scrolled": false
   },
   "outputs": [
    {
     "data": {
      "image/png": "[encoded data removed]",
      "text/plain": [
       "<Figure size 720x216 with 1 Axes>"
      ]
     },
     "metadata": {
      "needs_background": "light"
     },
     "output_type": "display_data"
    },
    {
     "data": {
      "image/png": "[encoded data removed]",
      "text/plain": [
       "<Figure size 720x216 with 1 Axes>"
      ]
     },
     "metadata": {
      "needs_background": "light"
     },
     "output_type": "display_data"
    },
    {
     "data": {
      "image/png": "[encoded data removed]",
      "text/plain": [
       "<Figure size 720x216 with 1 Axes>"
      ]
     },
     "metadata": {
      "needs_background": "light"
     },
     "output_type": "display_data"
    }
   ],
   "source": [
    "#Проверим влияние рейтинга ESRB  на продажи;\n",
    "\n",
    "\n",
    "for rg in regions:\n",
    "    plt.figure(figsize=(10,3))\n",
    "    region_pivot = ((good_data.pivot_table(index = 'rating', values = rg, aggfunc = 'sum'))\\\n",
    "                    .sort_values(by = rg)).reset_index()\n",
    "    sb.barplot(x=region_pivot['rating'], \n",
    "                 y=region_pivot[rg],\n",
    "                 color='darkblue')\n",
    "    plt.title(rg)\n",
    "    plt.ylabel('Рейтинг')\n",
    "    plt.xlabel('Миллионы проданных копий')\n",
    "    plt.show()"
   ]
  },
  {
   "cell_type": "markdown",
   "metadata": {},
   "source": [
    "**Промежуточный вывод:**  \n",
    "Если рассматривать вопрос о том, влияет ли рейтинг ESRB на продажи в каждом регионе, можно сказать, что он наибольшим образом влияет на игры, продаваемые в Северной Америке и Европе."
   ]
  },
  {
   "cell_type": "markdown",
   "metadata": {},
   "source": [
    "## Проверим гипотезы\n",
    "\n",
    "- Средние пользовательские рейтинги платформ Xbox One и PC одинаковые;\n",
    "\n",
    "- Средние пользовательские рейтинги жанров Action (англ. «действие», экшен-игры) и Sports (англ. «спортивные соревнования») разные.\n",
    "\n",
    "*(Задайте самостоятельно пороговое значение alpha.\n",
    "Поясните:\n",
    "Как вы сформулировали нулевую и альтернативную гипотезы;\n",
    "Какой критерий применили для проверки гипотез и почему.)*"
   ]
  },
  {
   "cell_type": "markdown",
   "metadata": {},
   "source": [
    "В качестве нулевой примем гипотезу о том, что средние пользовательские рейтинги платформ Xbox One и PC одинаковые.  \n",
    "\n",
    "Альтернативная гипотеза - средние пользовательские рейтинги платформ Xbox One и PC различаются"
   ]
  },
  {
   "cell_type": "code",
   "execution_count": 62,
   "metadata": {},
   "outputs": [
    {
     "name": "stdout",
     "output_type": "stream",
     "text": [
      "p-значение: 0.5535080500643738\n",
      "Не получилось отвергнуть нулевую гипотезу\n"
     ]
    }
   ],
   "source": [
    "pc = good_data[good_data['platform'] == 'PC']\n",
    "xone = good_data[good_data['platform'] == 'XOne']\n",
    "\n",
    "alpha = 0.05\n",
    "\n",
    "results = st.ttest_ind(xone['user_score'], pc['user_score'], nan_policy='omit')\n",
    "\n",
    "print('p-значение:', results.pvalue)\n",
    "\n",
    "if results.pvalue < alpha:\n",
    "    print(\"Отвергаем нулевую гипотезу\")\n",
    "else:\n",
    "    print(\"Не получилось отвергнуть нулевую гипотезу\")"
   ]
  },
  {
   "cell_type": "markdown",
   "metadata": {},
   "source": [
    "**Промежуточный вывод**  \n",
    "Cредние пользовательские оценки для Xbox One и PС действительно одинаковые, так как нулевая гипотеза не была отвергнута."
   ]
  },
  {
   "cell_type": "markdown",
   "metadata": {},
   "source": [
    "Средние пользовательские рейтинги жанров Action (англ. «действие», экшен-игры) и Sports (англ. «спортивные соревнования») разные.  \n",
    "  \n",
    "В качестве нулевой примем гипотезу о том, что средние пользовательские рейтинги жанров Action и Sports разные.\n",
    "  \n",
    "Альтернативная гипотеза - средние пользовательские рейтинги рейтинги жанров Action и Sports совпадают."
   ]
  },
  {
   "cell_type": "code",
   "execution_count": 63,
   "metadata": {},
   "outputs": [
    {
     "name": "stdout",
     "output_type": "stream",
     "text": [
      "p-значение: 3.7163089460934874e-26\n",
      "Не получилось отвергнуть нулевую гипотезу\n"
     ]
    }
   ],
   "source": [
    "action = good_data[good_data['genre'] == 'Action']\n",
    "sports = good_data[good_data['genre'] == 'Sports']\n",
    "\n",
    "alpha = 0.05\n",
    "\n",
    "results = st.ttest_ind(action['user_score'], sports['user_score'], nan_policy='omit')\n",
    "\n",
    "print('p-значение:', results.pvalue)\n",
    "\n",
    "if results.pvalue > alpha:\n",
    "    print(\"Отвергаем нулевую гипотезу\")\n",
    "else:\n",
    "    print(\"Не получилось отвергнуть нулевую гипотезу\")"
   ]
  },
  {
   "cell_type": "markdown",
   "metadata": {},
   "source": [
    "**Промежуточный вывод**  \n",
    "Получив p-value, мы не смогли опровергнуть Нулевую гипотезу.\n",
    "Таким образом, у нас практически нет вероятности получить одинакове средние рейнтинги по двум жанрам."
   ]
  },
  {
   "cell_type": "markdown",
   "metadata": {},
   "source": [
    "**Общий вывод:**  \n",
    "В ходе предобработки данных:\n",
    "\n",
    "- Были изменены типы данных;\n",
    "- Проверили количество пропусков в процентах;\n",
    "- Обработали пропуски;\n",
    "- Описали причины, которые могли привести к пропускам;\n",
    "- Обратили внимание на аббревиатуру 'tbd' в столбце с оценкой пользователей и заменили это значение;\n",
    "- Посчитали суммарные продажи во всех регионах и записали их в отдельный столбец.\n",
    "  \n",
    "Было обнаружено, что рост выпуска игр приходится на 1994 год, а пик на 2008-2009 гг.\n",
    "- Характерный срок жизни платформы - 10 лет, поэтому оставим данные с 2013 по 2016 гг.\n",
    "- 3 потенциально прибыльных платформ - PS4, XOne, 3DS.\n",
    "- Наибольшие медианные продажи у платформ X360 и PS3.\n",
    "- Почти у всех платформ есть определенные игры, которые \"выстрелили\".\n",
    "- Компьютерные игры PC стоят дешевле консольных.\n",
    "- Больше всего игр жанра Action, затем идут Sports, misc и adventure.\n",
    "- Лучше всего покупают игры жанра Action, Sports идёт на втором месте, Shooter неожиданно стоит на третьем месте по продажам, но при этом самый выгодный.\n",
    "- Adventure сильно отстаёт по продажам, хотя игр выпускается много.\n",
    "  \n",
    "Портрет пользователя региона  \n",
    "- В NA самая популярная платформа X360. Европейцы предпочитают PS3. В Японии популярны DS.\n",
    "- В NA и EU самые популярные жанры практически совпадают. В JP вкусы отличаются.\n",
    "- Во всех регионах лидируют игры с рейтингом E - \"Для всех\". В Европе и Северной Амереке дальше идут по \"старшенству\". В Японии опять не так. Первое место такое же - \"Для всех\", а вот на втором - игры для лиц от 13 лет, далее 17+.\n",
    "\n",
    "Проверка гипотез\n",
    "- Средние пользовательские рейтинги платформ Xbox One и PC одинаковые. Гипотеза не подтвердилась.\n",
    "- Средние пользовательские рейтинги жанров Action и Sports разные. Гипотеза подтвердилась!."
   ]
  },
  {
   "cell_type": "markdown",
   "metadata": {},
   "source": [
    "**Общий вывод:**  \n",
    "В ходе предобработки данных:\n",
    "\n",
    "- Были изменены типы данных;\n",
    "- Проверили количество пропусков в процентах;\n",
    "- Обработали пропуски;\n",
    "- Описали причины, которые могли привести к пропускам;\n",
    "- Обратили внимание на аббревиатуру 'tbd' в столбце с оценкой пользователей и заменили это значение;\n",
    "- Посчитали суммарные продажи во всех регионах и записали их в отдельный столбец.\n",
    "  \n",
    "Было обнаружено, что рост выпуска игр приходится на 1994 год, а пик на 2008-2009 гг.\n",
    "- Характерный срок жизни платформы - 10 лет, поэтому оставим данные с 2013 по 2016 гг.\n",
    "- 5 потенциально прибыльных платформ - PS4, PS3, X360, 3DS, XOne.\n",
    "- Наибольшие медианные продажи у платформ X360 и PS3.\n",
    "- Почти у всех платформ есть определенные игры, которые \"выстрелили\".\n",
    "- Компьютерные игры PC стоят дешевле консольных.\n",
    "- Больше всего игр жанра Action, затем идут Sports, misc и adventure.\n",
    "- Лучше всего покупают игры жанра Action, Sports идёт на втором месте, Shooter неожиданно стоит на третьем месте по продажам, но при этом самый выгодный.\n",
    "- Adventure сильно отстаёт по продажам, хотя игр выпускается много.\n",
    "  \n",
    "Портрет пользователя региона  \n",
    "- В NA самая популярная платформа X360. Европейцы предпочитают PS3. В Японии популярны DS.\n",
    "- В NA и EU самые популярные жанры практически совпадают. В JP вкусы отличаются.\n",
    "- Во всех регионах лидируют игры с рейтингом E - \"Для всех\". В Европе и Северной Амереке дальше идут по \"старшенству\". В Японии опять не так. Первое место такое же - \"Для всех\", а вот на втором - игры для лиц от 13 лет, далее 17+.\n",
    "\n",
    "Проверка гипотез\n",
    "- Средние пользовательские рейтинги платформ Xbox One и PC одинаковые. Гипотеза не подтвердилась.\n",
    "- Средние пользовательские рейтинги жанров Action и Sports разные. Гипотеза подтвердилась!."
   ]
  }
 ],
 "metadata": {
  "ExecuteTimeLog": [
   {
    "duration": 472,
    "start_time": "2022-11-01T21:37:48.148Z"
   },
   {
    "duration": 8,
    "start_time": "2022-11-01T21:38:00.407Z"
   },
   {
    "duration": 973,
    "start_time": "2022-11-01T21:38:09.700Z"
   },
   {
    "duration": 95,
    "start_time": "2022-11-01T21:39:43.855Z"
   },
   {
    "duration": 54,
    "start_time": "2022-11-01T21:39:53.734Z"
   },
   {
    "duration": 20,
    "start_time": "2022-11-01T21:40:29.815Z"
   },
   {
    "duration": 13,
    "start_time": "2022-11-01T21:41:45.419Z"
   },
   {
    "duration": 47,
    "start_time": "2022-11-01T21:46:45.355Z"
   },
   {
    "duration": 4,
    "start_time": "2022-11-01T21:46:52.413Z"
   },
   {
    "duration": 3,
    "start_time": "2022-11-01T21:47:33.758Z"
   },
   {
    "duration": 2,
    "start_time": "2022-11-01T21:47:57.494Z"
   },
   {
    "duration": 10,
    "start_time": "2022-11-01T21:55:43.966Z"
   },
   {
    "duration": 9,
    "start_time": "2022-11-01T21:55:55.961Z"
   },
   {
    "duration": 5,
    "start_time": "2022-11-01T21:58:40.635Z"
   },
   {
    "duration": 3,
    "start_time": "2022-11-01T21:58:56.499Z"
   },
   {
    "duration": 20,
    "start_time": "2022-11-01T21:59:11.135Z"
   },
   {
    "duration": 8,
    "start_time": "2022-11-01T21:59:35.444Z"
   },
   {
    "duration": 3,
    "start_time": "2022-11-01T21:59:53.652Z"
   },
   {
    "duration": 15,
    "start_time": "2022-11-01T22:00:08.369Z"
   },
   {
    "duration": 20,
    "start_time": "2022-11-01T22:03:25.319Z"
   },
   {
    "duration": 16,
    "start_time": "2022-11-01T22:03:59.327Z"
   },
   {
    "duration": 17,
    "start_time": "2022-11-01T22:09:47.271Z"
   },
   {
    "duration": 4,
    "start_time": "2022-11-01T22:11:45.992Z"
   },
   {
    "duration": 41,
    "start_time": "2022-11-01T22:11:49.510Z"
   },
   {
    "duration": 716,
    "start_time": "2022-11-01T22:12:17.187Z"
   },
   {
    "duration": 6,
    "start_time": "2022-11-01T22:12:25.429Z"
   },
   {
    "duration": 8,
    "start_time": "2022-11-01T22:13:02.747Z"
   },
   {
    "duration": 4,
    "start_time": "2022-11-01T22:13:09.886Z"
   },
   {
    "duration": 5,
    "start_time": "2022-11-01T22:13:16.975Z"
   },
   {
    "duration": 4,
    "start_time": "2022-11-01T22:13:26.471Z"
   },
   {
    "duration": 6,
    "start_time": "2022-11-01T22:13:49.684Z"
   },
   {
    "duration": 7,
    "start_time": "2022-11-01T22:13:59.227Z"
   },
   {
    "duration": 7,
    "start_time": "2022-11-01T22:14:05.512Z"
   },
   {
    "duration": 13,
    "start_time": "2022-11-01T22:15:17.705Z"
   },
   {
    "duration": 13,
    "start_time": "2022-11-01T22:16:58.681Z"
   },
   {
    "duration": 14,
    "start_time": "2022-11-01T22:17:06.073Z"
   },
   {
    "duration": 882,
    "start_time": "2022-11-01T22:17:24.481Z"
   },
   {
    "duration": 700,
    "start_time": "2022-11-01T22:17:40.583Z"
   },
   {
    "duration": 734,
    "start_time": "2022-11-01T22:17:48.610Z"
   },
   {
    "duration": 1289,
    "start_time": "2022-11-01T22:20:02.140Z"
   },
   {
    "duration": 13,
    "start_time": "2022-11-01T22:22:04.244Z"
   },
   {
    "duration": 14,
    "start_time": "2022-11-01T22:22:40.349Z"
   },
   {
    "duration": 13,
    "start_time": "2022-11-01T22:23:03.501Z"
   },
   {
    "duration": 11,
    "start_time": "2022-11-01T22:24:29.132Z"
   },
   {
    "duration": 13,
    "start_time": "2022-11-01T22:25:37.134Z"
   },
   {
    "duration": 9,
    "start_time": "2022-11-01T22:26:16.301Z"
   },
   {
    "duration": 11,
    "start_time": "2022-11-01T22:26:31.400Z"
   },
   {
    "duration": 11,
    "start_time": "2022-11-01T22:26:47.668Z"
   },
   {
    "duration": 13,
    "start_time": "2022-11-01T22:27:03.971Z"
   },
   {
    "duration": 12,
    "start_time": "2022-11-01T22:27:16.686Z"
   },
   {
    "duration": 6,
    "start_time": "2022-11-01T22:27:39.967Z"
   },
   {
    "duration": 6,
    "start_time": "2022-11-01T22:27:50.504Z"
   },
   {
    "duration": 6,
    "start_time": "2022-11-01T22:27:57.356Z"
   },
   {
    "duration": 8,
    "start_time": "2022-11-01T22:28:08.483Z"
   },
   {
    "duration": 5,
    "start_time": "2022-11-01T22:28:12.097Z"
   },
   {
    "duration": 4,
    "start_time": "2022-11-01T22:28:24.606Z"
   },
   {
    "duration": 368,
    "start_time": "2022-11-01T22:30:02.165Z"
   },
   {
    "duration": 5,
    "start_time": "2022-11-01T22:30:06.913Z"
   },
   {
    "duration": 5,
    "start_time": "2022-11-01T22:30:22.754Z"
   },
   {
    "duration": 5,
    "start_time": "2022-11-01T22:30:36.396Z"
   },
   {
    "duration": 4,
    "start_time": "2022-11-01T22:30:46.619Z"
   },
   {
    "duration": 4,
    "start_time": "2022-11-01T22:30:47.685Z"
   },
   {
    "duration": 4,
    "start_time": "2022-11-01T22:30:48.181Z"
   },
   {
    "duration": 5,
    "start_time": "2022-11-01T22:30:48.552Z"
   },
   {
    "duration": 5,
    "start_time": "2022-11-01T22:30:48.722Z"
   },
   {
    "duration": 5,
    "start_time": "2022-11-01T22:30:48.880Z"
   },
   {
    "duration": 4,
    "start_time": "2022-11-01T22:30:49.002Z"
   },
   {
    "duration": 22,
    "start_time": "2022-11-01T22:31:22.317Z"
   },
   {
    "duration": 15,
    "start_time": "2022-11-01T22:31:38.510Z"
   },
   {
    "duration": 6,
    "start_time": "2022-11-01T22:32:27.556Z"
   },
   {
    "duration": 6,
    "start_time": "2022-11-01T22:33:12.268Z"
   },
   {
    "duration": 6,
    "start_time": "2022-11-01T22:33:15.733Z"
   },
   {
    "duration": 5,
    "start_time": "2022-11-01T22:33:16.712Z"
   },
   {
    "duration": 5,
    "start_time": "2022-11-01T22:33:36.604Z"
   },
   {
    "duration": 4,
    "start_time": "2022-11-01T22:33:40.148Z"
   },
   {
    "duration": 4,
    "start_time": "2022-11-01T22:33:47.472Z"
   },
   {
    "duration": 9,
    "start_time": "2022-11-01T22:34:49.563Z"
   },
   {
    "duration": 3,
    "start_time": "2022-11-01T22:35:23.980Z"
   },
   {
    "duration": 4,
    "start_time": "2022-11-01T22:35:39.270Z"
   },
   {
    "duration": 49,
    "start_time": "2022-11-01T22:35:51.859Z"
   },
   {
    "duration": 3,
    "start_time": "2022-11-01T22:35:57.080Z"
   },
   {
    "duration": 4,
    "start_time": "2022-11-01T22:36:11.324Z"
   },
   {
    "duration": 5,
    "start_time": "2022-11-01T22:36:28.009Z"
   },
   {
    "duration": 13,
    "start_time": "2022-11-01T22:36:30.823Z"
   },
   {
    "duration": 11,
    "start_time": "2022-11-01T22:38:01.542Z"
   },
   {
    "duration": 20,
    "start_time": "2022-11-01T22:38:09.385Z"
   },
   {
    "duration": 5,
    "start_time": "2022-11-01T22:38:32.103Z"
   },
   {
    "duration": 7,
    "start_time": "2022-11-01T22:38:59.958Z"
   },
   {
    "duration": 8,
    "start_time": "2022-11-01T22:39:45.681Z"
   },
   {
    "duration": 7,
    "start_time": "2022-11-01T22:39:55.277Z"
   },
   {
    "duration": 4,
    "start_time": "2022-11-01T22:40:09.173Z"
   },
   {
    "duration": 6,
    "start_time": "2022-11-01T22:40:20.693Z"
   },
   {
    "duration": 5,
    "start_time": "2022-11-01T22:40:27.456Z"
   },
   {
    "duration": 6,
    "start_time": "2022-11-01T22:40:36.268Z"
   },
   {
    "duration": 10,
    "start_time": "2022-11-01T22:40:57.507Z"
   },
   {
    "duration": 13,
    "start_time": "2022-11-01T22:41:08.915Z"
   },
   {
    "duration": 65,
    "start_time": "2022-11-01T22:46:02.001Z"
   },
   {
    "duration": 4,
    "start_time": "2022-11-01T22:46:07.572Z"
   },
   {
    "duration": 5,
    "start_time": "2022-11-01T22:46:28.890Z"
   },
   {
    "duration": 4,
    "start_time": "2022-11-01T22:46:49.356Z"
   },
   {
    "duration": 3,
    "start_time": "2022-11-01T22:46:54.948Z"
   },
   {
    "duration": 18,
    "start_time": "2022-11-01T22:47:08.483Z"
   },
   {
    "duration": 3,
    "start_time": "2022-11-01T22:47:21.166Z"
   },
   {
    "duration": 13,
    "start_time": "2022-11-01T22:51:45.710Z"
   },
   {
    "duration": 12,
    "start_time": "2022-11-01T22:52:39.188Z"
   },
   {
    "duration": 9,
    "start_time": "2022-11-01T22:52:58.102Z"
   },
   {
    "duration": 13,
    "start_time": "2022-11-01T22:53:09.465Z"
   },
   {
    "duration": 13,
    "start_time": "2022-11-01T22:54:30.554Z"
   },
   {
    "duration": 6,
    "start_time": "2022-11-01T22:54:47.177Z"
   },
   {
    "duration": 7,
    "start_time": "2022-11-01T22:54:50.709Z"
   },
   {
    "duration": 14,
    "start_time": "2022-11-01T22:54:55.398Z"
   },
   {
    "duration": 4,
    "start_time": "2022-11-01T22:54:59.786Z"
   },
   {
    "duration": 5,
    "start_time": "2022-11-01T22:55:02.317Z"
   },
   {
    "duration": 6,
    "start_time": "2022-11-01T22:55:09.855Z"
   },
   {
    "duration": 6,
    "start_time": "2022-11-01T22:55:12.847Z"
   },
   {
    "duration": 6,
    "start_time": "2022-11-01T22:55:13.567Z"
   },
   {
    "duration": 6,
    "start_time": "2022-11-01T22:55:14.681Z"
   },
   {
    "duration": 6,
    "start_time": "2022-11-01T22:55:15.693Z"
   },
   {
    "duration": 7,
    "start_time": "2022-11-01T22:55:16.594Z"
   },
   {
    "duration": 5,
    "start_time": "2022-11-01T23:03:53.536Z"
   },
   {
    "duration": 6,
    "start_time": "2022-11-01T23:04:05.135Z"
   },
   {
    "duration": 5,
    "start_time": "2022-11-01T23:04:10.739Z"
   },
   {
    "duration": 7,
    "start_time": "2022-11-01T23:04:53.244Z"
   },
   {
    "duration": 7,
    "start_time": "2022-11-01T23:05:06.755Z"
   },
   {
    "duration": 4,
    "start_time": "2022-11-01T23:05:40.375Z"
   },
   {
    "duration": 4,
    "start_time": "2022-11-01T23:05:49.138Z"
   },
   {
    "duration": 5,
    "start_time": "2022-11-01T23:06:44.462Z"
   },
   {
    "duration": 5,
    "start_time": "2022-11-01T23:07:19.336Z"
   },
   {
    "duration": 1169,
    "start_time": "2022-11-01T23:09:08.883Z"
   },
   {
    "duration": 53,
    "start_time": "2022-11-01T23:09:10.054Z"
   },
   {
    "duration": 18,
    "start_time": "2022-11-01T23:09:10.109Z"
   },
   {
    "duration": 14,
    "start_time": "2022-11-01T23:09:10.129Z"
   },
   {
    "duration": 4,
    "start_time": "2022-11-01T23:09:10.145Z"
   },
   {
    "duration": 4,
    "start_time": "2022-11-01T23:09:10.151Z"
   },
   {
    "duration": 16,
    "start_time": "2022-11-01T23:09:10.157Z"
   },
   {
    "duration": 13,
    "start_time": "2022-11-01T23:09:10.175Z"
   },
   {
    "duration": 15,
    "start_time": "2022-11-01T23:09:10.189Z"
   },
   {
    "duration": 4,
    "start_time": "2022-11-01T23:09:10.206Z"
   },
   {
    "duration": 5,
    "start_time": "2022-11-01T23:09:10.238Z"
   },
   {
    "duration": 6,
    "start_time": "2022-11-01T23:09:10.245Z"
   },
   {
    "duration": 7,
    "start_time": "2022-11-01T23:12:36.503Z"
   },
   {
    "duration": 5,
    "start_time": "2022-11-01T23:12:59.639Z"
   },
   {
    "duration": 4,
    "start_time": "2022-11-01T23:14:18.557Z"
   },
   {
    "duration": 107,
    "start_time": "2022-11-01T23:15:59.807Z"
   },
   {
    "duration": 17,
    "start_time": "2022-11-01T23:16:18.781Z"
   },
   {
    "duration": 5,
    "start_time": "2022-11-01T23:18:27.744Z"
   },
   {
    "duration": 5,
    "start_time": "2022-11-01T23:18:42.518Z"
   },
   {
    "duration": 13,
    "start_time": "2022-11-01T23:18:53.956Z"
   },
   {
    "duration": 1111,
    "start_time": "2022-11-01T23:19:22.431Z"
   },
   {
    "duration": 51,
    "start_time": "2022-11-01T23:19:23.544Z"
   },
   {
    "duration": 18,
    "start_time": "2022-11-01T23:19:23.597Z"
   },
   {
    "duration": 14,
    "start_time": "2022-11-01T23:19:23.617Z"
   },
   {
    "duration": 6,
    "start_time": "2022-11-01T23:19:23.633Z"
   },
   {
    "duration": 8,
    "start_time": "2022-11-01T23:19:23.640Z"
   },
   {
    "duration": 18,
    "start_time": "2022-11-01T23:19:23.650Z"
   },
   {
    "duration": 13,
    "start_time": "2022-11-01T23:19:23.670Z"
   },
   {
    "duration": 15,
    "start_time": "2022-11-01T23:19:23.685Z"
   },
   {
    "duration": 4,
    "start_time": "2022-11-01T23:19:23.702Z"
   },
   {
    "duration": 5,
    "start_time": "2022-11-01T23:19:23.708Z"
   },
   {
    "duration": 5,
    "start_time": "2022-11-01T23:19:23.714Z"
   },
   {
    "duration": 21,
    "start_time": "2022-11-01T23:19:23.721Z"
   },
   {
    "duration": 4,
    "start_time": "2022-11-01T23:19:23.744Z"
   },
   {
    "duration": 15,
    "start_time": "2022-11-01T23:19:23.749Z"
   },
   {
    "duration": 4,
    "start_time": "2022-11-01T23:20:10.206Z"
   },
   {
    "duration": 13,
    "start_time": "2022-11-01T23:20:13.476Z"
   },
   {
    "duration": 1147,
    "start_time": "2022-11-01T23:20:54.416Z"
   },
   {
    "duration": 54,
    "start_time": "2022-11-01T23:20:55.565Z"
   },
   {
    "duration": 19,
    "start_time": "2022-11-01T23:20:55.620Z"
   },
   {
    "duration": 15,
    "start_time": "2022-11-01T23:20:55.641Z"
   },
   {
    "duration": 4,
    "start_time": "2022-11-01T23:20:55.657Z"
   },
   {
    "duration": 6,
    "start_time": "2022-11-01T23:20:55.663Z"
   },
   {
    "duration": 17,
    "start_time": "2022-11-01T23:20:55.671Z"
   },
   {
    "duration": 14,
    "start_time": "2022-11-01T23:20:55.689Z"
   },
   {
    "duration": 35,
    "start_time": "2022-11-01T23:20:55.704Z"
   },
   {
    "duration": 4,
    "start_time": "2022-11-01T23:20:55.741Z"
   },
   {
    "duration": 7,
    "start_time": "2022-11-01T23:20:55.746Z"
   },
   {
    "duration": 6,
    "start_time": "2022-11-01T23:20:55.754Z"
   },
   {
    "duration": 6,
    "start_time": "2022-11-01T23:20:55.761Z"
   },
   {
    "duration": 3,
    "start_time": "2022-11-01T23:20:55.769Z"
   },
   {
    "duration": 13,
    "start_time": "2022-11-01T23:20:55.774Z"
   },
   {
    "duration": 5,
    "start_time": "2022-11-01T23:21:15.267Z"
   },
   {
    "duration": 16,
    "start_time": "2022-11-01T23:21:20.713Z"
   },
   {
    "duration": 1162,
    "start_time": "2022-11-01T23:21:36.944Z"
   },
   {
    "duration": 53,
    "start_time": "2022-11-01T23:21:38.108Z"
   },
   {
    "duration": 18,
    "start_time": "2022-11-01T23:21:38.163Z"
   },
   {
    "duration": 13,
    "start_time": "2022-11-01T23:21:38.182Z"
   },
   {
    "duration": 5,
    "start_time": "2022-11-01T23:21:38.196Z"
   },
   {
    "duration": 7,
    "start_time": "2022-11-01T23:21:38.202Z"
   },
   {
    "duration": 34,
    "start_time": "2022-11-01T23:21:38.211Z"
   },
   {
    "duration": 13,
    "start_time": "2022-11-01T23:21:38.247Z"
   },
   {
    "duration": 15,
    "start_time": "2022-11-01T23:21:38.262Z"
   },
   {
    "duration": 4,
    "start_time": "2022-11-01T23:21:38.279Z"
   },
   {
    "duration": 6,
    "start_time": "2022-11-01T23:21:38.284Z"
   },
   {
    "duration": 7,
    "start_time": "2022-11-01T23:21:38.291Z"
   },
   {
    "duration": 6,
    "start_time": "2022-11-01T23:21:38.300Z"
   },
   {
    "duration": 30,
    "start_time": "2022-11-01T23:21:38.308Z"
   },
   {
    "duration": 11,
    "start_time": "2022-11-01T23:21:38.340Z"
   },
   {
    "duration": 737,
    "start_time": "2022-11-01T23:22:33.911Z"
   },
   {
    "duration": 6,
    "start_time": "2022-11-01T23:22:53.519Z"
   },
   {
    "duration": 12,
    "start_time": "2022-11-01T23:22:57.587Z"
   },
   {
    "duration": 1106,
    "start_time": "2022-11-01T23:23:07.937Z"
   },
   {
    "duration": 53,
    "start_time": "2022-11-01T23:23:09.045Z"
   },
   {
    "duration": 19,
    "start_time": "2022-11-01T23:23:09.102Z"
   },
   {
    "duration": 13,
    "start_time": "2022-11-01T23:23:09.122Z"
   },
   {
    "duration": 16,
    "start_time": "2022-11-01T23:23:09.136Z"
   },
   {
    "duration": 4,
    "start_time": "2022-11-01T23:23:09.154Z"
   },
   {
    "duration": 28,
    "start_time": "2022-11-01T23:23:09.159Z"
   },
   {
    "duration": 26,
    "start_time": "2022-11-01T23:23:09.189Z"
   },
   {
    "duration": 14,
    "start_time": "2022-11-01T23:23:09.217Z"
   },
   {
    "duration": 12,
    "start_time": "2022-11-01T23:23:09.233Z"
   },
   {
    "duration": 15,
    "start_time": "2022-11-01T23:23:09.247Z"
   },
   {
    "duration": 15,
    "start_time": "2022-11-01T23:23:09.264Z"
   },
   {
    "duration": 13,
    "start_time": "2022-11-01T23:23:09.280Z"
   },
   {
    "duration": 26,
    "start_time": "2022-11-01T23:23:09.295Z"
   },
   {
    "duration": 24,
    "start_time": "2022-11-01T23:23:09.323Z"
   },
   {
    "duration": 12,
    "start_time": "2022-11-01T23:25:20.560Z"
   },
   {
    "duration": 7,
    "start_time": "2022-11-01T23:26:34.018Z"
   },
   {
    "duration": 1141,
    "start_time": "2022-11-01T23:27:34.622Z"
   },
   {
    "duration": 54,
    "start_time": "2022-11-01T23:27:35.765Z"
   },
   {
    "duration": 18,
    "start_time": "2022-11-01T23:27:35.821Z"
   },
   {
    "duration": 15,
    "start_time": "2022-11-01T23:27:35.841Z"
   },
   {
    "duration": 4,
    "start_time": "2022-11-01T23:27:35.858Z"
   },
   {
    "duration": 9,
    "start_time": "2022-11-01T23:27:35.863Z"
   },
   {
    "duration": 18,
    "start_time": "2022-11-01T23:27:35.874Z"
   },
   {
    "duration": 15,
    "start_time": "2022-11-01T23:27:35.893Z"
   },
   {
    "duration": 29,
    "start_time": "2022-11-01T23:27:35.909Z"
   },
   {
    "duration": 5,
    "start_time": "2022-11-01T23:27:35.940Z"
   },
   {
    "duration": 6,
    "start_time": "2022-11-01T23:27:35.946Z"
   },
   {
    "duration": 6,
    "start_time": "2022-11-01T23:27:35.953Z"
   },
   {
    "duration": 11,
    "start_time": "2022-11-01T23:27:35.960Z"
   },
   {
    "duration": 8,
    "start_time": "2022-11-01T23:27:35.972Z"
   },
   {
    "duration": 10,
    "start_time": "2022-11-01T23:27:35.981Z"
   },
   {
    "duration": 5,
    "start_time": "2022-11-01T23:33:29.246Z"
   },
   {
    "duration": 5,
    "start_time": "2022-11-01T23:35:07.681Z"
   },
   {
    "duration": 5,
    "start_time": "2022-11-01T23:43:16.512Z"
   },
   {
    "duration": 4,
    "start_time": "2022-11-01T23:43:40.363Z"
   },
   {
    "duration": 113,
    "start_time": "2022-11-01T23:48:31.148Z"
   },
   {
    "duration": 5,
    "start_time": "2022-11-01T23:48:54.417Z"
   },
   {
    "duration": 6,
    "start_time": "2022-11-01T23:49:07.277Z"
   },
   {
    "duration": 6,
    "start_time": "2022-11-01T23:49:11.461Z"
   },
   {
    "duration": 4,
    "start_time": "2022-11-01T23:49:17.368Z"
   },
   {
    "duration": 27,
    "start_time": "2022-11-01T23:49:41.303Z"
   },
   {
    "duration": 27,
    "start_time": "2022-11-01T23:50:01.644Z"
   },
   {
    "duration": 26,
    "start_time": "2022-11-01T23:50:13.501Z"
   },
   {
    "duration": 28,
    "start_time": "2022-11-01T23:50:21.377Z"
   },
   {
    "duration": 4,
    "start_time": "2022-11-01T23:50:30.927Z"
   },
   {
    "duration": 12,
    "start_time": "2022-11-01T23:50:46.996Z"
   },
   {
    "duration": 5,
    "start_time": "2022-11-01T23:51:12.885Z"
   },
   {
    "duration": 8,
    "start_time": "2022-11-01T23:51:25.057Z"
   },
   {
    "duration": 12,
    "start_time": "2022-11-01T23:52:27.206Z"
   },
   {
    "duration": 5,
    "start_time": "2022-11-01T23:52:49.348Z"
   },
   {
    "duration": 4,
    "start_time": "2022-11-01T23:52:54.625Z"
   },
   {
    "duration": 1120,
    "start_time": "2022-11-01T23:53:08.523Z"
   },
   {
    "duration": 53,
    "start_time": "2022-11-01T23:53:09.644Z"
   },
   {
    "duration": 20,
    "start_time": "2022-11-01T23:53:09.701Z"
   },
   {
    "duration": 13,
    "start_time": "2022-11-01T23:53:09.722Z"
   },
   {
    "duration": 3,
    "start_time": "2022-11-01T23:53:09.738Z"
   },
   {
    "duration": 5,
    "start_time": "2022-11-01T23:53:09.742Z"
   },
   {
    "duration": 17,
    "start_time": "2022-11-01T23:53:09.748Z"
   },
   {
    "duration": 14,
    "start_time": "2022-11-01T23:53:09.767Z"
   },
   {
    "duration": 13,
    "start_time": "2022-11-01T23:53:09.784Z"
   },
   {
    "duration": 8,
    "start_time": "2022-11-01T23:53:09.799Z"
   },
   {
    "duration": 115,
    "start_time": "2022-11-01T23:53:09.840Z"
   },
   {
    "duration": 0,
    "start_time": "2022-11-01T23:53:09.957Z"
   },
   {
    "duration": 0,
    "start_time": "2022-11-01T23:53:09.958Z"
   },
   {
    "duration": 0,
    "start_time": "2022-11-01T23:53:09.959Z"
   },
   {
    "duration": 0,
    "start_time": "2022-11-01T23:53:09.960Z"
   },
   {
    "duration": 0,
    "start_time": "2022-11-01T23:53:09.961Z"
   },
   {
    "duration": 0,
    "start_time": "2022-11-01T23:53:09.962Z"
   },
   {
    "duration": 0,
    "start_time": "2022-11-01T23:53:09.963Z"
   },
   {
    "duration": 0,
    "start_time": "2022-11-01T23:53:09.963Z"
   },
   {
    "duration": 0,
    "start_time": "2022-11-01T23:53:09.965Z"
   },
   {
    "duration": 12,
    "start_time": "2022-11-01T23:53:47.469Z"
   },
   {
    "duration": 6,
    "start_time": "2022-11-01T23:54:31.483Z"
   },
   {
    "duration": 5,
    "start_time": "2022-11-01T23:54:34.182Z"
   },
   {
    "duration": 4,
    "start_time": "2022-11-01T23:54:39.368Z"
   },
   {
    "duration": 1064,
    "start_time": "2022-11-01T23:55:21.988Z"
   },
   {
    "duration": 53,
    "start_time": "2022-11-01T23:55:23.054Z"
   },
   {
    "duration": 20,
    "start_time": "2022-11-01T23:55:23.111Z"
   },
   {
    "duration": 13,
    "start_time": "2022-11-01T23:55:23.133Z"
   },
   {
    "duration": 4,
    "start_time": "2022-11-01T23:55:23.147Z"
   },
   {
    "duration": 4,
    "start_time": "2022-11-01T23:55:23.153Z"
   },
   {
    "duration": 20,
    "start_time": "2022-11-01T23:55:23.158Z"
   },
   {
    "duration": 14,
    "start_time": "2022-11-01T23:55:23.180Z"
   },
   {
    "duration": 16,
    "start_time": "2022-11-01T23:55:23.196Z"
   },
   {
    "duration": 29,
    "start_time": "2022-11-01T23:55:23.214Z"
   },
   {
    "duration": 8,
    "start_time": "2022-11-01T23:55:23.245Z"
   },
   {
    "duration": 6,
    "start_time": "2022-11-01T23:55:23.255Z"
   },
   {
    "duration": 684,
    "start_time": "2022-11-01T23:55:23.264Z"
   },
   {
    "duration": 0,
    "start_time": "2022-11-01T23:55:23.949Z"
   },
   {
    "duration": 0,
    "start_time": "2022-11-01T23:55:23.951Z"
   },
   {
    "duration": 0,
    "start_time": "2022-11-01T23:55:23.952Z"
   },
   {
    "duration": 0,
    "start_time": "2022-11-01T23:55:23.953Z"
   },
   {
    "duration": 0,
    "start_time": "2022-11-01T23:55:23.954Z"
   },
   {
    "duration": 0,
    "start_time": "2022-11-01T23:55:23.955Z"
   },
   {
    "duration": 0,
    "start_time": "2022-11-01T23:55:23.956Z"
   },
   {
    "duration": 1079,
    "start_time": "2022-11-01T23:56:05.181Z"
   },
   {
    "duration": 53,
    "start_time": "2022-11-01T23:56:06.262Z"
   },
   {
    "duration": 19,
    "start_time": "2022-11-01T23:56:06.317Z"
   },
   {
    "duration": 14,
    "start_time": "2022-11-01T23:56:06.338Z"
   },
   {
    "duration": 4,
    "start_time": "2022-11-01T23:56:06.353Z"
   },
   {
    "duration": 5,
    "start_time": "2022-11-01T23:56:06.359Z"
   },
   {
    "duration": 17,
    "start_time": "2022-11-01T23:56:06.366Z"
   },
   {
    "duration": 14,
    "start_time": "2022-11-01T23:56:06.385Z"
   },
   {
    "duration": 37,
    "start_time": "2022-11-01T23:56:06.401Z"
   },
   {
    "duration": 5,
    "start_time": "2022-11-01T23:56:06.441Z"
   },
   {
    "duration": 7,
    "start_time": "2022-11-01T23:56:06.448Z"
   },
   {
    "duration": 12,
    "start_time": "2022-11-01T23:56:06.457Z"
   },
   {
    "duration": 7,
    "start_time": "2022-11-01T23:56:06.470Z"
   },
   {
    "duration": 7,
    "start_time": "2022-11-01T23:56:06.479Z"
   },
   {
    "duration": 5,
    "start_time": "2022-11-01T23:56:06.488Z"
   },
   {
    "duration": 7,
    "start_time": "2022-11-01T23:56:06.494Z"
   },
   {
    "duration": 42,
    "start_time": "2022-11-01T23:56:06.502Z"
   },
   {
    "duration": 14,
    "start_time": "2022-11-01T23:56:06.546Z"
   },
   {
    "duration": 7,
    "start_time": "2022-11-01T23:56:06.562Z"
   },
   {
    "duration": 6,
    "start_time": "2022-11-01T23:56:06.570Z"
   },
   {
    "duration": 13,
    "start_time": "2022-11-01T23:56:30.900Z"
   },
   {
    "duration": 19,
    "start_time": "2022-11-01T23:56:32.914Z"
   },
   {
    "duration": 6,
    "start_time": "2022-11-01T23:56:44.481Z"
   },
   {
    "duration": 6,
    "start_time": "2022-11-01T23:59:13.685Z"
   },
   {
    "duration": 6,
    "start_time": "2022-11-02T00:00:23.411Z"
   },
   {
    "duration": 6,
    "start_time": "2022-11-02T00:02:53.479Z"
   },
   {
    "duration": 8,
    "start_time": "2022-11-02T00:03:18.502Z"
   },
   {
    "duration": 6,
    "start_time": "2022-11-02T00:03:33.285Z"
   },
   {
    "duration": 7,
    "start_time": "2022-11-02T00:03:39.339Z"
   },
   {
    "duration": 7,
    "start_time": "2022-11-02T00:07:16.066Z"
   },
   {
    "duration": 5,
    "start_time": "2022-11-02T00:07:32.966Z"
   },
   {
    "duration": 18,
    "start_time": "2022-11-02T00:09:43.248Z"
   },
   {
    "duration": 5,
    "start_time": "2022-11-02T00:11:11.700Z"
   },
   {
    "duration": 11,
    "start_time": "2022-11-02T00:11:20.914Z"
   },
   {
    "duration": 27,
    "start_time": "2022-11-02T00:11:40.243Z"
   },
   {
    "duration": 8,
    "start_time": "2022-11-02T00:11:47.487Z"
   },
   {
    "duration": 35,
    "start_time": "2022-11-02T00:25:12.498Z"
   },
   {
    "duration": 1072,
    "start_time": "2022-11-02T00:25:23.181Z"
   },
   {
    "duration": 55,
    "start_time": "2022-11-02T00:25:24.255Z"
   },
   {
    "duration": 21,
    "start_time": "2022-11-02T00:25:24.312Z"
   },
   {
    "duration": 14,
    "start_time": "2022-11-02T00:25:24.335Z"
   },
   {
    "duration": 27,
    "start_time": "2022-11-02T00:25:24.351Z"
   },
   {
    "duration": 3,
    "start_time": "2022-11-02T00:25:24.380Z"
   },
   {
    "duration": 6,
    "start_time": "2022-11-02T00:25:24.385Z"
   },
   {
    "duration": 18,
    "start_time": "2022-11-02T00:25:24.392Z"
   },
   {
    "duration": 33,
    "start_time": "2022-11-02T00:25:24.412Z"
   },
   {
    "duration": 13,
    "start_time": "2022-11-02T00:25:24.448Z"
   },
   {
    "duration": 6,
    "start_time": "2022-11-02T00:25:24.463Z"
   },
   {
    "duration": 9,
    "start_time": "2022-11-02T00:25:24.471Z"
   },
   {
    "duration": 6,
    "start_time": "2022-11-02T00:25:24.482Z"
   },
   {
    "duration": 7,
    "start_time": "2022-11-02T00:25:24.489Z"
   },
   {
    "duration": 9,
    "start_time": "2022-11-02T00:25:24.498Z"
   },
   {
    "duration": 9,
    "start_time": "2022-11-02T00:25:24.539Z"
   },
   {
    "duration": 8,
    "start_time": "2022-11-02T00:25:24.550Z"
   },
   {
    "duration": 6,
    "start_time": "2022-11-02T00:25:24.560Z"
   },
   {
    "duration": 5,
    "start_time": "2022-11-02T00:25:24.567Z"
   },
   {
    "duration": 6,
    "start_time": "2022-11-02T00:25:24.573Z"
   },
   {
    "duration": 12,
    "start_time": "2022-11-02T00:25:24.580Z"
   },
   {
    "duration": 12,
    "start_time": "2022-11-02T00:25:24.594Z"
   },
   {
    "duration": 37,
    "start_time": "2022-11-02T00:25:24.608Z"
   },
   {
    "duration": 6,
    "start_time": "2022-11-02T00:25:24.647Z"
   },
   {
    "duration": 9,
    "start_time": "2022-11-02T00:25:24.655Z"
   },
   {
    "duration": 21,
    "start_time": "2022-11-02T00:25:24.666Z"
   },
   {
    "duration": 7,
    "start_time": "2022-11-02T00:25:24.688Z"
   },
   {
    "duration": 5,
    "start_time": "2022-11-02T00:25:24.697Z"
   },
   {
    "duration": 5,
    "start_time": "2022-11-02T00:28:36.501Z"
   },
   {
    "duration": 13,
    "start_time": "2022-11-02T00:29:26.575Z"
   },
   {
    "duration": 5,
    "start_time": "2022-11-02T00:35:11.331Z"
   },
   {
    "duration": 92,
    "start_time": "2022-11-02T00:37:39.151Z"
   },
   {
    "duration": 5,
    "start_time": "2022-11-02T00:37:45.314Z"
   },
   {
    "duration": 7,
    "start_time": "2022-11-02T00:37:54.269Z"
   },
   {
    "duration": 10,
    "start_time": "2022-11-02T00:38:26.901Z"
   },
   {
    "duration": 9,
    "start_time": "2022-11-02T00:38:50.369Z"
   },
   {
    "duration": 17,
    "start_time": "2022-11-02T00:40:00.740Z"
   },
   {
    "duration": 5,
    "start_time": "2022-11-02T00:40:12.048Z"
   },
   {
    "duration": 3,
    "start_time": "2022-11-02T00:40:27.988Z"
   },
   {
    "duration": 53,
    "start_time": "2022-11-02T00:40:38.059Z"
   },
   {
    "duration": 5,
    "start_time": "2022-11-02T00:40:41.311Z"
   },
   {
    "duration": 4,
    "start_time": "2022-11-02T00:40:54.078Z"
   },
   {
    "duration": 4,
    "start_time": "2022-11-02T00:41:02.472Z"
   },
   {
    "duration": 4,
    "start_time": "2022-11-02T00:41:14.692Z"
   },
   {
    "duration": 5,
    "start_time": "2022-11-02T00:41:20.845Z"
   },
   {
    "duration": 1343,
    "start_time": "2022-11-02T20:57:42.780Z"
   },
   {
    "duration": 94,
    "start_time": "2022-11-02T20:57:44.125Z"
   },
   {
    "duration": 19,
    "start_time": "2022-11-02T20:57:44.221Z"
   },
   {
    "duration": 64,
    "start_time": "2022-11-02T20:57:44.242Z"
   },
   {
    "duration": 51,
    "start_time": "2022-11-02T20:57:44.308Z"
   },
   {
    "duration": 13,
    "start_time": "2022-11-02T20:57:44.361Z"
   },
   {
    "duration": 46,
    "start_time": "2022-11-02T20:57:44.376Z"
   },
   {
    "duration": 61,
    "start_time": "2022-11-02T20:57:44.424Z"
   },
   {
    "duration": 60,
    "start_time": "2022-11-02T20:57:44.487Z"
   },
   {
    "duration": 56,
    "start_time": "2022-11-02T20:57:44.549Z"
   },
   {
    "duration": 30,
    "start_time": "2022-11-02T20:57:44.607Z"
   },
   {
    "duration": 32,
    "start_time": "2022-11-02T20:57:44.638Z"
   },
   {
    "duration": 28,
    "start_time": "2022-11-02T20:57:44.672Z"
   },
   {
    "duration": 42,
    "start_time": "2022-11-02T20:57:44.702Z"
   },
   {
    "duration": 45,
    "start_time": "2022-11-02T20:57:44.745Z"
   },
   {
    "duration": 50,
    "start_time": "2022-11-02T20:57:44.791Z"
   },
   {
    "duration": 42,
    "start_time": "2022-11-02T20:57:44.842Z"
   },
   {
    "duration": 46,
    "start_time": "2022-11-02T20:57:44.886Z"
   },
   {
    "duration": 34,
    "start_time": "2022-11-02T20:57:44.934Z"
   },
   {
    "duration": 78,
    "start_time": "2022-11-02T20:57:44.970Z"
   },
   {
    "duration": 38,
    "start_time": "2022-11-02T20:57:45.049Z"
   },
   {
    "duration": 46,
    "start_time": "2022-11-02T20:57:45.089Z"
   },
   {
    "duration": 33,
    "start_time": "2022-11-02T20:57:45.136Z"
   },
   {
    "duration": 32,
    "start_time": "2022-11-02T20:57:45.171Z"
   },
   {
    "duration": 53,
    "start_time": "2022-11-02T20:57:45.204Z"
   },
   {
    "duration": 54,
    "start_time": "2022-11-02T20:57:45.259Z"
   },
   {
    "duration": 42,
    "start_time": "2022-11-02T20:57:45.315Z"
   },
   {
    "duration": 35,
    "start_time": "2022-11-02T20:57:45.360Z"
   },
   {
    "duration": 55,
    "start_time": "2022-11-02T20:57:45.396Z"
   },
   {
    "duration": 47,
    "start_time": "2022-11-02T20:57:45.453Z"
   },
   {
    "duration": 35,
    "start_time": "2022-11-02T20:57:45.501Z"
   },
   {
    "duration": 87,
    "start_time": "2022-11-02T20:57:45.538Z"
   },
   {
    "duration": 23,
    "start_time": "2022-11-02T20:57:45.627Z"
   },
   {
    "duration": 46,
    "start_time": "2022-11-02T20:57:45.651Z"
   },
   {
    "duration": 58,
    "start_time": "2022-11-02T20:57:45.698Z"
   },
   {
    "duration": 18,
    "start_time": "2022-11-02T21:03:37.190Z"
   },
   {
    "duration": 111,
    "start_time": "2022-11-02T21:03:52.312Z"
   },
   {
    "duration": 3,
    "start_time": "2022-11-02T21:03:57.870Z"
   },
   {
    "duration": 5,
    "start_time": "2022-11-02T21:04:03.832Z"
   },
   {
    "duration": 4,
    "start_time": "2022-11-02T21:04:11.230Z"
   },
   {
    "duration": 10,
    "start_time": "2022-11-02T21:04:45.474Z"
   },
   {
    "duration": 20,
    "start_time": "2022-11-02T21:04:50.411Z"
   },
   {
    "duration": 718,
    "start_time": "2022-11-02T21:05:25.880Z"
   },
   {
    "duration": 234,
    "start_time": "2022-11-02T21:05:43.977Z"
   },
   {
    "duration": 269,
    "start_time": "2022-11-02T21:05:54.242Z"
   },
   {
    "duration": 216,
    "start_time": "2022-11-02T21:05:58.768Z"
   },
   {
    "duration": 19,
    "start_time": "2022-11-02T21:08:59.074Z"
   },
   {
    "duration": 19,
    "start_time": "2022-11-02T21:09:34.885Z"
   },
   {
    "duration": 34,
    "start_time": "2022-11-02T21:09:42.265Z"
   },
   {
    "duration": 457,
    "start_time": "2022-11-02T21:15:02.632Z"
   },
   {
    "duration": 20,
    "start_time": "2022-11-02T21:15:16.698Z"
   },
   {
    "duration": 40,
    "start_time": "2022-11-02T21:15:56.210Z"
   },
   {
    "duration": 17,
    "start_time": "2022-11-02T21:16:03.567Z"
   },
   {
    "duration": 19,
    "start_time": "2022-11-02T21:16:11.286Z"
   },
   {
    "duration": 26,
    "start_time": "2022-11-02T21:16:39.065Z"
   },
   {
    "duration": 16,
    "start_time": "2022-11-02T21:16:53.602Z"
   },
   {
    "duration": 16,
    "start_time": "2022-11-02T21:16:57.342Z"
   },
   {
    "duration": 773,
    "start_time": "2022-11-02T21:17:11.714Z"
   },
   {
    "duration": 558,
    "start_time": "2022-11-02T21:17:27.860Z"
   },
   {
    "duration": 21,
    "start_time": "2022-11-02T21:18:23.950Z"
   },
   {
    "duration": 13,
    "start_time": "2022-11-02T21:18:29.013Z"
   },
   {
    "duration": 125,
    "start_time": "2022-11-02T21:19:29.364Z"
   },
   {
    "duration": 11,
    "start_time": "2022-11-02T21:19:49.111Z"
   },
   {
    "duration": 2783,
    "start_time": "2022-11-02T21:20:15.036Z"
   },
   {
    "duration": 239,
    "start_time": "2022-11-02T21:20:30.208Z"
   },
   {
    "duration": 938,
    "start_time": "2022-11-02T21:22:20.360Z"
   },
   {
    "duration": 284,
    "start_time": "2022-11-02T21:22:52.898Z"
   },
   {
    "duration": 285,
    "start_time": "2022-11-02T21:23:04.325Z"
   },
   {
    "duration": 339,
    "start_time": "2022-11-02T21:26:05.525Z"
   },
   {
    "duration": 463,
    "start_time": "2022-11-02T21:26:17.454Z"
   },
   {
    "duration": 329,
    "start_time": "2022-11-02T21:26:23.999Z"
   },
   {
    "duration": 305,
    "start_time": "2022-11-02T21:26:29.084Z"
   },
   {
    "duration": 291,
    "start_time": "2022-11-02T21:26:39.780Z"
   },
   {
    "duration": 25,
    "start_time": "2022-11-02T21:47:36.938Z"
   },
   {
    "duration": 10,
    "start_time": "2022-11-02T21:48:00.097Z"
   },
   {
    "duration": 10,
    "start_time": "2022-11-02T21:48:05.201Z"
   },
   {
    "duration": 11,
    "start_time": "2022-11-02T21:48:08.431Z"
   },
   {
    "duration": 10,
    "start_time": "2022-11-02T21:48:14.011Z"
   },
   {
    "duration": 10,
    "start_time": "2022-11-02T21:48:18.409Z"
   },
   {
    "duration": 3,
    "start_time": "2022-11-02T21:48:22.765Z"
   },
   {
    "duration": 14,
    "start_time": "2022-11-02T21:49:43.443Z"
   },
   {
    "duration": 301,
    "start_time": "2022-11-02T21:50:23.833Z"
   },
   {
    "duration": 147,
    "start_time": "2022-11-02T21:51:17.650Z"
   },
   {
    "duration": 129,
    "start_time": "2022-11-02T21:51:26.785Z"
   },
   {
    "duration": 304,
    "start_time": "2022-11-02T21:51:53.426Z"
   },
   {
    "duration": 124,
    "start_time": "2022-11-02T21:52:25.085Z"
   },
   {
    "duration": 290,
    "start_time": "2022-11-02T21:53:39.681Z"
   },
   {
    "duration": 303,
    "start_time": "2022-11-02T21:54:22.020Z"
   },
   {
    "duration": 122,
    "start_time": "2022-11-02T21:57:33.088Z"
   },
   {
    "duration": 127,
    "start_time": "2022-11-02T21:57:40.556Z"
   },
   {
    "duration": 704,
    "start_time": "2022-11-02T21:59:46.384Z"
   },
   {
    "duration": 41,
    "start_time": "2022-11-02T21:59:54.721Z"
   },
   {
    "duration": 39,
    "start_time": "2022-11-02T22:00:10.402Z"
   },
   {
    "duration": 14,
    "start_time": "2022-11-02T22:01:39.891Z"
   },
   {
    "duration": 14,
    "start_time": "2022-11-02T22:01:47.665Z"
   },
   {
    "duration": 14,
    "start_time": "2022-11-02T22:01:58.447Z"
   },
   {
    "duration": 295,
    "start_time": "2022-11-02T22:02:06.195Z"
   },
   {
    "duration": 14,
    "start_time": "2022-11-02T22:02:11.201Z"
   },
   {
    "duration": 14,
    "start_time": "2022-11-02T22:02:18.289Z"
   },
   {
    "duration": 443,
    "start_time": "2022-11-02T22:02:23.317Z"
   },
   {
    "duration": 316,
    "start_time": "2022-11-02T22:02:44.650Z"
   },
   {
    "duration": 293,
    "start_time": "2022-11-02T22:03:01.032Z"
   },
   {
    "duration": 121,
    "start_time": "2022-11-02T22:03:21.718Z"
   },
   {
    "duration": 124,
    "start_time": "2022-11-02T22:03:27.036Z"
   },
   {
    "duration": 126,
    "start_time": "2022-11-02T22:03:34.164Z"
   },
   {
    "duration": 122,
    "start_time": "2022-11-02T22:03:37.652Z"
   },
   {
    "duration": 339,
    "start_time": "2022-11-02T22:03:42.557Z"
   },
   {
    "duration": 43,
    "start_time": "2022-11-02T22:04:16.291Z"
   },
   {
    "duration": 55,
    "start_time": "2022-11-02T22:04:23.114Z"
   },
   {
    "duration": 307,
    "start_time": "2022-11-02T22:04:27.805Z"
   },
   {
    "duration": 318,
    "start_time": "2022-11-02T22:06:17.559Z"
   },
   {
    "duration": 28,
    "start_time": "2022-11-02T22:10:14.785Z"
   },
   {
    "duration": 45,
    "start_time": "2022-11-02T22:11:44.324Z"
   },
   {
    "duration": 42,
    "start_time": "2022-11-02T22:11:54.281Z"
   },
   {
    "duration": 6,
    "start_time": "2022-11-02T22:12:17.185Z"
   },
   {
    "duration": 8,
    "start_time": "2022-11-02T22:12:38.753Z"
   },
   {
    "duration": 18,
    "start_time": "2022-11-02T22:12:43.128Z"
   },
   {
    "duration": 11,
    "start_time": "2022-11-02T22:14:06.509Z"
   },
   {
    "duration": 18,
    "start_time": "2022-11-02T22:19:12.379Z"
   },
   {
    "duration": 14,
    "start_time": "2022-11-02T22:19:29.830Z"
   },
   {
    "duration": 68,
    "start_time": "2022-11-02T22:19:49.734Z"
   },
   {
    "duration": 60,
    "start_time": "2022-11-02T22:20:12.234Z"
   },
   {
    "duration": 45,
    "start_time": "2022-11-02T22:20:20.316Z"
   },
   {
    "duration": 43,
    "start_time": "2022-11-02T22:20:31.834Z"
   },
   {
    "duration": 49,
    "start_time": "2022-11-02T22:20:34.049Z"
   },
   {
    "duration": 61,
    "start_time": "2022-11-02T22:20:34.760Z"
   },
   {
    "duration": 39,
    "start_time": "2022-11-02T22:20:35.451Z"
   },
   {
    "duration": 45,
    "start_time": "2022-11-02T22:20:36.170Z"
   },
   {
    "duration": 41,
    "start_time": "2022-11-02T22:20:36.874Z"
   },
   {
    "duration": 42,
    "start_time": "2022-11-02T22:20:40.173Z"
   },
   {
    "duration": 36,
    "start_time": "2022-11-02T22:20:44.480Z"
   },
   {
    "duration": 42,
    "start_time": "2022-11-02T22:20:45.571Z"
   },
   {
    "duration": 44,
    "start_time": "2022-11-02T22:20:46.279Z"
   },
   {
    "duration": 46,
    "start_time": "2022-11-02T22:20:46.931Z"
   },
   {
    "duration": 42,
    "start_time": "2022-11-02T22:20:55.156Z"
   },
   {
    "duration": 8,
    "start_time": "2022-11-02T22:21:02.064Z"
   },
   {
    "duration": 18,
    "start_time": "2022-11-02T22:21:11.537Z"
   },
   {
    "duration": 9,
    "start_time": "2022-11-02T22:21:26.737Z"
   },
   {
    "duration": 17,
    "start_time": "2022-11-02T22:21:38.746Z"
   },
   {
    "duration": 16,
    "start_time": "2022-11-02T22:21:39.239Z"
   },
   {
    "duration": 16,
    "start_time": "2022-11-02T22:21:39.631Z"
   },
   {
    "duration": 17,
    "start_time": "2022-11-02T22:22:13.452Z"
   },
   {
    "duration": 12,
    "start_time": "2022-11-02T22:22:29.924Z"
   },
   {
    "duration": 13,
    "start_time": "2022-11-02T22:22:55.149Z"
   },
   {
    "duration": 26,
    "start_time": "2022-11-02T22:23:02.325Z"
   },
   {
    "duration": 29,
    "start_time": "2022-11-02T22:23:16.007Z"
   },
   {
    "duration": 19,
    "start_time": "2022-11-02T22:23:39.707Z"
   },
   {
    "duration": 20,
    "start_time": "2022-11-02T22:23:53.542Z"
   },
   {
    "duration": 30,
    "start_time": "2022-11-02T22:24:01.461Z"
   },
   {
    "duration": 49,
    "start_time": "2022-11-02T22:24:15.152Z"
   },
   {
    "duration": 30,
    "start_time": "2022-11-02T22:24:24.188Z"
   },
   {
    "duration": 28,
    "start_time": "2022-11-02T22:24:42.323Z"
   },
   {
    "duration": 66,
    "start_time": "2022-11-02T22:25:16.911Z"
   },
   {
    "duration": 19,
    "start_time": "2022-11-02T22:25:32.067Z"
   },
   {
    "duration": 21,
    "start_time": "2022-11-02T22:26:06.003Z"
   },
   {
    "duration": 20,
    "start_time": "2022-11-02T22:26:24.164Z"
   },
   {
    "duration": 37,
    "start_time": "2022-11-02T22:27:46.364Z"
   },
   {
    "duration": 43,
    "start_time": "2022-11-02T22:28:17.307Z"
   },
   {
    "duration": 34,
    "start_time": "2022-11-02T22:28:59.679Z"
   },
   {
    "duration": 32,
    "start_time": "2022-11-02T22:29:23.398Z"
   },
   {
    "duration": 32,
    "start_time": "2022-11-02T22:31:15.014Z"
   },
   {
    "duration": 32,
    "start_time": "2022-11-02T22:32:17.875Z"
   },
   {
    "duration": 38,
    "start_time": "2022-11-02T22:32:23.793Z"
   },
   {
    "duration": 282,
    "start_time": "2022-11-02T22:33:07.573Z"
   },
   {
    "duration": 12,
    "start_time": "2022-11-02T22:34:39.337Z"
   },
   {
    "duration": 306,
    "start_time": "2022-11-02T22:35:52.573Z"
   },
   {
    "duration": 309,
    "start_time": "2022-11-02T22:36:03.775Z"
   },
   {
    "duration": 3386,
    "start_time": "2022-11-02T22:37:25.945Z"
   },
   {
    "duration": 4556,
    "start_time": "2022-11-02T22:37:48.894Z"
   },
   {
    "duration": 48,
    "start_time": "2022-11-02T22:38:37.919Z"
   },
   {
    "duration": 18,
    "start_time": "2022-11-02T22:38:43.103Z"
   },
   {
    "duration": 16,
    "start_time": "2022-11-02T22:38:59.417Z"
   },
   {
    "duration": 16,
    "start_time": "2022-11-02T22:39:09.960Z"
   },
   {
    "duration": 11,
    "start_time": "2022-11-02T22:39:22.030Z"
   },
   {
    "duration": 19,
    "start_time": "2022-11-02T22:39:26.936Z"
   },
   {
    "duration": 52,
    "start_time": "2022-11-02T22:39:48.733Z"
   },
   {
    "duration": 28,
    "start_time": "2022-11-02T22:39:54.404Z"
   },
   {
    "duration": 786,
    "start_time": "2022-11-02T22:41:09.051Z"
   },
   {
    "duration": 740,
    "start_time": "2022-11-02T22:41:28.404Z"
   },
   {
    "duration": 671,
    "start_time": "2022-11-02T22:41:48.038Z"
   },
   {
    "duration": 21,
    "start_time": "2022-11-02T22:49:19.464Z"
   },
   {
    "duration": 3258,
    "start_time": "2022-11-02T22:50:01.071Z"
   },
   {
    "duration": 117,
    "start_time": "2022-11-02T23:36:39.145Z"
   },
   {
    "duration": 50,
    "start_time": "2022-11-02T23:36:51.212Z"
   },
   {
    "duration": 773,
    "start_time": "2022-11-02T23:36:56.446Z"
   },
   {
    "duration": 719,
    "start_time": "2022-11-02T23:37:17.800Z"
   },
   {
    "duration": 873,
    "start_time": "2022-11-02T23:37:48.848Z"
   },
   {
    "duration": 48,
    "start_time": "2022-11-02T23:37:55.707Z"
   },
   {
    "duration": 13,
    "start_time": "2022-11-02T23:38:11.822Z"
   },
   {
    "duration": 62,
    "start_time": "2022-11-02T23:38:19.622Z"
   },
   {
    "duration": 2368,
    "start_time": "2022-11-02T23:38:35.245Z"
   },
   {
    "duration": 457,
    "start_time": "2022-11-02T23:39:01.324Z"
   },
   {
    "duration": 444,
    "start_time": "2022-11-02T23:39:18.283Z"
   },
   {
    "duration": 1699,
    "start_time": "2022-11-02T23:40:02.111Z"
   },
   {
    "duration": 444,
    "start_time": "2022-11-02T23:40:10.122Z"
   },
   {
    "duration": 464,
    "start_time": "2022-11-02T23:40:15.762Z"
   },
   {
    "duration": 485,
    "start_time": "2022-11-02T23:40:31.597Z"
   },
   {
    "duration": 43,
    "start_time": "2022-11-02T23:41:47.520Z"
   },
   {
    "duration": 499,
    "start_time": "2022-11-02T23:41:51.556Z"
   },
   {
    "duration": 530,
    "start_time": "2022-11-02T23:42:02.305Z"
   },
   {
    "duration": 18,
    "start_time": "2022-11-02T23:42:56.858Z"
   },
   {
    "duration": 20,
    "start_time": "2022-11-02T23:43:09.354Z"
   },
   {
    "duration": 20,
    "start_time": "2022-11-02T23:43:20.860Z"
   },
   {
    "duration": 490,
    "start_time": "2022-11-02T23:43:29.403Z"
   },
   {
    "duration": 920,
    "start_time": "2022-11-02T23:46:17.898Z"
   },
   {
    "duration": 25,
    "start_time": "2022-11-02T23:49:38.616Z"
   },
   {
    "duration": 27,
    "start_time": "2022-11-02T23:49:40.590Z"
   },
   {
    "duration": 25,
    "start_time": "2022-11-02T23:49:41.241Z"
   },
   {
    "duration": 25,
    "start_time": "2022-11-02T23:49:41.765Z"
   },
   {
    "duration": 26,
    "start_time": "2022-11-02T23:49:42.065Z"
   },
   {
    "duration": 25,
    "start_time": "2022-11-02T23:49:42.252Z"
   },
   {
    "duration": 26,
    "start_time": "2022-11-02T23:49:42.424Z"
   },
   {
    "duration": 26,
    "start_time": "2022-11-02T23:49:42.620Z"
   },
   {
    "duration": 26,
    "start_time": "2022-11-02T23:49:42.784Z"
   },
   {
    "duration": 26,
    "start_time": "2022-11-02T23:49:42.965Z"
   },
   {
    "duration": 26,
    "start_time": "2022-11-02T23:49:43.138Z"
   },
   {
    "duration": 28,
    "start_time": "2022-11-02T23:50:08.409Z"
   },
   {
    "duration": 28,
    "start_time": "2022-11-02T23:50:10.771Z"
   },
   {
    "duration": 29,
    "start_time": "2022-11-02T23:50:15.864Z"
   },
   {
    "duration": 27,
    "start_time": "2022-11-02T23:50:22.968Z"
   },
   {
    "duration": 29,
    "start_time": "2022-11-02T23:50:23.839Z"
   },
   {
    "duration": 26,
    "start_time": "2022-11-02T23:50:24.513Z"
   },
   {
    "duration": 26,
    "start_time": "2022-11-02T23:50:25.159Z"
   },
   {
    "duration": 26,
    "start_time": "2022-11-02T23:50:25.770Z"
   },
   {
    "duration": 26,
    "start_time": "2022-11-02T23:50:26.289Z"
   },
   {
    "duration": 28,
    "start_time": "2022-11-02T23:50:26.822Z"
   },
   {
    "duration": 26,
    "start_time": "2022-11-02T23:50:27.332Z"
   },
   {
    "duration": 27,
    "start_time": "2022-11-02T23:50:27.829Z"
   },
   {
    "duration": 27,
    "start_time": "2022-11-02T23:50:28.329Z"
   },
   {
    "duration": 27,
    "start_time": "2022-11-02T23:50:28.876Z"
   },
   {
    "duration": 29,
    "start_time": "2022-11-02T23:50:33.880Z"
   },
   {
    "duration": 62,
    "start_time": "2022-11-02T23:50:38.148Z"
   },
   {
    "duration": 688,
    "start_time": "2022-11-02T23:50:48.584Z"
   },
   {
    "duration": 676,
    "start_time": "2022-11-02T23:50:53.140Z"
   },
   {
    "duration": 63,
    "start_time": "2022-11-02T23:51:10.693Z"
   },
   {
    "duration": 623,
    "start_time": "2022-11-02T23:51:21.427Z"
   },
   {
    "duration": 695,
    "start_time": "2022-11-02T23:51:40.731Z"
   },
   {
    "duration": 62,
    "start_time": "2022-11-02T23:51:49.067Z"
   },
   {
    "duration": 2211,
    "start_time": "2022-11-02T23:54:37.645Z"
   },
   {
    "duration": 15,
    "start_time": "2022-11-02T23:56:00.068Z"
   },
   {
    "duration": 5837,
    "start_time": "2022-11-02T23:56:19.462Z"
   },
   {
    "duration": 15,
    "start_time": "2022-11-02T23:56:33.093Z"
   },
   {
    "duration": 9,
    "start_time": "2022-11-02T23:56:45.148Z"
   },
   {
    "duration": 3,
    "start_time": "2022-11-02T23:56:49.918Z"
   },
   {
    "duration": 9,
    "start_time": "2022-11-02T23:57:01.551Z"
   },
   {
    "duration": 3441,
    "start_time": "2022-11-02T23:57:12.719Z"
   },
   {
    "duration": 1168,
    "start_time": "2022-11-02T23:57:19.111Z"
   },
   {
    "duration": 1079,
    "start_time": "2022-11-02T23:57:25.291Z"
   },
   {
    "duration": 1153,
    "start_time": "2022-11-02T23:57:53.005Z"
   },
   {
    "duration": 53,
    "start_time": "2022-11-02T23:57:54.160Z"
   },
   {
    "duration": 19,
    "start_time": "2022-11-02T23:57:54.214Z"
   },
   {
    "duration": 13,
    "start_time": "2022-11-02T23:57:54.234Z"
   },
   {
    "duration": 26,
    "start_time": "2022-11-02T23:57:54.248Z"
   },
   {
    "duration": 4,
    "start_time": "2022-11-02T23:57:54.275Z"
   },
   {
    "duration": 29,
    "start_time": "2022-11-02T23:57:54.280Z"
   },
   {
    "duration": 20,
    "start_time": "2022-11-02T23:57:54.310Z"
   },
   {
    "duration": 30,
    "start_time": "2022-11-02T23:57:54.331Z"
   },
   {
    "duration": 17,
    "start_time": "2022-11-02T23:57:54.363Z"
   },
   {
    "duration": 6,
    "start_time": "2022-11-02T23:57:54.382Z"
   },
   {
    "duration": 13,
    "start_time": "2022-11-02T23:57:54.389Z"
   },
   {
    "duration": 6,
    "start_time": "2022-11-02T23:57:54.404Z"
   },
   {
    "duration": 16,
    "start_time": "2022-11-02T23:57:54.412Z"
   },
   {
    "duration": 30,
    "start_time": "2022-11-02T23:57:54.430Z"
   },
   {
    "duration": 10,
    "start_time": "2022-11-02T23:57:54.461Z"
   },
   {
    "duration": 21,
    "start_time": "2022-11-02T23:57:54.472Z"
   },
   {
    "duration": 15,
    "start_time": "2022-11-02T23:57:54.494Z"
   },
   {
    "duration": 11,
    "start_time": "2022-11-02T23:57:54.510Z"
   },
   {
    "duration": 16,
    "start_time": "2022-11-02T23:57:54.522Z"
   },
   {
    "duration": 7,
    "start_time": "2022-11-02T23:57:54.539Z"
   },
   {
    "duration": 6,
    "start_time": "2022-11-02T23:57:54.548Z"
   },
   {
    "duration": 12,
    "start_time": "2022-11-02T23:57:54.555Z"
   },
   {
    "duration": 21,
    "start_time": "2022-11-02T23:57:54.569Z"
   },
   {
    "duration": 21,
    "start_time": "2022-11-02T23:57:54.592Z"
   },
   {
    "duration": 20,
    "start_time": "2022-11-02T23:57:54.615Z"
   },
   {
    "duration": 4,
    "start_time": "2022-11-02T23:57:54.636Z"
   },
   {
    "duration": 7,
    "start_time": "2022-11-02T23:57:54.643Z"
   },
   {
    "duration": 10,
    "start_time": "2022-11-02T23:57:54.651Z"
   },
   {
    "duration": 7,
    "start_time": "2022-11-02T23:57:54.663Z"
   },
   {
    "duration": 15,
    "start_time": "2022-11-02T23:57:54.671Z"
   },
   {
    "duration": 4,
    "start_time": "2022-11-02T23:57:54.688Z"
   },
   {
    "duration": 16,
    "start_time": "2022-11-02T23:57:54.694Z"
   },
   {
    "duration": 12,
    "start_time": "2022-11-02T23:57:54.711Z"
   },
   {
    "duration": 21,
    "start_time": "2022-11-02T23:57:54.725Z"
   },
   {
    "duration": 344,
    "start_time": "2022-11-02T23:57:54.747Z"
   },
   {
    "duration": 18,
    "start_time": "2022-11-02T23:57:55.092Z"
   },
   {
    "duration": 302,
    "start_time": "2022-11-02T23:57:55.111Z"
   },
   {
    "duration": 66,
    "start_time": "2022-11-02T23:57:55.415Z"
   },
   {
    "duration": 1986,
    "start_time": "2022-11-02T23:59:04.995Z"
   },
   {
    "duration": 5,
    "start_time": "2022-11-02T23:59:29.047Z"
   },
   {
    "duration": 127,
    "start_time": "2022-11-03T00:00:08.578Z"
   },
   {
    "duration": 438,
    "start_time": "2022-11-03T00:00:26.495Z"
   },
   {
    "duration": 20,
    "start_time": "2022-11-03T00:00:36.901Z"
   },
   {
    "duration": 32,
    "start_time": "2022-11-03T00:01:20.873Z"
   },
   {
    "duration": 12,
    "start_time": "2022-11-03T00:07:42.994Z"
   },
   {
    "duration": 7,
    "start_time": "2022-11-03T00:08:11.704Z"
   },
   {
    "duration": 13,
    "start_time": "2022-11-03T00:09:01.963Z"
   },
   {
    "duration": 12,
    "start_time": "2022-11-03T00:09:17.415Z"
   },
   {
    "duration": 9,
    "start_time": "2022-11-03T00:09:35.070Z"
   },
   {
    "duration": 9,
    "start_time": "2022-11-03T00:09:46.901Z"
   },
   {
    "duration": 128,
    "start_time": "2022-11-03T00:10:13.354Z"
   },
   {
    "duration": 268,
    "start_time": "2022-11-03T00:10:31.942Z"
   },
   {
    "duration": 115,
    "start_time": "2022-11-03T00:10:45.172Z"
   },
   {
    "duration": 1992,
    "start_time": "2022-11-03T00:12:20.560Z"
   },
   {
    "duration": 1077,
    "start_time": "2022-11-03T00:12:22.555Z"
   },
   {
    "duration": 54,
    "start_time": "2022-11-03T00:12:23.634Z"
   },
   {
    "duration": 19,
    "start_time": "2022-11-03T00:12:23.690Z"
   },
   {
    "duration": 13,
    "start_time": "2022-11-03T00:12:23.710Z"
   },
   {
    "duration": 25,
    "start_time": "2022-11-03T00:12:23.724Z"
   },
   {
    "duration": 3,
    "start_time": "2022-11-03T00:12:23.751Z"
   },
   {
    "duration": 25,
    "start_time": "2022-11-03T00:12:23.756Z"
   },
   {
    "duration": 23,
    "start_time": "2022-11-03T00:12:23.782Z"
   },
   {
    "duration": 16,
    "start_time": "2022-11-03T00:12:23.809Z"
   },
   {
    "duration": 18,
    "start_time": "2022-11-03T00:12:23.826Z"
   },
   {
    "duration": 6,
    "start_time": "2022-11-03T00:12:23.845Z"
   },
   {
    "duration": 10,
    "start_time": "2022-11-03T00:12:23.852Z"
   },
   {
    "duration": 20,
    "start_time": "2022-11-03T00:12:23.864Z"
   },
   {
    "duration": 13,
    "start_time": "2022-11-03T00:12:23.886Z"
   },
   {
    "duration": 13,
    "start_time": "2022-11-03T00:12:23.900Z"
   },
   {
    "duration": 10,
    "start_time": "2022-11-03T00:12:23.914Z"
   },
   {
    "duration": 9,
    "start_time": "2022-11-03T00:12:23.925Z"
   },
   {
    "duration": 17,
    "start_time": "2022-11-03T00:12:23.936Z"
   },
   {
    "duration": 6,
    "start_time": "2022-11-03T00:12:23.954Z"
   },
   {
    "duration": 7,
    "start_time": "2022-11-03T00:12:23.962Z"
   },
   {
    "duration": 8,
    "start_time": "2022-11-03T00:12:23.970Z"
   },
   {
    "duration": 10,
    "start_time": "2022-11-03T00:12:23.980Z"
   },
   {
    "duration": 12,
    "start_time": "2022-11-03T00:12:23.991Z"
   },
   {
    "duration": 6,
    "start_time": "2022-11-03T00:12:24.009Z"
   },
   {
    "duration": 6,
    "start_time": "2022-11-03T00:12:24.016Z"
   },
   {
    "duration": 21,
    "start_time": "2022-11-03T00:12:24.023Z"
   },
   {
    "duration": 4,
    "start_time": "2022-11-03T00:12:24.047Z"
   },
   {
    "duration": 15,
    "start_time": "2022-11-03T00:12:24.052Z"
   },
   {
    "duration": 19,
    "start_time": "2022-11-03T00:12:24.069Z"
   },
   {
    "duration": 18,
    "start_time": "2022-11-03T00:12:24.090Z"
   },
   {
    "duration": 9,
    "start_time": "2022-11-03T00:12:24.109Z"
   },
   {
    "duration": 11,
    "start_time": "2022-11-03T00:12:24.120Z"
   },
   {
    "duration": 14,
    "start_time": "2022-11-03T00:12:24.132Z"
   },
   {
    "duration": 27,
    "start_time": "2022-11-03T00:12:24.148Z"
   },
   {
    "duration": 23,
    "start_time": "2022-11-03T00:12:24.177Z"
   },
   {
    "duration": 335,
    "start_time": "2022-11-03T00:12:24.201Z"
   },
   {
    "duration": 11,
    "start_time": "2022-11-03T00:12:24.538Z"
   },
   {
    "duration": 299,
    "start_time": "2022-11-03T00:12:24.551Z"
   },
   {
    "duration": 126,
    "start_time": "2022-11-03T00:12:24.852Z"
   },
   {
    "duration": 0,
    "start_time": "2022-11-03T00:12:24.980Z"
   },
   {
    "duration": 0,
    "start_time": "2022-11-03T00:12:24.981Z"
   },
   {
    "duration": 6,
    "start_time": "2022-11-03T00:12:31.212Z"
   },
   {
    "duration": 18,
    "start_time": "2022-11-03T00:12:36.549Z"
   },
   {
    "duration": 67,
    "start_time": "2022-11-03T00:15:44.673Z"
   },
   {
    "duration": 17,
    "start_time": "2022-11-03T00:15:53.171Z"
   },
   {
    "duration": 2238,
    "start_time": "2022-11-03T19:24:54.021Z"
   },
   {
    "duration": 1346,
    "start_time": "2022-11-03T19:24:56.261Z"
   },
   {
    "duration": 110,
    "start_time": "2022-11-03T19:24:57.609Z"
   },
   {
    "duration": 22,
    "start_time": "2022-11-03T19:24:57.721Z"
   },
   {
    "duration": 16,
    "start_time": "2022-11-03T19:24:57.745Z"
   },
   {
    "duration": 28,
    "start_time": "2022-11-03T19:24:57.763Z"
   },
   {
    "duration": 3,
    "start_time": "2022-11-03T19:24:57.793Z"
   },
   {
    "duration": 14,
    "start_time": "2022-11-03T19:24:57.798Z"
   },
   {
    "duration": 21,
    "start_time": "2022-11-03T19:24:57.814Z"
   },
   {
    "duration": 15,
    "start_time": "2022-11-03T19:24:57.838Z"
   },
   {
    "duration": 17,
    "start_time": "2022-11-03T19:24:57.855Z"
   },
   {
    "duration": 6,
    "start_time": "2022-11-03T19:24:57.876Z"
   },
   {
    "duration": 16,
    "start_time": "2022-11-03T19:24:57.884Z"
   },
   {
    "duration": 12,
    "start_time": "2022-11-03T19:24:57.902Z"
   },
   {
    "duration": 10,
    "start_time": "2022-11-03T19:24:57.916Z"
   },
   {
    "duration": 21,
    "start_time": "2022-11-03T19:24:57.928Z"
   },
   {
    "duration": 20,
    "start_time": "2022-11-03T19:24:57.951Z"
   },
   {
    "duration": 19,
    "start_time": "2022-11-03T19:24:57.973Z"
   },
   {
    "duration": 11,
    "start_time": "2022-11-03T19:24:57.994Z"
   },
   {
    "duration": 13,
    "start_time": "2022-11-03T19:24:58.007Z"
   },
   {
    "duration": 10,
    "start_time": "2022-11-03T19:24:58.022Z"
   },
   {
    "duration": 13,
    "start_time": "2022-11-03T19:24:58.034Z"
   },
   {
    "duration": 16,
    "start_time": "2022-11-03T19:24:58.048Z"
   },
   {
    "duration": 26,
    "start_time": "2022-11-03T19:24:58.066Z"
   },
   {
    "duration": 17,
    "start_time": "2022-11-03T19:24:58.095Z"
   },
   {
    "duration": 15,
    "start_time": "2022-11-03T19:24:58.114Z"
   },
   {
    "duration": 35,
    "start_time": "2022-11-03T19:24:58.131Z"
   },
   {
    "duration": 4,
    "start_time": "2022-11-03T19:24:58.169Z"
   },
   {
    "duration": 10,
    "start_time": "2022-11-03T19:24:58.174Z"
   },
   {
    "duration": 23,
    "start_time": "2022-11-03T19:24:58.185Z"
   },
   {
    "duration": 9,
    "start_time": "2022-11-03T19:24:58.210Z"
   },
   {
    "duration": 13,
    "start_time": "2022-11-03T19:24:58.221Z"
   },
   {
    "duration": 19,
    "start_time": "2022-11-03T19:24:58.236Z"
   },
   {
    "duration": 10,
    "start_time": "2022-11-03T19:24:58.257Z"
   },
   {
    "duration": 19,
    "start_time": "2022-11-03T19:24:58.269Z"
   },
   {
    "duration": 25,
    "start_time": "2022-11-03T19:24:58.290Z"
   },
   {
    "duration": 397,
    "start_time": "2022-11-03T19:24:58.317Z"
   },
   {
    "duration": 13,
    "start_time": "2022-11-03T19:24:58.716Z"
   },
   {
    "duration": 359,
    "start_time": "2022-11-03T19:24:58.731Z"
   },
   {
    "duration": 135,
    "start_time": "2022-11-03T19:24:59.092Z"
   },
   {
    "duration": 0,
    "start_time": "2022-11-03T19:24:59.229Z"
   },
   {
    "duration": 0,
    "start_time": "2022-11-03T19:24:59.231Z"
   },
   {
    "duration": 8,
    "start_time": "2022-11-03T19:25:19.962Z"
   },
   {
    "duration": 22,
    "start_time": "2022-11-03T19:25:25.142Z"
   },
   {
    "duration": 24,
    "start_time": "2022-11-03T19:25:56.061Z"
   },
   {
    "duration": 29,
    "start_time": "2022-11-03T19:25:57.830Z"
   },
   {
    "duration": 506,
    "start_time": "2022-11-03T19:26:01.740Z"
   },
   {
    "duration": 533,
    "start_time": "2022-11-03T19:26:13.331Z"
   },
   {
    "duration": 159,
    "start_time": "2022-11-03T19:26:37.138Z"
   },
   {
    "duration": 631,
    "start_time": "2022-11-03T19:27:26.598Z"
   },
   {
    "duration": 12,
    "start_time": "2022-11-03T19:28:45.628Z"
   },
   {
    "duration": 423,
    "start_time": "2022-11-03T19:29:48.470Z"
   },
   {
    "duration": 932,
    "start_time": "2022-11-03T19:30:19.108Z"
   },
   {
    "duration": 1117,
    "start_time": "2022-11-03T19:30:43.601Z"
   },
   {
    "duration": 4,
    "start_time": "2022-11-03T19:31:14.790Z"
   },
   {
    "duration": 691,
    "start_time": "2022-11-03T19:31:23.390Z"
   },
   {
    "duration": 27,
    "start_time": "2022-11-03T19:31:56.662Z"
   },
   {
    "duration": 440,
    "start_time": "2022-11-03T19:32:06.620Z"
   },
   {
    "duration": 23,
    "start_time": "2022-11-03T19:32:50.730Z"
   },
   {
    "duration": 37,
    "start_time": "2022-11-03T19:33:07.538Z"
   },
   {
    "duration": 6131,
    "start_time": "2022-11-03T19:33:16.991Z"
   },
   {
    "duration": 2701,
    "start_time": "2022-11-03T19:34:01.392Z"
   },
   {
    "duration": 432,
    "start_time": "2022-11-03T19:34:14.942Z"
   },
   {
    "duration": 337,
    "start_time": "2022-11-03T19:35:46.414Z"
   },
   {
    "duration": 516,
    "start_time": "2022-11-03T19:37:28.792Z"
   },
   {
    "duration": 22,
    "start_time": "2022-11-03T19:37:50.895Z"
   },
   {
    "duration": 378,
    "start_time": "2022-11-03T19:38:06.549Z"
   },
   {
    "duration": 397,
    "start_time": "2022-11-03T19:39:23.478Z"
   },
   {
    "duration": 14,
    "start_time": "2022-11-03T19:53:53.789Z"
   },
   {
    "duration": 11,
    "start_time": "2022-11-03T19:54:52.406Z"
   },
   {
    "duration": 723,
    "start_time": "2022-11-03T19:58:40.023Z"
   },
   {
    "duration": 805,
    "start_time": "2022-11-03T19:58:53.213Z"
   },
   {
    "duration": 2035,
    "start_time": "2022-11-04T23:03:25.203Z"
   },
   {
    "duration": 1269,
    "start_time": "2022-11-04T23:03:27.240Z"
   },
   {
    "duration": 96,
    "start_time": "2022-11-04T23:03:28.511Z"
   },
   {
    "duration": 19,
    "start_time": "2022-11-04T23:03:28.610Z"
   },
   {
    "duration": 13,
    "start_time": "2022-11-04T23:03:28.631Z"
   },
   {
    "duration": 26,
    "start_time": "2022-11-04T23:03:28.645Z"
   },
   {
    "duration": 4,
    "start_time": "2022-11-04T23:03:28.677Z"
   },
   {
    "duration": 6,
    "start_time": "2022-11-04T23:03:28.683Z"
   },
   {
    "duration": 19,
    "start_time": "2022-11-04T23:03:28.691Z"
   },
   {
    "duration": 16,
    "start_time": "2022-11-04T23:03:28.712Z"
   },
   {
    "duration": 16,
    "start_time": "2022-11-04T23:03:28.730Z"
   },
   {
    "duration": 6,
    "start_time": "2022-11-04T23:03:28.747Z"
   },
   {
    "duration": 29,
    "start_time": "2022-11-04T23:03:28.754Z"
   },
   {
    "duration": 9,
    "start_time": "2022-11-04T23:03:28.785Z"
   },
   {
    "duration": 8,
    "start_time": "2022-11-04T23:03:28.795Z"
   },
   {
    "duration": 6,
    "start_time": "2022-11-04T23:03:28.804Z"
   },
   {
    "duration": 6,
    "start_time": "2022-11-04T23:03:28.812Z"
   },
   {
    "duration": 6,
    "start_time": "2022-11-04T23:03:28.821Z"
   },
   {
    "duration": 5,
    "start_time": "2022-11-04T23:03:28.829Z"
   },
   {
    "duration": 40,
    "start_time": "2022-11-04T23:03:28.836Z"
   },
   {
    "duration": 5,
    "start_time": "2022-11-04T23:03:28.878Z"
   },
   {
    "duration": 8,
    "start_time": "2022-11-04T23:03:28.885Z"
   },
   {
    "duration": 7,
    "start_time": "2022-11-04T23:03:28.895Z"
   },
   {
    "duration": 11,
    "start_time": "2022-11-04T23:03:28.904Z"
   },
   {
    "duration": 15,
    "start_time": "2022-11-04T23:03:28.917Z"
   },
   {
    "duration": 5,
    "start_time": "2022-11-04T23:03:28.933Z"
   },
   {
    "duration": 47,
    "start_time": "2022-11-04T23:03:28.940Z"
   },
   {
    "duration": 4,
    "start_time": "2022-11-04T23:03:28.990Z"
   },
   {
    "duration": 8,
    "start_time": "2022-11-04T23:03:28.995Z"
   },
   {
    "duration": 10,
    "start_time": "2022-11-04T23:03:29.004Z"
   },
   {
    "duration": 6,
    "start_time": "2022-11-04T23:03:29.016Z"
   },
   {
    "duration": 7,
    "start_time": "2022-11-04T23:03:29.024Z"
   },
   {
    "duration": 7,
    "start_time": "2022-11-04T23:03:29.032Z"
   },
   {
    "duration": 12,
    "start_time": "2022-11-04T23:03:29.041Z"
   },
   {
    "duration": 31,
    "start_time": "2022-11-04T23:03:29.054Z"
   },
   {
    "duration": 19,
    "start_time": "2022-11-04T23:03:29.086Z"
   },
   {
    "duration": 343,
    "start_time": "2022-11-04T23:03:29.107Z"
   },
   {
    "duration": 12,
    "start_time": "2022-11-04T23:03:29.452Z"
   },
   {
    "duration": 338,
    "start_time": "2022-11-04T23:03:29.477Z"
   },
   {
    "duration": 511,
    "start_time": "2022-11-04T23:03:29.817Z"
   },
   {
    "duration": 8,
    "start_time": "2022-11-04T23:03:30.330Z"
   },
   {
    "duration": 50,
    "start_time": "2022-11-04T23:03:30.339Z"
   },
   {
    "duration": 394,
    "start_time": "2022-11-04T23:03:30.390Z"
   },
   {
    "duration": 14,
    "start_time": "2022-11-04T23:03:30.787Z"
   },
   {
    "duration": 109,
    "start_time": "2022-11-04T23:03:30.803Z"
   },
   {
    "duration": 10,
    "start_time": "2022-11-04T23:15:11.052Z"
   },
   {
    "duration": 17,
    "start_time": "2022-11-04T23:15:20.020Z"
   },
   {
    "duration": 11,
    "start_time": "2022-11-04T23:15:29.573Z"
   },
   {
    "duration": 13,
    "start_time": "2022-11-04T23:15:36.692Z"
   },
   {
    "duration": 18,
    "start_time": "2022-11-04T23:16:11.032Z"
   },
   {
    "duration": 17,
    "start_time": "2022-11-04T23:16:23.152Z"
   },
   {
    "duration": 1817,
    "start_time": "2022-11-04T23:16:30.316Z"
   },
   {
    "duration": 1057,
    "start_time": "2022-11-04T23:16:32.135Z"
   },
   {
    "duration": 55,
    "start_time": "2022-11-04T23:16:33.194Z"
   },
   {
    "duration": 18,
    "start_time": "2022-11-04T23:16:33.251Z"
   },
   {
    "duration": 17,
    "start_time": "2022-11-04T23:16:33.271Z"
   },
   {
    "duration": 28,
    "start_time": "2022-11-04T23:16:33.290Z"
   },
   {
    "duration": 17,
    "start_time": "2022-11-04T23:16:33.320Z"
   },
   {
    "duration": 4,
    "start_time": "2022-11-04T23:16:33.339Z"
   },
   {
    "duration": 5,
    "start_time": "2022-11-04T23:16:33.344Z"
   },
   {
    "duration": 39,
    "start_time": "2022-11-04T23:16:33.350Z"
   },
   {
    "duration": 14,
    "start_time": "2022-11-04T23:16:33.391Z"
   },
   {
    "duration": 27,
    "start_time": "2022-11-04T23:16:33.406Z"
   },
   {
    "duration": 7,
    "start_time": "2022-11-04T23:16:33.435Z"
   },
   {
    "duration": 10,
    "start_time": "2022-11-04T23:16:33.445Z"
   },
   {
    "duration": 24,
    "start_time": "2022-11-04T23:16:33.456Z"
   },
   {
    "duration": 13,
    "start_time": "2022-11-04T23:16:33.482Z"
   },
   {
    "duration": 13,
    "start_time": "2022-11-04T23:16:33.497Z"
   },
   {
    "duration": 33,
    "start_time": "2022-11-04T23:16:33.512Z"
   },
   {
    "duration": 7,
    "start_time": "2022-11-04T23:16:33.547Z"
   },
   {
    "duration": 17,
    "start_time": "2022-11-04T23:16:33.556Z"
   },
   {
    "duration": 16,
    "start_time": "2022-11-04T23:16:33.575Z"
   },
   {
    "duration": 7,
    "start_time": "2022-11-04T23:16:33.593Z"
   },
   {
    "duration": 8,
    "start_time": "2022-11-04T23:16:33.602Z"
   },
   {
    "duration": 7,
    "start_time": "2022-11-04T23:16:33.612Z"
   },
   {
    "duration": 11,
    "start_time": "2022-11-04T23:16:33.621Z"
   },
   {
    "duration": 16,
    "start_time": "2022-11-04T23:16:33.634Z"
   },
   {
    "duration": 12,
    "start_time": "2022-11-04T23:16:33.651Z"
   },
   {
    "duration": 20,
    "start_time": "2022-11-04T23:16:33.664Z"
   },
   {
    "duration": 4,
    "start_time": "2022-11-04T23:16:33.686Z"
   },
   {
    "duration": 6,
    "start_time": "2022-11-04T23:16:33.692Z"
   },
   {
    "duration": 10,
    "start_time": "2022-11-04T23:16:33.700Z"
   },
   {
    "duration": 6,
    "start_time": "2022-11-04T23:16:33.711Z"
   },
   {
    "duration": 5,
    "start_time": "2022-11-04T23:16:33.719Z"
   },
   {
    "duration": 5,
    "start_time": "2022-11-04T23:16:33.726Z"
   },
   {
    "duration": 8,
    "start_time": "2022-11-04T23:16:33.733Z"
   },
   {
    "duration": 40,
    "start_time": "2022-11-04T23:16:33.742Z"
   },
   {
    "duration": 25,
    "start_time": "2022-11-04T23:16:33.784Z"
   },
   {
    "duration": 355,
    "start_time": "2022-11-04T23:16:33.810Z"
   },
   {
    "duration": 13,
    "start_time": "2022-11-04T23:16:34.166Z"
   },
   {
    "duration": 308,
    "start_time": "2022-11-04T23:16:34.181Z"
   },
   {
    "duration": 516,
    "start_time": "2022-11-04T23:16:34.492Z"
   },
   {
    "duration": 7,
    "start_time": "2022-11-04T23:16:35.010Z"
   },
   {
    "duration": 15,
    "start_time": "2022-11-04T23:16:35.019Z"
   },
   {
    "duration": 421,
    "start_time": "2022-11-04T23:16:35.036Z"
   },
   {
    "duration": 18,
    "start_time": "2022-11-04T23:16:35.458Z"
   },
   {
    "duration": 105,
    "start_time": "2022-11-04T23:16:35.478Z"
   },
   {
    "duration": 9,
    "start_time": "2022-11-04T23:17:20.035Z"
   },
   {
    "duration": 7,
    "start_time": "2022-11-04T23:20:14.855Z"
   },
   {
    "duration": 6,
    "start_time": "2022-11-04T23:20:29.615Z"
   },
   {
    "duration": 5,
    "start_time": "2022-11-04T23:21:39.355Z"
   },
   {
    "duration": 6,
    "start_time": "2022-11-04T23:21:46.777Z"
   },
   {
    "duration": 1881,
    "start_time": "2022-11-04T23:22:09.580Z"
   },
   {
    "duration": 1120,
    "start_time": "2022-11-04T23:22:11.463Z"
   },
   {
    "duration": 56,
    "start_time": "2022-11-04T23:22:12.584Z"
   },
   {
    "duration": 21,
    "start_time": "2022-11-04T23:22:12.642Z"
   },
   {
    "duration": 17,
    "start_time": "2022-11-04T23:22:12.665Z"
   },
   {
    "duration": 34,
    "start_time": "2022-11-04T23:22:12.689Z"
   },
   {
    "duration": 8,
    "start_time": "2022-11-04T23:22:12.725Z"
   },
   {
    "duration": 6,
    "start_time": "2022-11-04T23:22:12.734Z"
   },
   {
    "duration": 6,
    "start_time": "2022-11-04T23:22:12.741Z"
   },
   {
    "duration": 17,
    "start_time": "2022-11-04T23:22:12.748Z"
   },
   {
    "duration": 28,
    "start_time": "2022-11-04T23:22:12.767Z"
   },
   {
    "duration": 14,
    "start_time": "2022-11-04T23:22:12.796Z"
   },
   {
    "duration": 6,
    "start_time": "2022-11-04T23:22:12.812Z"
   },
   {
    "duration": 9,
    "start_time": "2022-11-04T23:22:12.820Z"
   },
   {
    "duration": 7,
    "start_time": "2022-11-04T23:22:12.830Z"
   },
   {
    "duration": 6,
    "start_time": "2022-11-04T23:22:12.838Z"
   },
   {
    "duration": 6,
    "start_time": "2022-11-04T23:22:12.846Z"
   },
   {
    "duration": 34,
    "start_time": "2022-11-04T23:22:12.854Z"
   },
   {
    "duration": 11,
    "start_time": "2022-11-04T23:22:12.891Z"
   },
   {
    "duration": 5,
    "start_time": "2022-11-04T23:22:12.904Z"
   },
   {
    "duration": 6,
    "start_time": "2022-11-04T23:22:12.910Z"
   },
   {
    "duration": 4,
    "start_time": "2022-11-04T23:22:12.918Z"
   },
   {
    "duration": 4,
    "start_time": "2022-11-04T23:22:12.923Z"
   },
   {
    "duration": 6,
    "start_time": "2022-11-04T23:22:12.928Z"
   },
   {
    "duration": 6,
    "start_time": "2022-11-04T23:22:12.935Z"
   },
   {
    "duration": 35,
    "start_time": "2022-11-04T23:22:12.942Z"
   },
   {
    "duration": 15,
    "start_time": "2022-11-04T23:22:12.978Z"
   },
   {
    "duration": 5,
    "start_time": "2022-11-04T23:22:12.995Z"
   },
   {
    "duration": 6,
    "start_time": "2022-11-04T23:22:13.001Z"
   },
   {
    "duration": 20,
    "start_time": "2022-11-04T23:22:13.008Z"
   },
   {
    "duration": 5,
    "start_time": "2022-11-04T23:22:13.029Z"
   },
   {
    "duration": 20,
    "start_time": "2022-11-04T23:22:13.035Z"
   },
   {
    "duration": 29,
    "start_time": "2022-11-04T23:22:13.056Z"
   },
   {
    "duration": 9,
    "start_time": "2022-11-04T23:22:13.086Z"
   },
   {
    "duration": 8,
    "start_time": "2022-11-04T23:22:13.096Z"
   },
   {
    "duration": 10,
    "start_time": "2022-11-04T23:22:13.106Z"
   },
   {
    "duration": 5,
    "start_time": "2022-11-04T23:22:13.118Z"
   },
   {
    "duration": 14,
    "start_time": "2022-11-04T23:22:13.124Z"
   },
   {
    "duration": 23,
    "start_time": "2022-11-04T23:22:13.140Z"
   },
   {
    "duration": 354,
    "start_time": "2022-11-04T23:22:13.179Z"
   },
   {
    "duration": 14,
    "start_time": "2022-11-04T23:22:13.537Z"
   },
   {
    "duration": 327,
    "start_time": "2022-11-04T23:22:13.553Z"
   },
   {
    "duration": 514,
    "start_time": "2022-11-04T23:22:13.886Z"
   },
   {
    "duration": 7,
    "start_time": "2022-11-04T23:22:14.402Z"
   },
   {
    "duration": 12,
    "start_time": "2022-11-04T23:22:14.410Z"
   },
   {
    "duration": 384,
    "start_time": "2022-11-04T23:22:14.424Z"
   },
   {
    "duration": 11,
    "start_time": "2022-11-04T23:22:14.810Z"
   },
   {
    "duration": 113,
    "start_time": "2022-11-04T23:22:14.823Z"
   },
   {
    "duration": 404,
    "start_time": "2022-11-04T23:28:12.236Z"
   },
   {
    "duration": 310,
    "start_time": "2022-11-04T23:28:19.436Z"
   },
   {
    "duration": 19,
    "start_time": "2022-11-04T23:34:50.324Z"
   },
   {
    "duration": 6,
    "start_time": "2022-11-04T23:35:05.836Z"
   },
   {
    "duration": 18,
    "start_time": "2022-11-04T23:35:07.996Z"
   },
   {
    "duration": 5,
    "start_time": "2022-11-04T23:35:28.717Z"
   },
   {
    "duration": 5,
    "start_time": "2022-11-04T23:36:33.838Z"
   },
   {
    "duration": 18,
    "start_time": "2022-11-04T23:36:43.636Z"
   },
   {
    "duration": 19,
    "start_time": "2022-11-04T23:36:54.155Z"
   },
   {
    "duration": 18,
    "start_time": "2022-11-04T23:37:06.217Z"
   },
   {
    "duration": 38,
    "start_time": "2022-11-04T23:38:21.556Z"
   },
   {
    "duration": 236,
    "start_time": "2022-11-04T23:38:35.257Z"
   },
   {
    "duration": 554,
    "start_time": "2022-11-04T23:38:48.303Z"
   },
   {
    "duration": 136,
    "start_time": "2022-11-04T23:39:47.908Z"
   },
   {
    "duration": 5,
    "start_time": "2022-11-04T23:40:11.645Z"
   },
   {
    "duration": 126,
    "start_time": "2022-11-04T23:40:12.677Z"
   },
   {
    "duration": 5,
    "start_time": "2022-11-04T23:40:14.657Z"
   },
   {
    "duration": 221,
    "start_time": "2022-11-04T23:40:15.397Z"
   },
   {
    "duration": 5,
    "start_time": "2022-11-04T23:40:23.757Z"
   },
   {
    "duration": 137,
    "start_time": "2022-11-04T23:40:27.196Z"
   },
   {
    "duration": 44,
    "start_time": "2022-11-05T22:41:56.001Z"
   },
   {
    "duration": 2327,
    "start_time": "2022-11-05T22:42:17.326Z"
   },
   {
    "duration": 1229,
    "start_time": "2022-11-05T22:42:19.655Z"
   },
   {
    "duration": 91,
    "start_time": "2022-11-05T22:42:20.885Z"
   },
   {
    "duration": 19,
    "start_time": "2022-11-05T22:42:20.978Z"
   },
   {
    "duration": 13,
    "start_time": "2022-11-05T22:42:20.998Z"
   },
   {
    "duration": 26,
    "start_time": "2022-11-05T22:42:21.012Z"
   },
   {
    "duration": 8,
    "start_time": "2022-11-05T22:42:21.040Z"
   },
   {
    "duration": 4,
    "start_time": "2022-11-05T22:42:21.050Z"
   },
   {
    "duration": 9,
    "start_time": "2022-11-05T22:42:21.055Z"
   },
   {
    "duration": 28,
    "start_time": "2022-11-05T22:42:21.066Z"
   },
   {
    "duration": 17,
    "start_time": "2022-11-05T22:42:21.095Z"
   },
   {
    "duration": 17,
    "start_time": "2022-11-05T22:42:21.113Z"
   },
   {
    "duration": 7,
    "start_time": "2022-11-05T22:42:21.131Z"
   },
   {
    "duration": 16,
    "start_time": "2022-11-05T22:42:21.139Z"
   },
   {
    "duration": 5,
    "start_time": "2022-11-05T22:42:21.156Z"
   },
   {
    "duration": 14,
    "start_time": "2022-11-05T22:42:21.163Z"
   },
   {
    "duration": 7,
    "start_time": "2022-11-05T22:42:21.179Z"
   },
   {
    "duration": 11,
    "start_time": "2022-11-05T22:42:21.187Z"
   },
   {
    "duration": 5,
    "start_time": "2022-11-05T22:42:21.199Z"
   },
   {
    "duration": 5,
    "start_time": "2022-11-05T22:42:21.206Z"
   },
   {
    "duration": 5,
    "start_time": "2022-11-05T22:42:21.222Z"
   },
   {
    "duration": 5,
    "start_time": "2022-11-05T22:42:21.228Z"
   },
   {
    "duration": 6,
    "start_time": "2022-11-05T22:42:21.235Z"
   },
   {
    "duration": 8,
    "start_time": "2022-11-05T22:42:21.242Z"
   },
   {
    "duration": 8,
    "start_time": "2022-11-05T22:42:21.251Z"
   },
   {
    "duration": 6,
    "start_time": "2022-11-05T22:42:21.260Z"
   },
   {
    "duration": 10,
    "start_time": "2022-11-05T22:42:21.268Z"
   },
   {
    "duration": 4,
    "start_time": "2022-11-05T22:42:21.281Z"
   },
   {
    "duration": 36,
    "start_time": "2022-11-05T22:42:21.287Z"
   },
   {
    "duration": 19,
    "start_time": "2022-11-05T22:42:21.324Z"
   },
   {
    "duration": 4,
    "start_time": "2022-11-05T22:42:21.344Z"
   },
   {
    "duration": 6,
    "start_time": "2022-11-05T22:42:21.349Z"
   },
   {
    "duration": 9,
    "start_time": "2022-11-05T22:42:21.356Z"
   },
   {
    "duration": 7,
    "start_time": "2022-11-05T22:42:21.367Z"
   },
   {
    "duration": 6,
    "start_time": "2022-11-05T22:42:21.375Z"
   },
   {
    "duration": 12,
    "start_time": "2022-11-05T22:42:21.382Z"
   },
   {
    "duration": 7,
    "start_time": "2022-11-05T22:42:21.395Z"
   },
   {
    "duration": 13,
    "start_time": "2022-11-05T22:42:21.421Z"
   },
   {
    "duration": 323,
    "start_time": "2022-11-05T22:42:21.435Z"
   },
   {
    "duration": 278,
    "start_time": "2022-11-05T22:42:21.759Z"
   },
   {
    "duration": 107,
    "start_time": "2022-11-05T22:42:22.039Z"
   },
   {
    "duration": 17,
    "start_time": "2022-11-05T22:42:31.065Z"
   },
   {
    "duration": 14,
    "start_time": "2022-11-05T22:43:02.685Z"
   },
   {
    "duration": 133,
    "start_time": "2022-11-05T22:43:13.993Z"
   },
   {
    "duration": 74,
    "start_time": "2022-11-05T22:43:34.021Z"
   },
   {
    "duration": 123,
    "start_time": "2022-11-05T22:43:46.144Z"
   },
   {
    "duration": 670,
    "start_time": "2022-11-05T22:44:10.026Z"
   },
   {
    "duration": 683,
    "start_time": "2022-11-05T22:45:03.956Z"
   },
   {
    "duration": 14,
    "start_time": "2022-11-05T22:45:20.385Z"
   },
   {
    "duration": 71,
    "start_time": "2022-11-05T22:45:44.484Z"
   },
   {
    "duration": 127,
    "start_time": "2022-11-05T22:45:51.104Z"
   },
   {
    "duration": 632,
    "start_time": "2022-11-05T22:46:10.404Z"
   },
   {
    "duration": 48,
    "start_time": "2022-11-05T22:46:18.025Z"
   },
   {
    "duration": 16,
    "start_time": "2022-11-05T22:46:37.304Z"
   },
   {
    "duration": 13,
    "start_time": "2022-11-05T22:46:42.225Z"
   },
   {
    "duration": 371,
    "start_time": "2022-11-05T22:50:02.491Z"
   },
   {
    "duration": 304,
    "start_time": "2022-11-05T22:50:14.804Z"
   },
   {
    "duration": 371,
    "start_time": "2022-11-05T22:50:35.651Z"
   },
   {
    "duration": 3,
    "start_time": "2022-11-05T22:53:10.193Z"
   },
   {
    "duration": 17,
    "start_time": "2022-11-05T22:53:20.664Z"
   },
   {
    "duration": 270,
    "start_time": "2022-11-05T22:53:49.273Z"
   },
   {
    "duration": 123,
    "start_time": "2022-11-05T22:54:30.664Z"
   },
   {
    "duration": 212,
    "start_time": "2022-11-05T22:54:39.044Z"
   },
   {
    "duration": 12,
    "start_time": "2022-11-05T22:54:48.685Z"
   },
   {
    "duration": 13,
    "start_time": "2022-11-05T22:55:02.580Z"
   },
   {
    "duration": 627,
    "start_time": "2022-11-05T22:55:41.344Z"
   },
   {
    "duration": 640,
    "start_time": "2022-11-05T22:56:01.686Z"
   },
   {
    "duration": 642,
    "start_time": "2022-11-05T22:56:06.423Z"
   },
   {
    "duration": 719,
    "start_time": "2022-11-05T22:56:14.664Z"
   },
   {
    "duration": 745,
    "start_time": "2022-11-05T22:56:18.684Z"
   },
   {
    "duration": 614,
    "start_time": "2022-11-05T22:56:25.485Z"
   },
   {
    "duration": 123,
    "start_time": "2022-11-05T22:56:50.604Z"
   },
   {
    "duration": 287,
    "start_time": "2022-11-05T22:56:57.267Z"
   },
   {
    "duration": 274,
    "start_time": "2022-11-05T22:57:22.624Z"
   },
   {
    "duration": 10,
    "start_time": "2022-11-05T22:57:34.704Z"
   },
   {
    "duration": 10,
    "start_time": "2022-11-05T22:57:52.964Z"
   },
   {
    "duration": 3,
    "start_time": "2022-11-05T22:58:23.004Z"
   },
   {
    "duration": 276,
    "start_time": "2022-11-05T22:58:37.704Z"
   },
   {
    "duration": 298,
    "start_time": "2022-11-05T22:58:45.443Z"
   },
   {
    "duration": 389,
    "start_time": "2022-11-05T22:58:52.623Z"
   },
   {
    "duration": 297,
    "start_time": "2022-11-05T22:58:59.592Z"
   },
   {
    "duration": 296,
    "start_time": "2022-11-05T22:59:05.205Z"
   },
   {
    "duration": 269,
    "start_time": "2022-11-05T22:59:10.683Z"
   },
   {
    "duration": 262,
    "start_time": "2022-11-05T22:59:20.944Z"
   },
   {
    "duration": 294,
    "start_time": "2022-11-05T22:59:26.555Z"
   },
   {
    "duration": 402,
    "start_time": "2022-11-05T22:59:40.464Z"
   },
   {
    "duration": 295,
    "start_time": "2022-11-05T23:00:08.224Z"
   },
   {
    "duration": 293,
    "start_time": "2022-11-05T23:00:29.153Z"
   },
   {
    "duration": 330,
    "start_time": "2022-11-05T23:01:01.304Z"
   },
   {
    "duration": 297,
    "start_time": "2022-11-05T23:01:49.864Z"
   },
   {
    "duration": 296,
    "start_time": "2022-11-05T23:02:00.696Z"
   },
   {
    "duration": 13,
    "start_time": "2022-11-05T23:03:56.244Z"
   },
   {
    "duration": 13,
    "start_time": "2022-11-05T23:04:03.036Z"
   },
   {
    "duration": 14,
    "start_time": "2022-11-05T23:04:09.125Z"
   },
   {
    "duration": 11,
    "start_time": "2022-11-05T23:04:15.584Z"
   },
   {
    "duration": 15,
    "start_time": "2022-11-05T23:04:20.385Z"
   },
   {
    "duration": 285,
    "start_time": "2022-11-05T23:05:45.264Z"
   },
   {
    "duration": 22,
    "start_time": "2022-11-05T23:05:55.305Z"
   },
   {
    "duration": 11,
    "start_time": "2022-11-05T23:06:05.631Z"
   },
   {
    "duration": 22,
    "start_time": "2022-11-05T23:06:22.682Z"
   },
   {
    "duration": 415,
    "start_time": "2022-11-05T23:13:22.804Z"
   },
   {
    "duration": 289,
    "start_time": "2022-11-05T23:13:40.714Z"
   },
   {
    "duration": 295,
    "start_time": "2022-11-05T23:13:54.432Z"
   },
   {
    "duration": 279,
    "start_time": "2022-11-05T23:14:41.203Z"
   },
   {
    "duration": 11,
    "start_time": "2022-11-05T23:17:16.583Z"
   },
   {
    "duration": 10,
    "start_time": "2022-11-05T23:17:44.184Z"
   },
   {
    "duration": 15,
    "start_time": "2022-11-05T23:18:04.476Z"
   },
   {
    "duration": 10,
    "start_time": "2022-11-05T23:18:10.063Z"
   },
   {
    "duration": 14,
    "start_time": "2022-11-05T23:18:58.484Z"
   },
   {
    "duration": 279,
    "start_time": "2022-11-05T23:19:56.333Z"
   },
   {
    "duration": 333,
    "start_time": "2022-11-05T23:20:09.013Z"
   },
   {
    "duration": 273,
    "start_time": "2022-11-05T23:20:13.111Z"
   },
   {
    "duration": 13,
    "start_time": "2022-11-05T23:23:07.279Z"
   },
   {
    "duration": 13,
    "start_time": "2022-11-05T23:23:31.372Z"
   },
   {
    "duration": 14,
    "start_time": "2022-11-05T23:23:45.444Z"
   },
   {
    "duration": 14,
    "start_time": "2022-11-05T23:23:46.383Z"
   },
   {
    "duration": 13,
    "start_time": "2022-11-05T23:23:46.884Z"
   },
   {
    "duration": 13,
    "start_time": "2022-11-05T23:23:47.303Z"
   },
   {
    "duration": 9,
    "start_time": "2022-11-05T23:27:42.103Z"
   },
   {
    "duration": 8,
    "start_time": "2022-11-05T23:28:00.444Z"
   },
   {
    "duration": 111,
    "start_time": "2022-11-05T23:28:11.800Z"
   },
   {
    "duration": 307,
    "start_time": "2022-11-05T23:28:31.044Z"
   },
   {
    "duration": 297,
    "start_time": "2022-11-05T23:28:44.384Z"
   },
   {
    "duration": 494,
    "start_time": "2022-11-05T23:28:58.892Z"
   },
   {
    "duration": 316,
    "start_time": "2022-11-05T23:29:09.304Z"
   },
   {
    "duration": 313,
    "start_time": "2022-11-05T23:29:15.144Z"
   },
   {
    "duration": 331,
    "start_time": "2022-11-05T23:29:31.143Z"
   },
   {
    "duration": 5,
    "start_time": "2022-11-05T23:30:35.964Z"
   },
   {
    "duration": 15,
    "start_time": "2022-11-05T23:31:18.665Z"
   },
   {
    "duration": 14,
    "start_time": "2022-11-05T23:31:25.516Z"
   },
   {
    "duration": 11,
    "start_time": "2022-11-05T23:31:33.064Z"
   },
   {
    "duration": 13,
    "start_time": "2022-11-05T23:31:48.665Z"
   },
   {
    "duration": 4,
    "start_time": "2022-11-05T23:37:09.404Z"
   },
   {
    "duration": 13,
    "start_time": "2022-11-05T23:37:51.488Z"
   },
   {
    "duration": 46,
    "start_time": "2022-11-05T23:38:53.384Z"
   },
   {
    "duration": 12,
    "start_time": "2022-11-05T23:38:58.644Z"
   },
   {
    "duration": 12,
    "start_time": "2022-11-05T23:39:34.040Z"
   },
   {
    "duration": 15,
    "start_time": "2022-11-05T23:39:38.249Z"
   },
   {
    "duration": 12,
    "start_time": "2022-11-05T23:39:56.144Z"
   },
   {
    "duration": 45,
    "start_time": "2022-11-05T23:40:06.404Z"
   },
   {
    "duration": 769,
    "start_time": "2022-11-05T23:40:20.744Z"
   },
   {
    "duration": 18,
    "start_time": "2022-11-05T23:40:50.062Z"
   },
   {
    "duration": 18,
    "start_time": "2022-11-05T23:41:27.212Z"
   },
   {
    "duration": 16,
    "start_time": "2022-11-05T23:41:43.004Z"
   },
   {
    "duration": 16,
    "start_time": "2022-11-05T23:42:11.246Z"
   },
   {
    "duration": 16,
    "start_time": "2022-11-05T23:42:16.664Z"
   },
   {
    "duration": 16,
    "start_time": "2022-11-05T23:42:24.626Z"
   },
   {
    "duration": 16,
    "start_time": "2022-11-05T23:42:31.385Z"
   },
   {
    "duration": 114,
    "start_time": "2022-11-05T23:42:40.223Z"
   },
   {
    "duration": 752,
    "start_time": "2022-11-05T23:42:50.192Z"
   },
   {
    "duration": 39,
    "start_time": "2022-11-05T23:44:00.184Z"
   },
   {
    "duration": 43,
    "start_time": "2022-11-05T23:44:05.192Z"
   },
   {
    "duration": 240,
    "start_time": "2022-11-05T23:44:27.284Z"
   },
   {
    "duration": 45,
    "start_time": "2022-11-05T23:45:17.923Z"
   },
   {
    "duration": 42,
    "start_time": "2022-11-05T23:46:50.323Z"
   },
   {
    "duration": 329,
    "start_time": "2022-11-05T23:46:56.815Z"
   },
   {
    "duration": 144,
    "start_time": "2022-11-05T23:47:51.244Z"
   },
   {
    "duration": 148,
    "start_time": "2022-11-05T23:48:17.416Z"
   },
   {
    "duration": 163,
    "start_time": "2022-11-05T23:48:51.883Z"
   },
   {
    "duration": 760,
    "start_time": "2022-11-05T23:49:21.463Z"
   },
   {
    "duration": 95,
    "start_time": "2022-11-05T23:49:42.684Z"
   },
   {
    "duration": 351,
    "start_time": "2022-11-05T23:49:53.623Z"
   },
   {
    "duration": 228,
    "start_time": "2022-11-05T23:51:28.404Z"
   },
   {
    "duration": 133,
    "start_time": "2022-11-05T23:51:43.544Z"
   },
   {
    "duration": 48,
    "start_time": "2022-11-05T23:52:38.324Z"
   },
   {
    "duration": 197,
    "start_time": "2022-11-05T23:52:49.063Z"
   },
   {
    "duration": 50,
    "start_time": "2022-11-05T23:53:37.116Z"
   },
   {
    "duration": 535,
    "start_time": "2022-11-05T23:54:11.164Z"
   },
   {
    "duration": 958,
    "start_time": "2022-11-05T23:55:37.893Z"
   },
   {
    "duration": 970,
    "start_time": "2022-11-05T23:56:39.796Z"
   },
   {
    "duration": 984,
    "start_time": "2022-11-05T23:56:49.725Z"
   },
   {
    "duration": 46,
    "start_time": "2022-11-05T23:57:25.316Z"
   },
   {
    "duration": 40,
    "start_time": "2022-11-05T23:58:16.447Z"
   },
   {
    "duration": 40,
    "start_time": "2022-11-05T23:58:25.565Z"
   },
   {
    "duration": 39,
    "start_time": "2022-11-05T23:58:26.364Z"
   },
   {
    "duration": 40,
    "start_time": "2022-11-05T23:58:26.764Z"
   },
   {
    "duration": 43,
    "start_time": "2022-11-05T23:58:36.346Z"
   },
   {
    "duration": 1146,
    "start_time": "2022-11-05T23:59:21.312Z"
   },
   {
    "duration": 1001,
    "start_time": "2022-11-06T00:00:02.232Z"
   },
   {
    "duration": 982,
    "start_time": "2022-11-06T00:03:36.644Z"
   },
   {
    "duration": 1203,
    "start_time": "2022-11-06T00:03:46.495Z"
   },
   {
    "duration": 319,
    "start_time": "2022-11-06T00:03:58.823Z"
   },
   {
    "duration": 19,
    "start_time": "2022-11-06T00:21:25.736Z"
   },
   {
    "duration": 19,
    "start_time": "2022-11-06T00:21:42.656Z"
   },
   {
    "duration": 5,
    "start_time": "2022-11-06T00:22:58.295Z"
   },
   {
    "duration": 11,
    "start_time": "2022-11-06T00:23:50.797Z"
   },
   {
    "duration": 165,
    "start_time": "2022-11-06T00:24:35.039Z"
   },
   {
    "duration": 13,
    "start_time": "2022-11-06T00:31:10.296Z"
   },
   {
    "duration": 1895,
    "start_time": "2022-11-06T00:34:05.520Z"
   },
   {
    "duration": 1092,
    "start_time": "2022-11-06T00:34:07.417Z"
   },
   {
    "duration": 50,
    "start_time": "2022-11-06T00:34:08.511Z"
   },
   {
    "duration": 17,
    "start_time": "2022-11-06T00:34:08.563Z"
   },
   {
    "duration": 13,
    "start_time": "2022-11-06T00:34:08.582Z"
   },
   {
    "duration": 32,
    "start_time": "2022-11-06T00:34:08.596Z"
   },
   {
    "duration": 8,
    "start_time": "2022-11-06T00:34:08.629Z"
   },
   {
    "duration": 7,
    "start_time": "2022-11-06T00:34:08.638Z"
   },
   {
    "duration": 8,
    "start_time": "2022-11-06T00:34:08.646Z"
   },
   {
    "duration": 15,
    "start_time": "2022-11-06T00:34:08.656Z"
   },
   {
    "duration": 13,
    "start_time": "2022-11-06T00:34:08.672Z"
   },
   {
    "duration": 15,
    "start_time": "2022-11-06T00:34:08.687Z"
   },
   {
    "duration": 6,
    "start_time": "2022-11-06T00:34:08.721Z"
   },
   {
    "duration": 6,
    "start_time": "2022-11-06T00:34:08.729Z"
   },
   {
    "duration": 7,
    "start_time": "2022-11-06T00:34:08.737Z"
   },
   {
    "duration": 6,
    "start_time": "2022-11-06T00:34:08.745Z"
   },
   {
    "duration": 6,
    "start_time": "2022-11-06T00:34:08.752Z"
   },
   {
    "duration": 7,
    "start_time": "2022-11-06T00:34:08.759Z"
   },
   {
    "duration": 6,
    "start_time": "2022-11-06T00:34:08.768Z"
   },
   {
    "duration": 5,
    "start_time": "2022-11-06T00:34:08.775Z"
   },
   {
    "duration": 41,
    "start_time": "2022-11-06T00:34:08.781Z"
   },
   {
    "duration": 5,
    "start_time": "2022-11-06T00:34:08.824Z"
   },
   {
    "duration": 8,
    "start_time": "2022-11-06T00:34:08.830Z"
   },
   {
    "duration": 5,
    "start_time": "2022-11-06T00:34:08.839Z"
   },
   {
    "duration": 13,
    "start_time": "2022-11-06T00:34:08.845Z"
   },
   {
    "duration": 9,
    "start_time": "2022-11-06T00:34:08.860Z"
   },
   {
    "duration": 13,
    "start_time": "2022-11-06T00:34:08.871Z"
   },
   {
    "duration": 15,
    "start_time": "2022-11-06T00:34:08.885Z"
   },
   {
    "duration": 5,
    "start_time": "2022-11-06T00:34:08.922Z"
   },
   {
    "duration": 27,
    "start_time": "2022-11-06T00:34:08.929Z"
   },
   {
    "duration": 5,
    "start_time": "2022-11-06T00:34:08.958Z"
   },
   {
    "duration": 6,
    "start_time": "2022-11-06T00:34:08.965Z"
   },
   {
    "duration": 11,
    "start_time": "2022-11-06T00:34:08.972Z"
   },
   {
    "duration": 9,
    "start_time": "2022-11-06T00:34:08.984Z"
   },
   {
    "duration": 5,
    "start_time": "2022-11-06T00:34:08.994Z"
   },
   {
    "duration": 24,
    "start_time": "2022-11-06T00:34:09.000Z"
   },
   {
    "duration": 7,
    "start_time": "2022-11-06T00:34:09.025Z"
   },
   {
    "duration": 14,
    "start_time": "2022-11-06T00:34:09.033Z"
   },
   {
    "duration": 325,
    "start_time": "2022-11-06T00:34:09.048Z"
   },
   {
    "duration": 275,
    "start_time": "2022-11-06T00:34:09.375Z"
   },
   {
    "duration": 13,
    "start_time": "2022-11-06T00:34:09.654Z"
   },
   {
    "duration": 292,
    "start_time": "2022-11-06T00:34:09.669Z"
   },
   {
    "duration": 10,
    "start_time": "2022-11-06T00:34:09.963Z"
   },
   {
    "duration": 321,
    "start_time": "2022-11-06T00:34:09.974Z"
   },
   {
    "duration": 1076,
    "start_time": "2022-11-06T00:34:10.296Z"
   },
   {
    "duration": 11,
    "start_time": "2022-11-06T00:34:11.374Z"
   },
   {
    "duration": 186,
    "start_time": "2022-11-06T00:34:11.386Z"
   },
   {
    "duration": 0,
    "start_time": "2022-11-06T00:37:45.524Z"
   },
   {
    "duration": 0,
    "start_time": "2022-11-06T00:37:45.527Z"
   },
   {
    "duration": 1399,
    "start_time": "2022-11-06T00:38:50.412Z"
   },
   {
    "duration": 25,
    "start_time": "2022-11-06T00:45:39.332Z"
   },
   {
    "duration": 1897,
    "start_time": "2022-11-06T00:47:59.396Z"
   },
   {
    "duration": 1127,
    "start_time": "2022-11-06T00:48:01.295Z"
   },
   {
    "duration": 52,
    "start_time": "2022-11-06T00:48:02.424Z"
   },
   {
    "duration": 17,
    "start_time": "2022-11-06T00:48:02.477Z"
   },
   {
    "duration": 31,
    "start_time": "2022-11-06T00:48:02.496Z"
   },
   {
    "duration": 34,
    "start_time": "2022-11-06T00:48:02.529Z"
   },
   {
    "duration": 8,
    "start_time": "2022-11-06T00:48:02.565Z"
   },
   {
    "duration": 11,
    "start_time": "2022-11-06T00:48:02.574Z"
   },
   {
    "duration": 14,
    "start_time": "2022-11-06T00:48:02.586Z"
   },
   {
    "duration": 31,
    "start_time": "2022-11-06T00:48:02.602Z"
   },
   {
    "duration": 21,
    "start_time": "2022-11-06T00:48:02.635Z"
   },
   {
    "duration": 21,
    "start_time": "2022-11-06T00:48:02.658Z"
   },
   {
    "duration": 8,
    "start_time": "2022-11-06T00:48:02.680Z"
   },
   {
    "duration": 18,
    "start_time": "2022-11-06T00:48:02.691Z"
   },
   {
    "duration": 15,
    "start_time": "2022-11-06T00:48:02.710Z"
   },
   {
    "duration": 26,
    "start_time": "2022-11-06T00:48:02.726Z"
   },
   {
    "duration": 7,
    "start_time": "2022-11-06T00:48:02.754Z"
   },
   {
    "duration": 7,
    "start_time": "2022-11-06T00:48:02.763Z"
   },
   {
    "duration": 28,
    "start_time": "2022-11-06T00:48:02.771Z"
   },
   {
    "duration": 10,
    "start_time": "2022-11-06T00:48:02.801Z"
   },
   {
    "duration": 7,
    "start_time": "2022-11-06T00:48:02.812Z"
   },
   {
    "duration": 7,
    "start_time": "2022-11-06T00:48:02.820Z"
   },
   {
    "duration": 7,
    "start_time": "2022-11-06T00:48:02.828Z"
   },
   {
    "duration": 10,
    "start_time": "2022-11-06T00:48:02.836Z"
   },
   {
    "duration": 7,
    "start_time": "2022-11-06T00:48:02.848Z"
   },
   {
    "duration": 8,
    "start_time": "2022-11-06T00:48:02.856Z"
   },
   {
    "duration": 11,
    "start_time": "2022-11-06T00:48:02.865Z"
   },
   {
    "duration": 7,
    "start_time": "2022-11-06T00:48:02.877Z"
   },
   {
    "duration": 7,
    "start_time": "2022-11-06T00:48:02.885Z"
   },
   {
    "duration": 36,
    "start_time": "2022-11-06T00:48:02.894Z"
   },
   {
    "duration": 4,
    "start_time": "2022-11-06T00:48:02.931Z"
   },
   {
    "duration": 10,
    "start_time": "2022-11-06T00:48:02.936Z"
   },
   {
    "duration": 11,
    "start_time": "2022-11-06T00:48:02.947Z"
   },
   {
    "duration": 6,
    "start_time": "2022-11-06T00:48:02.960Z"
   },
   {
    "duration": 7,
    "start_time": "2022-11-06T00:48:02.967Z"
   },
   {
    "duration": 9,
    "start_time": "2022-11-06T00:48:02.975Z"
   },
   {
    "duration": 9,
    "start_time": "2022-11-06T00:48:02.985Z"
   },
   {
    "duration": 28,
    "start_time": "2022-11-06T00:48:02.995Z"
   },
   {
    "duration": 328,
    "start_time": "2022-11-06T00:48:03.024Z"
   },
   {
    "duration": 281,
    "start_time": "2022-11-06T00:48:03.354Z"
   },
   {
    "duration": 14,
    "start_time": "2022-11-06T00:48:03.638Z"
   },
   {
    "duration": 285,
    "start_time": "2022-11-06T00:48:03.654Z"
   },
   {
    "duration": 11,
    "start_time": "2022-11-06T00:48:03.940Z"
   },
   {
    "duration": 328,
    "start_time": "2022-11-06T00:48:03.953Z"
   },
   {
    "duration": 1076,
    "start_time": "2022-11-06T00:48:04.283Z"
   },
   {
    "duration": 11,
    "start_time": "2022-11-06T00:48:05.360Z"
   },
   {
    "duration": 186,
    "start_time": "2022-11-06T00:48:05.373Z"
   },
   {
    "duration": 1466,
    "start_time": "2022-11-06T00:48:05.560Z"
   },
   {
    "duration": 90534,
    "start_time": "2022-11-06T00:48:07.028Z"
   },
   {
    "duration": 0,
    "start_time": "2022-11-06T00:49:37.564Z"
   },
   {
    "duration": 615,
    "start_time": "2022-11-06T00:53:05.024Z"
   },
   {
    "duration": 705,
    "start_time": "2022-11-06T00:53:41.876Z"
   },
   {
    "duration": 5,
    "start_time": "2022-11-06T00:54:17.307Z"
   },
   {
    "duration": 4,
    "start_time": "2022-11-06T00:54:45.755Z"
   },
   {
    "duration": 4,
    "start_time": "2022-11-06T00:55:04.335Z"
   },
   {
    "duration": 4,
    "start_time": "2022-11-06T00:55:16.076Z"
   },
   {
    "duration": 713,
    "start_time": "2022-11-06T00:55:49.395Z"
   },
   {
    "duration": 669,
    "start_time": "2022-11-06T00:56:02.255Z"
   },
   {
    "duration": 47,
    "start_time": "2022-11-06T00:58:04.495Z"
   },
   {
    "duration": 38077,
    "start_time": "2022-11-06T00:58:11.347Z"
   },
   {
    "duration": 35690,
    "start_time": "2022-11-06T00:58:55.195Z"
   },
   {
    "duration": 36052,
    "start_time": "2022-11-06T00:59:59.390Z"
   },
   {
    "duration": 35948,
    "start_time": "2022-11-06T01:00:40.615Z"
   },
   {
    "duration": 10,
    "start_time": "2022-11-06T01:03:43.623Z"
   },
   {
    "duration": 11,
    "start_time": "2022-11-06T01:04:04.001Z"
   },
   {
    "duration": 666,
    "start_time": "2022-11-06T01:04:19.942Z"
   },
   {
    "duration": 669,
    "start_time": "2022-11-06T01:04:56.296Z"
   },
   {
    "duration": 750,
    "start_time": "2022-11-06T01:05:52.034Z"
   },
   {
    "duration": 5,
    "start_time": "2022-11-06T01:06:08.653Z"
   },
   {
    "duration": 4,
    "start_time": "2022-11-06T01:06:15.434Z"
   },
   {
    "duration": 6,
    "start_time": "2022-11-06T01:07:08.145Z"
   },
   {
    "duration": 47,
    "start_time": "2022-11-06T01:07:52.396Z"
   },
   {
    "duration": 6,
    "start_time": "2022-11-06T01:07:55.833Z"
   },
   {
    "duration": 46,
    "start_time": "2022-11-06T01:08:03.894Z"
   },
   {
    "duration": 9,
    "start_time": "2022-11-06T01:08:08.014Z"
   },
   {
    "duration": 14,
    "start_time": "2022-11-06T01:11:38.833Z"
   },
   {
    "duration": 14,
    "start_time": "2022-11-06T01:11:43.254Z"
   },
   {
    "duration": 44,
    "start_time": "2022-11-06T01:12:05.137Z"
   },
   {
    "duration": 672,
    "start_time": "2022-11-06T01:12:10.834Z"
   },
   {
    "duration": 709,
    "start_time": "2022-11-06T01:12:56.301Z"
   },
   {
    "duration": 640,
    "start_time": "2022-11-06T01:13:26.886Z"
   },
   {
    "duration": 1425,
    "start_time": "2022-11-06T01:14:24.894Z"
   },
   {
    "duration": 46,
    "start_time": "2022-11-06T21:36:31.961Z"
   },
   {
    "duration": 2260,
    "start_time": "2022-11-06T21:36:58.354Z"
   },
   {
    "duration": 1306,
    "start_time": "2022-11-06T21:37:00.616Z"
   },
   {
    "duration": 113,
    "start_time": "2022-11-06T21:37:01.924Z"
   },
   {
    "duration": 19,
    "start_time": "2022-11-06T21:37:02.039Z"
   },
   {
    "duration": 24,
    "start_time": "2022-11-06T21:37:02.059Z"
   },
   {
    "duration": 38,
    "start_time": "2022-11-06T21:37:02.084Z"
   },
   {
    "duration": 7,
    "start_time": "2022-11-06T21:37:02.124Z"
   },
   {
    "duration": 18,
    "start_time": "2022-11-06T21:37:02.133Z"
   },
   {
    "duration": 16,
    "start_time": "2022-11-06T21:37:02.153Z"
   },
   {
    "duration": 34,
    "start_time": "2022-11-06T21:37:02.171Z"
   },
   {
    "duration": 17,
    "start_time": "2022-11-06T21:37:02.207Z"
   },
   {
    "duration": 16,
    "start_time": "2022-11-06T21:37:02.225Z"
   },
   {
    "duration": 12,
    "start_time": "2022-11-06T21:37:02.243Z"
   },
   {
    "duration": 9,
    "start_time": "2022-11-06T21:37:02.256Z"
   },
   {
    "duration": 12,
    "start_time": "2022-11-06T21:37:02.266Z"
   },
   {
    "duration": 8,
    "start_time": "2022-11-06T21:37:02.280Z"
   },
   {
    "duration": 9,
    "start_time": "2022-11-06T21:37:02.289Z"
   },
   {
    "duration": 8,
    "start_time": "2022-11-06T21:37:02.299Z"
   },
   {
    "duration": 26,
    "start_time": "2022-11-06T21:37:02.308Z"
   },
   {
    "duration": 11,
    "start_time": "2022-11-06T21:37:02.336Z"
   },
   {
    "duration": 8,
    "start_time": "2022-11-06T21:37:02.348Z"
   },
   {
    "duration": 10,
    "start_time": "2022-11-06T21:37:02.358Z"
   },
   {
    "duration": 7,
    "start_time": "2022-11-06T21:37:02.369Z"
   },
   {
    "duration": 5,
    "start_time": "2022-11-06T21:37:02.377Z"
   },
   {
    "duration": 13,
    "start_time": "2022-11-06T21:37:02.384Z"
   },
   {
    "duration": 11,
    "start_time": "2022-11-06T21:37:02.399Z"
   },
   {
    "duration": 20,
    "start_time": "2022-11-06T21:37:02.412Z"
   },
   {
    "duration": 18,
    "start_time": "2022-11-06T21:37:02.435Z"
   },
   {
    "duration": 21,
    "start_time": "2022-11-06T21:37:02.454Z"
   },
   {
    "duration": 21,
    "start_time": "2022-11-06T21:37:02.476Z"
   },
   {
    "duration": 18,
    "start_time": "2022-11-06T21:37:02.498Z"
   },
   {
    "duration": 15,
    "start_time": "2022-11-06T21:37:02.517Z"
   },
   {
    "duration": 13,
    "start_time": "2022-11-06T21:37:02.533Z"
   },
   {
    "duration": 20,
    "start_time": "2022-11-06T21:37:02.547Z"
   },
   {
    "duration": 13,
    "start_time": "2022-11-06T21:37:02.569Z"
   },
   {
    "duration": 24,
    "start_time": "2022-11-06T21:37:02.583Z"
   },
   {
    "duration": 6,
    "start_time": "2022-11-06T21:37:02.609Z"
   },
   {
    "duration": 18,
    "start_time": "2022-11-06T21:37:02.617Z"
   },
   {
    "duration": 332,
    "start_time": "2022-11-06T21:37:02.637Z"
   },
   {
    "duration": 292,
    "start_time": "2022-11-06T21:37:02.970Z"
   },
   {
    "duration": 13,
    "start_time": "2022-11-06T21:37:03.264Z"
   },
   {
    "duration": 305,
    "start_time": "2022-11-06T21:37:03.278Z"
   },
   {
    "duration": 10,
    "start_time": "2022-11-06T21:37:03.585Z"
   },
   {
    "duration": 349,
    "start_time": "2022-11-06T21:37:03.596Z"
   },
   {
    "duration": 1203,
    "start_time": "2022-11-06T21:37:03.946Z"
   },
   {
    "duration": 11,
    "start_time": "2022-11-06T21:37:05.151Z"
   },
   {
    "duration": 190,
    "start_time": "2022-11-06T21:37:05.164Z"
   },
   {
    "duration": 1437,
    "start_time": "2022-11-06T21:37:05.356Z"
   },
   {
    "duration": 216,
    "start_time": "2022-11-06T21:37:06.795Z"
   },
   {
    "duration": 204,
    "start_time": "2022-11-06T21:37:38.394Z"
   },
   {
    "duration": 274,
    "start_time": "2022-11-06T21:38:42.047Z"
   },
   {
    "duration": 230,
    "start_time": "2022-11-06T21:38:54.514Z"
   },
   {
    "duration": 94,
    "start_time": "2022-11-06T21:39:10.817Z"
   },
   {
    "duration": 17,
    "start_time": "2022-11-06T21:40:36.619Z"
   },
   {
    "duration": 11,
    "start_time": "2022-11-06T21:41:10.937Z"
   },
   {
    "duration": 9,
    "start_time": "2022-11-06T21:41:21.586Z"
   },
   {
    "duration": 530,
    "start_time": "2022-11-06T21:41:27.393Z"
   },
   {
    "duration": 1588,
    "start_time": "2022-11-06T21:41:59.600Z"
   },
   {
    "duration": 132,
    "start_time": "2022-11-06T21:42:43.498Z"
   },
   {
    "duration": 43,
    "start_time": "2022-11-06T21:42:48.757Z"
   },
   {
    "duration": 19,
    "start_time": "2022-11-06T21:43:06.808Z"
   },
   {
    "duration": 171,
    "start_time": "2022-11-06T21:44:22.104Z"
   },
   {
    "duration": 8,
    "start_time": "2022-11-06T21:44:36.257Z"
   },
   {
    "duration": 196,
    "start_time": "2022-11-06T21:44:46.946Z"
   },
   {
    "duration": 224,
    "start_time": "2022-11-06T21:45:02.984Z"
   },
   {
    "duration": 15,
    "start_time": "2022-11-06T21:45:51.030Z"
   },
   {
    "duration": 15,
    "start_time": "2022-11-06T21:46:16.506Z"
   },
   {
    "duration": 15,
    "start_time": "2022-11-06T21:46:20.319Z"
   },
   {
    "duration": 49,
    "start_time": "2022-11-06T21:47:12.980Z"
   },
   {
    "duration": 235,
    "start_time": "2022-11-06T21:47:17.377Z"
   },
   {
    "duration": 112,
    "start_time": "2022-11-06T21:49:47.309Z"
   },
   {
    "duration": 107,
    "start_time": "2022-11-06T21:49:53.706Z"
   },
   {
    "duration": 40,
    "start_time": "2022-11-06T21:50:27.576Z"
   },
   {
    "duration": 224,
    "start_time": "2022-11-06T21:50:31.375Z"
   },
   {
    "duration": 269,
    "start_time": "2022-11-06T21:50:43.838Z"
   },
   {
    "duration": 218,
    "start_time": "2022-11-06T21:50:59.748Z"
   },
   {
    "duration": 47,
    "start_time": "2022-11-06T21:51:20.994Z"
   },
   {
    "duration": 249,
    "start_time": "2022-11-06T21:51:28.736Z"
   },
   {
    "duration": 47,
    "start_time": "2022-11-06T21:51:36.929Z"
   },
   {
    "duration": 218,
    "start_time": "2022-11-06T21:51:44.749Z"
   },
   {
    "duration": 278,
    "start_time": "2022-11-06T21:51:48.810Z"
   },
   {
    "duration": 21,
    "start_time": "2022-11-06T21:52:06.599Z"
   },
   {
    "duration": 236,
    "start_time": "2022-11-06T21:59:02.832Z"
   },
   {
    "duration": 360,
    "start_time": "2022-11-06T21:59:34.603Z"
   },
   {
    "duration": 248,
    "start_time": "2022-11-06T21:59:53.523Z"
   },
   {
    "duration": 254,
    "start_time": "2022-11-06T22:00:02.334Z"
   },
   {
    "duration": 252,
    "start_time": "2022-11-06T22:00:07.913Z"
   },
   {
    "duration": 250,
    "start_time": "2022-11-06T22:00:13.047Z"
   },
   {
    "duration": 274,
    "start_time": "2022-11-06T22:00:17.052Z"
   },
   {
    "duration": 251,
    "start_time": "2022-11-06T22:00:23.223Z"
   },
   {
    "duration": 385,
    "start_time": "2022-11-06T22:01:01.779Z"
   },
   {
    "duration": 236,
    "start_time": "2022-11-06T22:01:39.714Z"
   },
   {
    "duration": 255,
    "start_time": "2022-11-06T22:01:48.304Z"
   },
   {
    "duration": 253,
    "start_time": "2022-11-06T22:02:01.180Z"
   },
   {
    "duration": 258,
    "start_time": "2022-11-06T22:02:05.348Z"
   },
   {
    "duration": 260,
    "start_time": "2022-11-06T22:02:12.569Z"
   },
   {
    "duration": 367,
    "start_time": "2022-11-06T22:02:26.753Z"
   },
   {
    "duration": 251,
    "start_time": "2022-11-06T22:02:32.806Z"
   },
   {
    "duration": 22,
    "start_time": "2022-11-06T22:02:40.282Z"
   },
   {
    "duration": 22,
    "start_time": "2022-11-06T22:02:45.744Z"
   },
   {
    "duration": 23,
    "start_time": "2022-11-06T22:02:52.781Z"
   },
   {
    "duration": 251,
    "start_time": "2022-11-06T22:02:56.194Z"
   },
   {
    "duration": 251,
    "start_time": "2022-11-06T22:03:04.359Z"
   },
   {
    "duration": 267,
    "start_time": "2022-11-06T22:10:20.423Z"
   },
   {
    "duration": 365,
    "start_time": "2022-11-06T22:11:18.377Z"
   },
   {
    "duration": 241,
    "start_time": "2022-11-06T22:11:24.082Z"
   },
   {
    "duration": 247,
    "start_time": "2022-11-06T22:11:33.736Z"
   },
   {
    "duration": 239,
    "start_time": "2022-11-06T22:11:38.326Z"
   },
   {
    "duration": 284,
    "start_time": "2022-11-06T22:12:18.930Z"
   },
   {
    "duration": 241,
    "start_time": "2022-11-06T22:12:25.509Z"
   },
   {
    "duration": 228,
    "start_time": "2022-11-06T22:12:35.284Z"
   },
   {
    "duration": 357,
    "start_time": "2022-11-06T22:12:42.485Z"
   },
   {
    "duration": 51,
    "start_time": "2022-11-06T22:16:15.399Z"
   },
   {
    "duration": 42,
    "start_time": "2022-11-06T22:16:39.682Z"
   },
   {
    "duration": 30,
    "start_time": "2022-11-06T22:16:54.225Z"
   },
   {
    "duration": 1916,
    "start_time": "2022-11-06T22:17:13.859Z"
   },
   {
    "duration": 1040,
    "start_time": "2022-11-06T22:17:15.777Z"
   },
   {
    "duration": 49,
    "start_time": "2022-11-06T22:17:16.819Z"
   },
   {
    "duration": 19,
    "start_time": "2022-11-06T22:17:16.870Z"
   },
   {
    "duration": 17,
    "start_time": "2022-11-06T22:17:16.890Z"
   },
   {
    "duration": 31,
    "start_time": "2022-11-06T22:17:16.908Z"
   },
   {
    "duration": 11,
    "start_time": "2022-11-06T22:17:16.941Z"
   },
   {
    "duration": 4,
    "start_time": "2022-11-06T22:17:16.954Z"
   },
   {
    "duration": 9,
    "start_time": "2022-11-06T22:17:16.959Z"
   },
   {
    "duration": 17,
    "start_time": "2022-11-06T22:17:16.970Z"
   },
   {
    "duration": 14,
    "start_time": "2022-11-06T22:17:16.989Z"
   },
   {
    "duration": 28,
    "start_time": "2022-11-06T22:17:17.004Z"
   },
   {
    "duration": 5,
    "start_time": "2022-11-06T22:17:17.034Z"
   },
   {
    "duration": 6,
    "start_time": "2022-11-06T22:17:17.040Z"
   },
   {
    "duration": 7,
    "start_time": "2022-11-06T22:17:17.047Z"
   },
   {
    "duration": 9,
    "start_time": "2022-11-06T22:17:17.055Z"
   },
   {
    "duration": 9,
    "start_time": "2022-11-06T22:17:17.066Z"
   },
   {
    "duration": 10,
    "start_time": "2022-11-06T22:17:17.077Z"
   },
   {
    "duration": 35,
    "start_time": "2022-11-06T22:17:17.088Z"
   },
   {
    "duration": 5,
    "start_time": "2022-11-06T22:17:17.125Z"
   },
   {
    "duration": 11,
    "start_time": "2022-11-06T22:17:17.132Z"
   },
   {
    "duration": 5,
    "start_time": "2022-11-06T22:17:17.145Z"
   },
   {
    "duration": 6,
    "start_time": "2022-11-06T22:17:17.151Z"
   },
   {
    "duration": 8,
    "start_time": "2022-11-06T22:17:17.158Z"
   },
   {
    "duration": 7,
    "start_time": "2022-11-06T22:17:17.167Z"
   },
   {
    "duration": 7,
    "start_time": "2022-11-06T22:17:17.176Z"
   },
   {
    "duration": 39,
    "start_time": "2022-11-06T22:17:17.184Z"
   },
   {
    "duration": 7,
    "start_time": "2022-11-06T22:17:17.228Z"
   },
   {
    "duration": 11,
    "start_time": "2022-11-06T22:17:17.237Z"
   },
   {
    "duration": 20,
    "start_time": "2022-11-06T22:17:17.250Z"
   },
   {
    "duration": 5,
    "start_time": "2022-11-06T22:17:17.272Z"
   },
   {
    "duration": 8,
    "start_time": "2022-11-06T22:17:17.278Z"
   },
   {
    "duration": 37,
    "start_time": "2022-11-06T22:17:17.288Z"
   },
   {
    "duration": 4,
    "start_time": "2022-11-06T22:17:17.327Z"
   },
   {
    "duration": 8,
    "start_time": "2022-11-06T22:17:17.332Z"
   },
   {
    "duration": 5,
    "start_time": "2022-11-06T22:17:17.341Z"
   },
   {
    "duration": 6,
    "start_time": "2022-11-06T22:17:17.347Z"
   },
   {
    "duration": 15,
    "start_time": "2022-11-06T22:17:17.354Z"
   },
   {
    "duration": 348,
    "start_time": "2022-11-06T22:17:17.370Z"
   },
   {
    "duration": 280,
    "start_time": "2022-11-06T22:17:17.721Z"
   },
   {
    "duration": 21,
    "start_time": "2022-11-06T22:17:18.002Z"
   },
   {
    "duration": 288,
    "start_time": "2022-11-06T22:17:18.024Z"
   },
   {
    "duration": 15,
    "start_time": "2022-11-06T22:17:18.314Z"
   },
   {
    "duration": 318,
    "start_time": "2022-11-06T22:17:18.330Z"
   },
   {
    "duration": 1222,
    "start_time": "2022-11-06T22:17:18.650Z"
   },
   {
    "duration": 13,
    "start_time": "2022-11-06T22:17:19.874Z"
   },
   {
    "duration": 211,
    "start_time": "2022-11-06T22:17:19.888Z"
   },
   {
    "duration": 1465,
    "start_time": "2022-11-06T22:17:20.101Z"
   },
   {
    "duration": 256,
    "start_time": "2022-11-06T22:17:21.568Z"
   },
   {
    "duration": 475,
    "start_time": "2022-11-06T22:18:54.535Z"
   },
   {
    "duration": 569,
    "start_time": "2022-11-06T22:19:02.831Z"
   },
   {
    "duration": 258,
    "start_time": "2022-11-06T22:19:08.972Z"
   },
   {
    "duration": 242,
    "start_time": "2022-11-06T22:19:19.661Z"
   },
   {
    "duration": 239,
    "start_time": "2022-11-06T22:19:27.952Z"
   },
   {
    "duration": 241,
    "start_time": "2022-11-06T22:19:33.397Z"
   },
   {
    "duration": 227,
    "start_time": "2022-11-06T22:19:40.774Z"
   },
   {
    "duration": 319,
    "start_time": "2022-11-06T22:19:54.758Z"
   },
   {
    "duration": 228,
    "start_time": "2022-11-06T22:20:25.917Z"
   },
   {
    "duration": 227,
    "start_time": "2022-11-06T22:20:33.823Z"
   },
   {
    "duration": 93,
    "start_time": "2022-11-06T22:21:48.501Z"
   },
   {
    "duration": 9,
    "start_time": "2022-11-06T22:22:05.607Z"
   },
   {
    "duration": 67,
    "start_time": "2022-11-06T22:22:18.161Z"
   },
   {
    "duration": 8,
    "start_time": "2022-11-06T22:27:51.235Z"
   },
   {
    "duration": 91,
    "start_time": "2022-11-06T22:27:58.402Z"
   },
   {
    "duration": 108,
    "start_time": "2022-11-06T22:28:25.823Z"
   },
   {
    "duration": 88,
    "start_time": "2022-11-06T22:28:30.866Z"
   },
   {
    "duration": 103,
    "start_time": "2022-11-06T22:28:41.773Z"
   },
   {
    "duration": 108,
    "start_time": "2022-11-06T22:29:08.739Z"
   },
   {
    "duration": 24,
    "start_time": "2022-11-06T22:31:07.137Z"
   },
   {
    "duration": 11,
    "start_time": "2022-11-06T22:31:17.564Z"
   },
   {
    "duration": 26,
    "start_time": "2022-11-06T22:31:52.837Z"
   },
   {
    "duration": 17,
    "start_time": "2022-11-06T22:32:00.936Z"
   },
   {
    "duration": 17,
    "start_time": "2022-11-06T22:32:14.990Z"
   },
   {
    "duration": 226,
    "start_time": "2022-11-06T22:41:44.797Z"
   },
   {
    "duration": 148,
    "start_time": "2022-11-06T22:42:39.410Z"
   },
   {
    "duration": 151,
    "start_time": "2022-11-06T22:43:10.367Z"
   },
   {
    "duration": 147,
    "start_time": "2022-11-06T22:43:15.263Z"
   },
   {
    "duration": 271,
    "start_time": "2022-11-06T22:43:41.212Z"
   },
   {
    "duration": 284,
    "start_time": "2022-11-06T22:43:55.834Z"
   },
   {
    "duration": 274,
    "start_time": "2022-11-06T22:43:58.011Z"
   },
   {
    "duration": 294,
    "start_time": "2022-11-06T22:44:18.996Z"
   },
   {
    "duration": 50,
    "start_time": "2022-11-06T22:45:10.119Z"
   },
   {
    "duration": 75,
    "start_time": "2022-11-06T22:45:15.012Z"
   },
   {
    "duration": 387,
    "start_time": "2022-11-06T22:45:19.044Z"
   },
   {
    "duration": 276,
    "start_time": "2022-11-06T22:45:56.929Z"
   },
   {
    "duration": 283,
    "start_time": "2022-11-06T22:48:54.151Z"
   },
   {
    "duration": 316,
    "start_time": "2022-11-06T22:49:25.622Z"
   },
   {
    "duration": 296,
    "start_time": "2022-11-06T22:49:46.847Z"
   },
   {
    "duration": 291,
    "start_time": "2022-11-06T22:55:43.146Z"
   },
   {
    "duration": 279,
    "start_time": "2022-11-06T22:56:51.711Z"
   },
   {
    "duration": 386,
    "start_time": "2022-11-06T22:57:00.840Z"
   },
   {
    "duration": 278,
    "start_time": "2022-11-06T22:58:45.878Z"
   },
   {
    "duration": 382,
    "start_time": "2022-11-06T23:03:03.395Z"
   },
   {
    "duration": 11,
    "start_time": "2022-11-06T23:03:36.530Z"
   },
   {
    "duration": 365,
    "start_time": "2022-11-06T23:03:56.273Z"
   },
   {
    "duration": 410,
    "start_time": "2022-11-06T23:04:25.381Z"
   },
   {
    "duration": 386,
    "start_time": "2022-11-06T23:04:31.320Z"
   },
   {
    "duration": 404,
    "start_time": "2022-11-06T23:04:48.547Z"
   },
   {
    "duration": 390,
    "start_time": "2022-11-06T23:05:34.929Z"
   },
   {
    "duration": 11,
    "start_time": "2022-11-06T23:07:20.145Z"
   },
   {
    "duration": 12,
    "start_time": "2022-11-06T23:07:26.677Z"
   },
   {
    "duration": 1914,
    "start_time": "2022-11-06T23:09:25.961Z"
   },
   {
    "duration": 1085,
    "start_time": "2022-11-06T23:09:27.877Z"
   },
   {
    "duration": 58,
    "start_time": "2022-11-06T23:09:28.965Z"
   },
   {
    "duration": 17,
    "start_time": "2022-11-06T23:09:29.025Z"
   },
   {
    "duration": 17,
    "start_time": "2022-11-06T23:09:29.044Z"
   },
   {
    "duration": 48,
    "start_time": "2022-11-06T23:09:29.062Z"
   },
   {
    "duration": 38,
    "start_time": "2022-11-06T23:09:29.112Z"
   },
   {
    "duration": 29,
    "start_time": "2022-11-06T23:09:29.152Z"
   },
   {
    "duration": 21,
    "start_time": "2022-11-06T23:09:29.183Z"
   },
   {
    "duration": 37,
    "start_time": "2022-11-06T23:09:29.206Z"
   },
   {
    "duration": 33,
    "start_time": "2022-11-06T23:09:29.244Z"
   },
   {
    "duration": 31,
    "start_time": "2022-11-06T23:09:29.279Z"
   },
   {
    "duration": 20,
    "start_time": "2022-11-06T23:09:29.312Z"
   },
   {
    "duration": 27,
    "start_time": "2022-11-06T23:09:29.333Z"
   },
   {
    "duration": 21,
    "start_time": "2022-11-06T23:09:29.361Z"
   },
   {
    "duration": 33,
    "start_time": "2022-11-06T23:09:29.384Z"
   },
   {
    "duration": 9,
    "start_time": "2022-11-06T23:09:29.419Z"
   },
   {
    "duration": 21,
    "start_time": "2022-11-06T23:09:29.429Z"
   },
   {
    "duration": 38,
    "start_time": "2022-11-06T23:09:29.451Z"
   },
   {
    "duration": 21,
    "start_time": "2022-11-06T23:09:29.490Z"
   },
   {
    "duration": 10,
    "start_time": "2022-11-06T23:09:29.513Z"
   },
   {
    "duration": 8,
    "start_time": "2022-11-06T23:09:29.524Z"
   },
   {
    "duration": 12,
    "start_time": "2022-11-06T23:09:29.533Z"
   },
   {
    "duration": 22,
    "start_time": "2022-11-06T23:09:29.546Z"
   },
   {
    "duration": 33,
    "start_time": "2022-11-06T23:09:29.570Z"
   },
   {
    "duration": 32,
    "start_time": "2022-11-06T23:09:29.605Z"
   },
   {
    "duration": 24,
    "start_time": "2022-11-06T23:09:29.638Z"
   },
   {
    "duration": 9,
    "start_time": "2022-11-06T23:09:29.666Z"
   },
   {
    "duration": 12,
    "start_time": "2022-11-06T23:09:29.677Z"
   },
   {
    "duration": 45,
    "start_time": "2022-11-06T23:09:29.690Z"
   },
   {
    "duration": 5,
    "start_time": "2022-11-06T23:09:29.736Z"
   },
   {
    "duration": 22,
    "start_time": "2022-11-06T23:09:29.743Z"
   },
   {
    "duration": 39,
    "start_time": "2022-11-06T23:09:29.766Z"
   },
   {
    "duration": 24,
    "start_time": "2022-11-06T23:09:29.807Z"
   },
   {
    "duration": 27,
    "start_time": "2022-11-06T23:09:29.832Z"
   },
   {
    "duration": 25,
    "start_time": "2022-11-06T23:09:29.861Z"
   },
   {
    "duration": 26,
    "start_time": "2022-11-06T23:09:29.888Z"
   },
   {
    "duration": 48,
    "start_time": "2022-11-06T23:09:29.916Z"
   },
   {
    "duration": 339,
    "start_time": "2022-11-06T23:09:29.966Z"
   },
   {
    "duration": 297,
    "start_time": "2022-11-06T23:09:30.307Z"
   },
   {
    "duration": 21,
    "start_time": "2022-11-06T23:09:30.606Z"
   },
   {
    "duration": 300,
    "start_time": "2022-11-06T23:09:30.629Z"
   },
   {
    "duration": 11,
    "start_time": "2022-11-06T23:09:30.931Z"
   },
   {
    "duration": 347,
    "start_time": "2022-11-06T23:09:30.943Z"
   },
   {
    "duration": 1077,
    "start_time": "2022-11-06T23:09:31.292Z"
   },
   {
    "duration": 12,
    "start_time": "2022-11-06T23:09:32.371Z"
   },
   {
    "duration": 183,
    "start_time": "2022-11-06T23:09:32.384Z"
   },
   {
    "duration": 1432,
    "start_time": "2022-11-06T23:09:32.569Z"
   },
   {
    "duration": 230,
    "start_time": "2022-11-06T23:09:34.003Z"
   },
   {
    "duration": 59,
    "start_time": "2022-11-06T23:09:34.234Z"
   },
   {
    "duration": 302,
    "start_time": "2022-11-06T23:09:34.295Z"
   },
   {
    "duration": 300,
    "start_time": "2022-11-06T23:09:34.599Z"
   },
   {
    "duration": 389,
    "start_time": "2022-11-06T23:09:34.901Z"
   },
   {
    "duration": 285,
    "start_time": "2022-11-06T23:09:35.292Z"
   },
   {
    "duration": 14,
    "start_time": "2022-11-06T23:09:35.579Z"
   },
   {
    "duration": 51301,
    "start_time": "2022-11-06T23:09:35.594Z"
   },
   {
    "duration": 0,
    "start_time": "2022-11-06T23:10:26.897Z"
   },
   {
    "duration": 10,
    "start_time": "2022-11-06T23:10:34.685Z"
   },
   {
    "duration": 186,
    "start_time": "2022-11-06T23:10:53.549Z"
   },
   {
    "duration": 49,
    "start_time": "2022-11-06T23:13:53.019Z"
   },
   {
    "duration": 47,
    "start_time": "2022-11-06T23:14:06.848Z"
   },
   {
    "duration": 22,
    "start_time": "2022-11-06T23:14:16.070Z"
   },
   {
    "duration": 12,
    "start_time": "2022-11-06T23:14:27.172Z"
   },
   {
    "duration": 652,
    "start_time": "2022-11-06T23:14:31.124Z"
   },
   {
    "duration": 186,
    "start_time": "2022-11-06T23:14:37.388Z"
   },
   {
    "duration": 181,
    "start_time": "2022-11-06T23:14:50.730Z"
   },
   {
    "duration": 15,
    "start_time": "2022-11-06T23:15:17.982Z"
   },
   {
    "duration": 182,
    "start_time": "2022-11-06T23:15:20.358Z"
   },
   {
    "duration": 176,
    "start_time": "2022-11-06T23:15:27.790Z"
   },
   {
    "duration": 3,
    "start_time": "2022-11-06T23:15:52.956Z"
   },
   {
    "duration": 41,
    "start_time": "2022-11-06T23:16:04.441Z"
   },
   {
    "duration": 186,
    "start_time": "2022-11-06T23:16:12.973Z"
   },
   {
    "duration": 188,
    "start_time": "2022-11-06T23:16:36.747Z"
   },
   {
    "duration": 183,
    "start_time": "2022-11-06T23:16:53.514Z"
   },
   {
    "duration": 181,
    "start_time": "2022-11-06T23:17:06.426Z"
   },
   {
    "duration": 184,
    "start_time": "2022-11-06T23:20:53.230Z"
   },
   {
    "duration": 182,
    "start_time": "2022-11-06T23:30:47.564Z"
   },
   {
    "duration": 183,
    "start_time": "2022-11-06T23:30:52.508Z"
   },
   {
    "duration": 808,
    "start_time": "2022-11-06T23:31:15.916Z"
   },
   {
    "duration": 212,
    "start_time": "2022-11-06T23:31:22.112Z"
   },
   {
    "duration": 322,
    "start_time": "2022-11-06T23:31:36.365Z"
   },
   {
    "duration": 49,
    "start_time": "2022-11-06T23:33:06.283Z"
   },
   {
    "duration": 46,
    "start_time": "2022-11-06T23:33:15.683Z"
   },
   {
    "duration": 40,
    "start_time": "2022-11-06T23:33:28.970Z"
   },
   {
    "duration": 47,
    "start_time": "2022-11-06T23:33:34.627Z"
   },
   {
    "duration": 43,
    "start_time": "2022-11-06T23:33:35.219Z"
   },
   {
    "duration": 46,
    "start_time": "2022-11-06T23:33:35.422Z"
   },
   {
    "duration": 42,
    "start_time": "2022-11-06T23:33:35.603Z"
   },
   {
    "duration": 44,
    "start_time": "2022-11-06T23:33:35.799Z"
   },
   {
    "duration": 47,
    "start_time": "2022-11-06T23:33:36.487Z"
   },
   {
    "duration": 42,
    "start_time": "2022-11-06T23:33:36.687Z"
   },
   {
    "duration": 324,
    "start_time": "2022-11-06T23:33:40.754Z"
   },
   {
    "duration": 353,
    "start_time": "2022-11-06T23:33:48.522Z"
   },
   {
    "duration": 368,
    "start_time": "2022-11-06T23:34:25.669Z"
   },
   {
    "duration": 3,
    "start_time": "2022-11-06T23:35:16.749Z"
   },
   {
    "duration": 18,
    "start_time": "2022-11-06T23:35:27.134Z"
   },
   {
    "duration": 3,
    "start_time": "2022-11-06T23:36:46.085Z"
   },
   {
    "duration": 40,
    "start_time": "2022-11-06T23:40:22.560Z"
   },
   {
    "duration": 22,
    "start_time": "2022-11-06T23:40:31.152Z"
   },
   {
    "duration": 22,
    "start_time": "2022-11-06T23:41:02.162Z"
   },
   {
    "duration": 24,
    "start_time": "2022-11-06T23:41:16.157Z"
   },
   {
    "duration": 27,
    "start_time": "2022-11-06T23:41:49.537Z"
   },
   {
    "duration": 24,
    "start_time": "2022-11-06T23:42:35.879Z"
   },
   {
    "duration": 24,
    "start_time": "2022-11-06T23:42:39.458Z"
   },
   {
    "duration": 360,
    "start_time": "2022-11-06T23:45:02.792Z"
   },
   {
    "duration": 355,
    "start_time": "2022-11-06T23:45:12.276Z"
   },
   {
    "duration": 22,
    "start_time": "2022-11-06T23:46:00.126Z"
   },
   {
    "duration": 656,
    "start_time": "2022-11-06T23:46:38.079Z"
   },
   {
    "duration": 44,
    "start_time": "2022-11-06T23:47:25.423Z"
   },
   {
    "duration": 357,
    "start_time": "2022-11-06T23:47:31.242Z"
   },
   {
    "duration": 30,
    "start_time": "2022-11-06T23:47:52.187Z"
   },
   {
    "duration": 27,
    "start_time": "2022-11-06T23:47:56.428Z"
   },
   {
    "duration": 374,
    "start_time": "2022-11-06T23:48:50.018Z"
   },
   {
    "duration": 134,
    "start_time": "2022-11-06T23:49:49.788Z"
   },
   {
    "duration": 384,
    "start_time": "2022-11-06T23:50:07.435Z"
   },
   {
    "duration": 371,
    "start_time": "2022-11-06T23:50:15.983Z"
   },
   {
    "duration": 389,
    "start_time": "2022-11-06T23:50:26.541Z"
   },
   {
    "duration": 361,
    "start_time": "2022-11-06T23:50:36.251Z"
   },
   {
    "duration": 373,
    "start_time": "2022-11-06T23:51:17.879Z"
   },
   {
    "duration": 27,
    "start_time": "2022-11-06T23:51:40.620Z"
   },
   {
    "duration": 404,
    "start_time": "2022-11-06T23:51:45.950Z"
   },
   {
    "duration": 390,
    "start_time": "2022-11-06T23:51:57.450Z"
   },
   {
    "duration": 352,
    "start_time": "2022-11-06T23:52:12.421Z"
   },
   {
    "duration": 345,
    "start_time": "2022-11-06T23:52:21.325Z"
   },
   {
    "duration": 2226,
    "start_time": "2022-11-07T07:53:52.244Z"
   },
   {
    "duration": 1252,
    "start_time": "2022-11-07T07:53:54.473Z"
   },
   {
    "duration": 115,
    "start_time": "2022-11-07T07:53:55.727Z"
   },
   {
    "duration": 20,
    "start_time": "2022-11-07T07:53:55.845Z"
   },
   {
    "duration": 13,
    "start_time": "2022-11-07T07:53:55.866Z"
   },
   {
    "duration": 25,
    "start_time": "2022-11-07T07:53:55.880Z"
   },
   {
    "duration": 22,
    "start_time": "2022-11-07T07:53:55.907Z"
   },
   {
    "duration": 10,
    "start_time": "2022-11-07T07:53:55.931Z"
   },
   {
    "duration": 12,
    "start_time": "2022-11-07T07:53:55.942Z"
   },
   {
    "duration": 23,
    "start_time": "2022-11-07T07:53:55.958Z"
   },
   {
    "duration": 24,
    "start_time": "2022-11-07T07:53:55.983Z"
   },
   {
    "duration": 25,
    "start_time": "2022-11-07T07:53:56.009Z"
   },
   {
    "duration": 10,
    "start_time": "2022-11-07T07:53:56.036Z"
   },
   {
    "duration": 11,
    "start_time": "2022-11-07T07:53:56.048Z"
   },
   {
    "duration": 10,
    "start_time": "2022-11-07T07:53:56.061Z"
   },
   {
    "duration": 9,
    "start_time": "2022-11-07T07:53:56.072Z"
   },
   {
    "duration": 12,
    "start_time": "2022-11-07T07:53:56.083Z"
   },
   {
    "duration": 9,
    "start_time": "2022-11-07T07:53:56.096Z"
   },
   {
    "duration": 26,
    "start_time": "2022-11-07T07:53:56.106Z"
   },
   {
    "duration": 13,
    "start_time": "2022-11-07T07:53:56.134Z"
   },
   {
    "duration": 8,
    "start_time": "2022-11-07T07:53:56.149Z"
   },
   {
    "duration": 6,
    "start_time": "2022-11-07T07:53:56.159Z"
   },
   {
    "duration": 10,
    "start_time": "2022-11-07T07:53:56.166Z"
   },
   {
    "duration": 7,
    "start_time": "2022-11-07T07:53:56.177Z"
   },
   {
    "duration": 8,
    "start_time": "2022-11-07T07:53:56.186Z"
   },
   {
    "duration": 7,
    "start_time": "2022-11-07T07:53:56.195Z"
   },
   {
    "duration": 23,
    "start_time": "2022-11-07T07:53:56.203Z"
   },
   {
    "duration": 13,
    "start_time": "2022-11-07T07:53:56.229Z"
   },
   {
    "duration": 9,
    "start_time": "2022-11-07T07:53:56.243Z"
   },
   {
    "duration": 21,
    "start_time": "2022-11-07T07:53:56.253Z"
   },
   {
    "duration": 5,
    "start_time": "2022-11-07T07:53:56.276Z"
   },
   {
    "duration": 11,
    "start_time": "2022-11-07T07:53:56.282Z"
   },
   {
    "duration": 17,
    "start_time": "2022-11-07T07:53:56.295Z"
   },
   {
    "duration": 5,
    "start_time": "2022-11-07T07:53:56.322Z"
   },
   {
    "duration": 7,
    "start_time": "2022-11-07T07:53:56.328Z"
   },
   {
    "duration": 6,
    "start_time": "2022-11-07T07:53:56.337Z"
   },
   {
    "duration": 6,
    "start_time": "2022-11-07T07:53:56.344Z"
   },
   {
    "duration": 15,
    "start_time": "2022-11-07T07:53:56.351Z"
   },
   {
    "duration": 353,
    "start_time": "2022-11-07T07:53:56.368Z"
   },
   {
    "duration": 315,
    "start_time": "2022-11-07T07:53:56.723Z"
   },
   {
    "duration": 14,
    "start_time": "2022-11-07T07:53:57.040Z"
   },
   {
    "duration": 317,
    "start_time": "2022-11-07T07:53:57.056Z"
   },
   {
    "duration": 11,
    "start_time": "2022-11-07T07:53:57.375Z"
   },
   {
    "duration": 362,
    "start_time": "2022-11-07T07:53:57.387Z"
   },
   {
    "duration": 1158,
    "start_time": "2022-11-07T07:53:57.751Z"
   },
   {
    "duration": 16,
    "start_time": "2022-11-07T07:53:58.911Z"
   },
   {
    "duration": 244,
    "start_time": "2022-11-07T07:53:58.929Z"
   },
   {
    "duration": 1464,
    "start_time": "2022-11-07T07:53:59.175Z"
   },
   {
    "duration": 243,
    "start_time": "2022-11-07T07:54:00.641Z"
   },
   {
    "duration": 68,
    "start_time": "2022-11-07T07:54:00.886Z"
   },
   {
    "duration": 345,
    "start_time": "2022-11-07T07:54:00.956Z"
   },
   {
    "duration": 343,
    "start_time": "2022-11-07T07:54:01.303Z"
   },
   {
    "duration": 411,
    "start_time": "2022-11-07T07:54:01.648Z"
   },
   {
    "duration": 312,
    "start_time": "2022-11-07T07:54:02.061Z"
   },
   {
    "duration": 14,
    "start_time": "2022-11-07T07:54:02.375Z"
   },
   {
    "duration": 393,
    "start_time": "2022-11-07T07:54:02.391Z"
   },
   {
    "duration": 393,
    "start_time": "2022-11-07T07:54:02.786Z"
   },
   {
    "duration": 492,
    "start_time": "2022-11-07T07:54:03.181Z"
   },
   {
    "duration": 374,
    "start_time": "2022-11-07T07:54:36.507Z"
   },
   {
    "duration": 375,
    "start_time": "2022-11-07T07:54:49.311Z"
   },
   {
    "duration": 3,
    "start_time": "2022-11-07T08:01:14.927Z"
   },
   {
    "duration": 2,
    "start_time": "2022-11-07T08:01:34.287Z"
   },
   {
    "duration": 131,
    "start_time": "2022-11-07T08:04:25.491Z"
   },
   {
    "duration": 1115,
    "start_time": "2022-11-07T08:05:27.244Z"
   },
   {
    "duration": 22,
    "start_time": "2022-11-07T08:05:59.961Z"
   },
   {
    "duration": 16,
    "start_time": "2022-11-07T08:09:11.639Z"
   },
   {
    "duration": 12,
    "start_time": "2022-11-07T08:09:31.427Z"
   },
   {
    "duration": 347,
    "start_time": "2022-11-07T08:09:42.426Z"
   },
   {
    "duration": 456,
    "start_time": "2022-11-07T08:09:49.791Z"
   },
   {
    "duration": 63,
    "start_time": "2022-11-07T08:10:46.507Z"
   },
   {
    "duration": 24,
    "start_time": "2022-11-07T08:13:50.024Z"
   },
   {
    "duration": 25,
    "start_time": "2022-11-07T08:13:58.727Z"
   },
   {
    "duration": 24,
    "start_time": "2022-11-07T08:14:05.703Z"
   },
   {
    "duration": 20,
    "start_time": "2022-11-07T08:14:14.047Z"
   },
   {
    "duration": 332,
    "start_time": "2022-11-07T08:14:29.063Z"
   },
   {
    "duration": 386,
    "start_time": "2022-11-07T08:15:02.844Z"
   },
   {
    "duration": 26,
    "start_time": "2022-11-07T08:16:49.143Z"
   },
   {
    "duration": 23,
    "start_time": "2022-11-07T08:16:58.597Z"
   },
   {
    "duration": 357,
    "start_time": "2022-11-07T08:17:02.774Z"
   },
   {
    "duration": 5,
    "start_time": "2022-11-07T08:24:32.897Z"
   },
   {
    "duration": 22,
    "start_time": "2022-11-07T08:24:42.221Z"
   },
   {
    "duration": 6,
    "start_time": "2022-11-07T08:24:47.638Z"
   },
   {
    "duration": 15,
    "start_time": "2022-11-07T08:25:25.624Z"
   },
   {
    "duration": 11,
    "start_time": "2022-11-07T08:31:01.636Z"
   },
   {
    "duration": 11,
    "start_time": "2022-11-07T08:31:04.903Z"
   },
   {
    "duration": 3,
    "start_time": "2022-11-07T08:31:11.871Z"
   },
   {
    "duration": 8,
    "start_time": "2022-11-07T08:31:14.789Z"
   },
   {
    "duration": 8,
    "start_time": "2022-11-07T08:31:46.789Z"
   },
   {
    "duration": 10,
    "start_time": "2022-11-07T08:32:17.291Z"
   },
   {
    "duration": 24,
    "start_time": "2022-11-07T08:32:38.933Z"
   },
   {
    "duration": 757,
    "start_time": "2022-11-07T08:32:57.964Z"
   },
   {
    "duration": 949,
    "start_time": "2022-11-07T08:33:03.429Z"
   },
   {
    "duration": 5,
    "start_time": "2022-11-07T08:33:15.444Z"
   },
   {
    "duration": 9,
    "start_time": "2022-11-07T08:33:25.121Z"
   },
   {
    "duration": 9,
    "start_time": "2022-11-07T08:33:34.555Z"
   },
   {
    "duration": 18,
    "start_time": "2022-11-07T09:24:37.752Z"
   },
   {
    "duration": 12,
    "start_time": "2022-11-07T09:25:18.334Z"
   },
   {
    "duration": 10,
    "start_time": "2022-11-07T09:25:47.775Z"
   },
   {
    "duration": 9,
    "start_time": "2022-11-07T09:25:55.391Z"
   },
   {
    "duration": 10,
    "start_time": "2022-11-07T09:29:09.997Z"
   },
   {
    "duration": 58,
    "start_time": "2022-11-07T09:29:21.520Z"
   },
   {
    "duration": 10,
    "start_time": "2022-11-07T09:29:25.307Z"
   },
   {
    "duration": 1984,
    "start_time": "2022-11-07T09:36:56.259Z"
   },
   {
    "duration": 1163,
    "start_time": "2022-11-07T09:36:58.248Z"
   },
   {
    "duration": 51,
    "start_time": "2022-11-07T09:36:59.413Z"
   },
   {
    "duration": 18,
    "start_time": "2022-11-07T09:36:59.466Z"
   },
   {
    "duration": 14,
    "start_time": "2022-11-07T09:36:59.485Z"
   },
   {
    "duration": 28,
    "start_time": "2022-11-07T09:36:59.501Z"
   },
   {
    "duration": 8,
    "start_time": "2022-11-07T09:36:59.531Z"
   },
   {
    "duration": 5,
    "start_time": "2022-11-07T09:36:59.541Z"
   },
   {
    "duration": 7,
    "start_time": "2022-11-07T09:36:59.548Z"
   },
   {
    "duration": 16,
    "start_time": "2022-11-07T09:36:59.557Z"
   },
   {
    "duration": 26,
    "start_time": "2022-11-07T09:36:59.575Z"
   },
   {
    "duration": 32,
    "start_time": "2022-11-07T09:36:59.603Z"
   },
   {
    "duration": 9,
    "start_time": "2022-11-07T09:36:59.636Z"
   },
   {
    "duration": 8,
    "start_time": "2022-11-07T09:36:59.646Z"
   },
   {
    "duration": 6,
    "start_time": "2022-11-07T09:36:59.656Z"
   },
   {
    "duration": 5,
    "start_time": "2022-11-07T09:36:59.663Z"
   },
   {
    "duration": 10,
    "start_time": "2022-11-07T09:36:59.670Z"
   },
   {
    "duration": 8,
    "start_time": "2022-11-07T09:36:59.682Z"
   },
   {
    "duration": 35,
    "start_time": "2022-11-07T09:36:59.691Z"
   },
   {
    "duration": 7,
    "start_time": "2022-11-07T09:36:59.728Z"
   },
   {
    "duration": 6,
    "start_time": "2022-11-07T09:36:59.736Z"
   },
   {
    "duration": 6,
    "start_time": "2022-11-07T09:36:59.744Z"
   },
   {
    "duration": 5,
    "start_time": "2022-11-07T09:36:59.752Z"
   },
   {
    "duration": 11,
    "start_time": "2022-11-07T09:36:59.759Z"
   },
   {
    "duration": 6,
    "start_time": "2022-11-07T09:36:59.772Z"
   },
   {
    "duration": 7,
    "start_time": "2022-11-07T09:36:59.780Z"
   },
   {
    "duration": 37,
    "start_time": "2022-11-07T09:36:59.789Z"
   },
   {
    "duration": 5,
    "start_time": "2022-11-07T09:36:59.831Z"
   },
   {
    "duration": 7,
    "start_time": "2022-11-07T09:36:59.837Z"
   },
   {
    "duration": 22,
    "start_time": "2022-11-07T09:36:59.846Z"
   },
   {
    "duration": 4,
    "start_time": "2022-11-07T09:36:59.870Z"
   },
   {
    "duration": 8,
    "start_time": "2022-11-07T09:36:59.876Z"
   },
   {
    "duration": 20,
    "start_time": "2022-11-07T09:36:59.885Z"
   },
   {
    "duration": 19,
    "start_time": "2022-11-07T09:36:59.907Z"
   },
   {
    "duration": 7,
    "start_time": "2022-11-07T09:36:59.928Z"
   },
   {
    "duration": 6,
    "start_time": "2022-11-07T09:36:59.936Z"
   },
   {
    "duration": 6,
    "start_time": "2022-11-07T09:36:59.944Z"
   },
   {
    "duration": 16,
    "start_time": "2022-11-07T09:36:59.952Z"
   },
   {
    "duration": 375,
    "start_time": "2022-11-07T09:36:59.970Z"
   },
   {
    "duration": 339,
    "start_time": "2022-11-07T09:37:00.346Z"
   },
   {
    "duration": 14,
    "start_time": "2022-11-07T09:37:00.687Z"
   },
   {
    "duration": 312,
    "start_time": "2022-11-07T09:37:00.703Z"
   },
   {
    "duration": 12,
    "start_time": "2022-11-07T09:37:01.022Z"
   },
   {
    "duration": 356,
    "start_time": "2022-11-07T09:37:01.035Z"
   },
   {
    "duration": 1153,
    "start_time": "2022-11-07T09:37:01.393Z"
   },
   {
    "duration": 13,
    "start_time": "2022-11-07T09:37:02.548Z"
   },
   {
    "duration": 193,
    "start_time": "2022-11-07T09:37:02.563Z"
   },
   {
    "duration": 1505,
    "start_time": "2022-11-07T09:37:02.758Z"
   },
   {
    "duration": 239,
    "start_time": "2022-11-07T09:37:04.265Z"
   },
   {
    "duration": 66,
    "start_time": "2022-11-07T09:37:04.505Z"
   },
   {
    "duration": 308,
    "start_time": "2022-11-07T09:37:04.573Z"
   },
   {
    "duration": 365,
    "start_time": "2022-11-07T09:37:04.883Z"
   },
   {
    "duration": 378,
    "start_time": "2022-11-07T09:37:05.250Z"
   },
   {
    "duration": 316,
    "start_time": "2022-11-07T09:37:05.630Z"
   },
   {
    "duration": 16,
    "start_time": "2022-11-07T09:37:05.947Z"
   },
   {
    "duration": 401,
    "start_time": "2022-11-07T09:37:05.965Z"
   },
   {
    "duration": 438,
    "start_time": "2022-11-07T09:37:06.368Z"
   },
   {
    "duration": 523,
    "start_time": "2022-11-07T09:37:06.807Z"
   },
   {
    "duration": 375,
    "start_time": "2022-11-07T09:37:07.331Z"
   },
   {
    "duration": 16,
    "start_time": "2022-11-07T09:37:07.707Z"
   },
   {
    "duration": 12,
    "start_time": "2022-11-07T09:37:07.727Z"
   },
   {
    "duration": 63,
    "start_time": "2022-11-07T10:02:53.168Z"
   },
   {
    "duration": 71,
    "start_time": "2022-11-07T10:07:56.923Z"
   },
   {
    "duration": 64,
    "start_time": "2022-11-07T10:08:39.069Z"
   },
   {
    "duration": 78,
    "start_time": "2022-11-07T10:09:33.421Z"
   },
   {
    "duration": 2193,
    "start_time": "2022-11-07T22:19:20.407Z"
   },
   {
    "duration": 1202,
    "start_time": "2022-11-07T22:19:32.405Z"
   },
   {
    "duration": 1863,
    "start_time": "2022-11-07T22:19:46.863Z"
   },
   {
    "duration": 1060,
    "start_time": "2022-11-07T22:19:48.728Z"
   },
   {
    "duration": 185,
    "start_time": "2022-11-07T22:19:49.790Z"
   },
   {
    "duration": 17,
    "start_time": "2022-11-07T22:19:49.977Z"
   },
   {
    "duration": 12,
    "start_time": "2022-11-07T22:19:49.995Z"
   },
   {
    "duration": 25,
    "start_time": "2022-11-07T22:19:50.008Z"
   },
   {
    "duration": 17,
    "start_time": "2022-11-07T22:19:50.034Z"
   },
   {
    "duration": 16,
    "start_time": "2022-11-07T22:19:50.052Z"
   },
   {
    "duration": 19,
    "start_time": "2022-11-07T22:19:50.070Z"
   },
   {
    "duration": 44,
    "start_time": "2022-11-07T22:19:50.091Z"
   },
   {
    "duration": 21,
    "start_time": "2022-11-07T22:19:50.136Z"
   },
   {
    "duration": 17,
    "start_time": "2022-11-07T22:19:50.158Z"
   },
   {
    "duration": 20,
    "start_time": "2022-11-07T22:19:50.176Z"
   },
   {
    "duration": 28,
    "start_time": "2022-11-07T22:19:50.197Z"
   },
   {
    "duration": 15,
    "start_time": "2022-11-07T22:19:50.227Z"
   },
   {
    "duration": 12,
    "start_time": "2022-11-07T22:19:50.243Z"
   },
   {
    "duration": 10,
    "start_time": "2022-11-07T22:19:50.257Z"
   },
   {
    "duration": 13,
    "start_time": "2022-11-07T22:19:50.269Z"
   },
   {
    "duration": 13,
    "start_time": "2022-11-07T22:19:50.284Z"
   },
   {
    "duration": 25,
    "start_time": "2022-11-07T22:19:50.299Z"
   },
   {
    "duration": 19,
    "start_time": "2022-11-07T22:19:50.325Z"
   },
   {
    "duration": 15,
    "start_time": "2022-11-07T22:19:50.345Z"
   },
   {
    "duration": 11,
    "start_time": "2022-11-07T22:19:50.361Z"
   },
   {
    "duration": 14,
    "start_time": "2022-11-07T22:19:50.373Z"
   },
   {
    "duration": 18,
    "start_time": "2022-11-07T22:19:50.388Z"
   },
   {
    "duration": 17,
    "start_time": "2022-11-07T22:19:50.407Z"
   },
   {
    "duration": 11,
    "start_time": "2022-11-07T22:19:50.426Z"
   },
   {
    "duration": 5,
    "start_time": "2022-11-07T22:19:50.441Z"
   },
   {
    "duration": 7,
    "start_time": "2022-11-07T22:19:50.447Z"
   },
   {
    "duration": 23,
    "start_time": "2022-11-07T22:19:50.455Z"
   },
   {
    "duration": 4,
    "start_time": "2022-11-07T22:19:50.480Z"
   },
   {
    "duration": 10,
    "start_time": "2022-11-07T22:19:50.485Z"
   },
   {
    "duration": 15,
    "start_time": "2022-11-07T22:19:50.496Z"
   },
   {
    "duration": 19,
    "start_time": "2022-11-07T22:19:50.512Z"
   },
   {
    "duration": 5,
    "start_time": "2022-11-07T22:19:50.533Z"
   },
   {
    "duration": 12,
    "start_time": "2022-11-07T22:19:50.539Z"
   },
   {
    "duration": 7,
    "start_time": "2022-11-07T22:19:50.552Z"
   },
   {
    "duration": 13,
    "start_time": "2022-11-07T22:19:50.561Z"
   },
   {
    "duration": 316,
    "start_time": "2022-11-07T22:19:50.575Z"
   },
   {
    "duration": 281,
    "start_time": "2022-11-07T22:19:50.893Z"
   },
   {
    "duration": 14,
    "start_time": "2022-11-07T22:19:51.175Z"
   },
   {
    "duration": 293,
    "start_time": "2022-11-07T22:19:51.190Z"
   },
   {
    "duration": 9,
    "start_time": "2022-11-07T22:19:51.485Z"
   },
   {
    "duration": 329,
    "start_time": "2022-11-07T22:19:51.496Z"
   },
   {
    "duration": 1035,
    "start_time": "2022-11-07T22:19:51.827Z"
   },
   {
    "duration": 11,
    "start_time": "2022-11-07T22:19:52.863Z"
   },
   {
    "duration": 182,
    "start_time": "2022-11-07T22:19:52.875Z"
   },
   {
    "duration": 1424,
    "start_time": "2022-11-07T22:19:53.058Z"
   },
   {
    "duration": 247,
    "start_time": "2022-11-07T22:19:54.483Z"
   },
   {
    "duration": 70,
    "start_time": "2022-11-07T22:19:54.731Z"
   },
   {
    "duration": 292,
    "start_time": "2022-11-07T22:19:54.802Z"
   },
   {
    "duration": 342,
    "start_time": "2022-11-07T22:19:55.095Z"
   },
   {
    "duration": 345,
    "start_time": "2022-11-07T22:19:55.439Z"
   },
   {
    "duration": 278,
    "start_time": "2022-11-07T22:19:55.785Z"
   },
   {
    "duration": 13,
    "start_time": "2022-11-07T22:19:56.064Z"
   },
   {
    "duration": 350,
    "start_time": "2022-11-07T22:19:56.078Z"
   },
   {
    "duration": 353,
    "start_time": "2022-11-07T22:19:56.430Z"
   },
   {
    "duration": 446,
    "start_time": "2022-11-07T22:19:56.784Z"
   },
   {
    "duration": 327,
    "start_time": "2022-11-07T22:19:57.231Z"
   },
   {
    "duration": 8,
    "start_time": "2022-11-07T22:19:57.559Z"
   },
   {
    "duration": 15,
    "start_time": "2022-11-07T22:19:57.569Z"
   },
   {
    "duration": 359,
    "start_time": "2022-11-07T22:26:38.527Z"
   },
   {
    "duration": 405,
    "start_time": "2022-11-07T22:26:46.821Z"
   },
   {
    "duration": 323,
    "start_time": "2022-11-07T22:27:25.409Z"
   },
   {
    "duration": 4,
    "start_time": "2022-11-07T22:30:20.981Z"
   },
   {
    "duration": 6,
    "start_time": "2022-11-07T22:30:25.872Z"
   },
   {
    "duration": 5,
    "start_time": "2022-11-07T22:32:32.129Z"
   },
   {
    "duration": 1922,
    "start_time": "2022-11-07T22:32:40.281Z"
   },
   {
    "duration": 1025,
    "start_time": "2022-11-07T22:32:42.205Z"
   },
   {
    "duration": 51,
    "start_time": "2022-11-07T22:32:43.231Z"
   },
   {
    "duration": 18,
    "start_time": "2022-11-07T22:32:43.284Z"
   },
   {
    "duration": 13,
    "start_time": "2022-11-07T22:32:43.305Z"
   },
   {
    "duration": 34,
    "start_time": "2022-11-07T22:32:43.319Z"
   },
   {
    "duration": 7,
    "start_time": "2022-11-07T22:32:43.355Z"
   },
   {
    "duration": 9,
    "start_time": "2022-11-07T22:32:43.363Z"
   },
   {
    "duration": 8,
    "start_time": "2022-11-07T22:32:43.374Z"
   },
   {
    "duration": 19,
    "start_time": "2022-11-07T22:32:43.383Z"
   },
   {
    "duration": 14,
    "start_time": "2022-11-07T22:32:43.404Z"
   },
   {
    "duration": 23,
    "start_time": "2022-11-07T22:32:43.420Z"
   },
   {
    "duration": 7,
    "start_time": "2022-11-07T22:32:43.444Z"
   },
   {
    "duration": 18,
    "start_time": "2022-11-07T22:32:43.454Z"
   },
   {
    "duration": 9,
    "start_time": "2022-11-07T22:32:43.474Z"
   },
   {
    "duration": 8,
    "start_time": "2022-11-07T22:32:43.485Z"
   },
   {
    "duration": 6,
    "start_time": "2022-11-07T22:32:43.495Z"
   },
   {
    "duration": 7,
    "start_time": "2022-11-07T22:32:43.503Z"
   },
   {
    "duration": 13,
    "start_time": "2022-11-07T22:32:43.511Z"
   },
   {
    "duration": 23,
    "start_time": "2022-11-07T22:32:43.526Z"
   },
   {
    "duration": 15,
    "start_time": "2022-11-07T22:32:43.551Z"
   },
   {
    "duration": 13,
    "start_time": "2022-11-07T22:32:43.568Z"
   },
   {
    "duration": 19,
    "start_time": "2022-11-07T22:32:43.582Z"
   },
   {
    "duration": 13,
    "start_time": "2022-11-07T22:32:43.603Z"
   },
   {
    "duration": 18,
    "start_time": "2022-11-07T22:32:43.618Z"
   },
   {
    "duration": 17,
    "start_time": "2022-11-07T22:32:43.637Z"
   },
   {
    "duration": 18,
    "start_time": "2022-11-07T22:32:43.656Z"
   },
   {
    "duration": 7,
    "start_time": "2022-11-07T22:32:43.676Z"
   },
   {
    "duration": 9,
    "start_time": "2022-11-07T22:32:43.685Z"
   },
   {
    "duration": 31,
    "start_time": "2022-11-07T22:32:43.696Z"
   },
   {
    "duration": 4,
    "start_time": "2022-11-07T22:32:43.729Z"
   },
   {
    "duration": 5,
    "start_time": "2022-11-07T22:32:43.735Z"
   },
   {
    "duration": 19,
    "start_time": "2022-11-07T22:32:43.742Z"
   },
   {
    "duration": 7,
    "start_time": "2022-11-07T22:32:43.763Z"
   },
   {
    "duration": 7,
    "start_time": "2022-11-07T22:32:43.771Z"
   },
   {
    "duration": 7,
    "start_time": "2022-11-07T22:32:43.780Z"
   },
   {
    "duration": 7,
    "start_time": "2022-11-07T22:32:43.789Z"
   },
   {
    "duration": 7,
    "start_time": "2022-11-07T22:32:43.797Z"
   },
   {
    "duration": 18,
    "start_time": "2022-11-07T22:32:43.805Z"
   },
   {
    "duration": 328,
    "start_time": "2022-11-07T22:32:43.824Z"
   },
   {
    "duration": 315,
    "start_time": "2022-11-07T22:32:44.158Z"
   },
   {
    "duration": 14,
    "start_time": "2022-11-07T22:32:44.475Z"
   },
   {
    "duration": 295,
    "start_time": "2022-11-07T22:32:44.491Z"
   },
   {
    "duration": 12,
    "start_time": "2022-11-07T22:32:44.788Z"
   },
   {
    "duration": 328,
    "start_time": "2022-11-07T22:32:44.801Z"
   },
   {
    "duration": 1120,
    "start_time": "2022-11-07T22:32:45.130Z"
   },
   {
    "duration": 11,
    "start_time": "2022-11-07T22:32:46.251Z"
   },
   {
    "duration": 191,
    "start_time": "2022-11-07T22:32:46.264Z"
   },
   {
    "duration": 1459,
    "start_time": "2022-11-07T22:32:46.456Z"
   },
   {
    "duration": 246,
    "start_time": "2022-11-07T22:32:47.916Z"
   },
   {
    "duration": 56,
    "start_time": "2022-11-07T22:32:48.163Z"
   },
   {
    "duration": 315,
    "start_time": "2022-11-07T22:32:48.221Z"
   },
   {
    "duration": 384,
    "start_time": "2022-11-07T22:32:48.537Z"
   },
   {
    "duration": 286,
    "start_time": "2022-11-07T22:32:48.923Z"
   },
   {
    "duration": 300,
    "start_time": "2022-11-07T22:32:49.211Z"
   },
   {
    "duration": 12,
    "start_time": "2022-11-07T22:32:49.512Z"
   },
   {
    "duration": 355,
    "start_time": "2022-11-07T22:32:49.525Z"
   },
   {
    "duration": 398,
    "start_time": "2022-11-07T22:32:49.882Z"
   },
   {
    "duration": 487,
    "start_time": "2022-11-07T22:32:50.282Z"
   },
   {
    "duration": 4,
    "start_time": "2022-11-07T22:32:50.771Z"
   },
   {
    "duration": 471,
    "start_time": "2022-11-07T22:32:50.777Z"
   },
   {
    "duration": 9,
    "start_time": "2022-11-07T22:32:51.250Z"
   },
   {
    "duration": 18,
    "start_time": "2022-11-07T22:32:51.261Z"
   },
   {
    "duration": 2282,
    "start_time": "2023-05-22T10:12:40.254Z"
   },
   {
    "duration": 1297,
    "start_time": "2023-05-22T10:12:42.538Z"
   },
   {
    "duration": 174,
    "start_time": "2023-05-22T10:12:43.836Z"
   },
   {
    "duration": 25,
    "start_time": "2023-05-22T10:12:44.013Z"
   },
   {
    "duration": 17,
    "start_time": "2023-05-22T10:12:44.040Z"
   },
   {
    "duration": 33,
    "start_time": "2023-05-22T10:12:44.059Z"
   },
   {
    "duration": 10,
    "start_time": "2023-05-22T10:12:44.094Z"
   },
   {
    "duration": 6,
    "start_time": "2023-05-22T10:12:44.106Z"
   },
   {
    "duration": 6,
    "start_time": "2023-05-22T10:12:44.113Z"
   },
   {
    "duration": 47,
    "start_time": "2023-05-22T10:12:44.121Z"
   },
   {
    "duration": 16,
    "start_time": "2023-05-22T10:12:44.170Z"
   },
   {
    "duration": 16,
    "start_time": "2023-05-22T10:12:44.189Z"
   },
   {
    "duration": 12,
    "start_time": "2023-05-22T10:12:44.207Z"
   },
   {
    "duration": 36,
    "start_time": "2023-05-22T10:12:44.221Z"
   },
   {
    "duration": 14,
    "start_time": "2023-05-22T10:12:44.259Z"
   },
   {
    "duration": 16,
    "start_time": "2023-05-22T10:12:44.275Z"
   },
   {
    "duration": 7,
    "start_time": "2023-05-22T10:12:44.294Z"
   },
   {
    "duration": 10,
    "start_time": "2023-05-22T10:12:44.303Z"
   },
   {
    "duration": 6,
    "start_time": "2023-05-22T10:12:44.314Z"
   },
   {
    "duration": 30,
    "start_time": "2023-05-22T10:12:44.321Z"
   },
   {
    "duration": 5,
    "start_time": "2023-05-22T10:12:44.353Z"
   },
   {
    "duration": 7,
    "start_time": "2023-05-22T10:12:44.359Z"
   },
   {
    "duration": 10,
    "start_time": "2023-05-22T10:12:44.367Z"
   },
   {
    "duration": 8,
    "start_time": "2023-05-22T10:12:44.378Z"
   },
   {
    "duration": 14,
    "start_time": "2023-05-22T10:12:44.387Z"
   },
   {
    "duration": 15,
    "start_time": "2023-05-22T10:12:44.403Z"
   },
   {
    "duration": 11,
    "start_time": "2023-05-22T10:12:44.420Z"
   },
   {
    "duration": 6,
    "start_time": "2023-05-22T10:12:44.449Z"
   },
   {
    "duration": 9,
    "start_time": "2023-05-22T10:12:44.457Z"
   },
   {
    "duration": 21,
    "start_time": "2023-05-22T10:12:44.468Z"
   },
   {
    "duration": 4,
    "start_time": "2023-05-22T10:12:44.490Z"
   },
   {
    "duration": 8,
    "start_time": "2023-05-22T10:12:44.496Z"
   },
   {
    "duration": 10,
    "start_time": "2023-05-22T10:12:44.505Z"
   },
   {
    "duration": 34,
    "start_time": "2023-05-22T10:12:44.517Z"
   },
   {
    "duration": 4,
    "start_time": "2023-05-22T10:12:44.553Z"
   },
   {
    "duration": 5,
    "start_time": "2023-05-22T10:12:44.559Z"
   },
   {
    "duration": 7,
    "start_time": "2023-05-22T10:12:44.565Z"
   },
   {
    "duration": 8,
    "start_time": "2023-05-22T10:12:44.573Z"
   },
   {
    "duration": 20,
    "start_time": "2023-05-22T10:12:44.582Z"
   },
   {
    "duration": 372,
    "start_time": "2023-05-22T10:12:44.604Z"
   },
   {
    "duration": 312,
    "start_time": "2023-05-22T10:12:44.978Z"
   },
   {
    "duration": 15,
    "start_time": "2023-05-22T10:12:45.292Z"
   },
   {
    "duration": 327,
    "start_time": "2023-05-22T10:12:45.309Z"
   },
   {
    "duration": 20,
    "start_time": "2023-05-22T10:12:45.638Z"
   },
   {
    "duration": 355,
    "start_time": "2023-05-22T10:12:45.660Z"
   },
   {
    "duration": 1198,
    "start_time": "2023-05-22T10:12:46.017Z"
   },
   {
    "duration": 12,
    "start_time": "2023-05-22T10:12:47.216Z"
   },
   {
    "duration": 198,
    "start_time": "2023-05-22T10:12:47.230Z"
   },
   {
    "duration": 1633,
    "start_time": "2023-05-22T10:12:47.430Z"
   },
   {
    "duration": 261,
    "start_time": "2023-05-22T10:12:49.065Z"
   },
   {
    "duration": 72,
    "start_time": "2023-05-22T10:12:49.328Z"
   },
   {
    "duration": 342,
    "start_time": "2023-05-22T10:12:49.402Z"
   },
   {
    "duration": 354,
    "start_time": "2023-05-22T10:12:49.751Z"
   },
   {
    "duration": 420,
    "start_time": "2023-05-22T10:12:50.106Z"
   },
   {
    "duration": 324,
    "start_time": "2023-05-22T10:12:50.528Z"
   },
   {
    "duration": 13,
    "start_time": "2023-05-22T10:12:50.853Z"
   },
   {
    "duration": 408,
    "start_time": "2023-05-22T10:12:50.867Z"
   },
   {
    "duration": 413,
    "start_time": "2023-05-22T10:12:51.277Z"
   },
   {
    "duration": 532,
    "start_time": "2023-05-22T10:12:51.692Z"
   },
   {
    "duration": 4,
    "start_time": "2023-05-22T10:12:52.226Z"
   },
   {
    "duration": 418,
    "start_time": "2023-05-22T10:12:52.231Z"
   },
   {
    "duration": 11,
    "start_time": "2023-05-22T10:12:52.651Z"
   },
   {
    "duration": 10,
    "start_time": "2023-05-22T10:12:52.663Z"
   }
  ],
  "kernelspec": {
   "display_name": "Python 3 (ipykernel)",
   "language": "python",
   "name": "python3"
  },
  "language_info": {
   "codemirror_mode": {
    "name": "ipython",
    "version": 3
   },
   "file_extension": ".py",
   "mimetype": "text/x-python",
   "name": "python",
   "nbconvert_exporter": "python",
   "pygments_lexer": "ipython3",
   "version": "3.9.13"
  },
  "toc": {
   "base_numbering": 1,
   "nav_menu": {},
   "number_sections": true,
   "sideBar": true,
   "skip_h1_title": true,
   "title_cell": "Table of Contents",
   "title_sidebar": "Contents",
   "toc_cell": false,
   "toc_position": {},
   "toc_section_display": true,
   "toc_window_display": false
  }
 },
 "nbformat": 4,
 "nbformat_minor": 2
}
